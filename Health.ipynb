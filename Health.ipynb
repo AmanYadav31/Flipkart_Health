{
 "cells": [
  {
   "cell_type": "code",
   "execution_count": 1,
   "id": "5f7b748e",
   "metadata": {},
   "outputs": [],
   "source": [
    "import pandas as pd\n",
    "import numpy as np\n",
    "from sklearn.feature_selection import VarianceThreshold\n"
   ]
  },
  {
   "cell_type": "markdown",
   "id": "3b923b5d",
   "metadata": {},
   "source": [
    "## Features_dataset"
   ]
  },
  {
   "cell_type": "code",
   "execution_count": 2,
   "id": "519195e3",
   "metadata": {},
   "outputs": [],
   "source": [
    "df1 = pd.read_csv(\"dense_train.csv\")"
   ]
  },
  {
   "cell_type": "code",
   "execution_count": 3,
   "id": "e719a52f",
   "metadata": {},
   "outputs": [],
   "source": [
    "new_name = {'Unnamed: 0' : 'new_label'}"
   ]
  },
  {
   "cell_type": "code",
   "execution_count": 4,
   "id": "9819ab62",
   "metadata": {},
   "outputs": [],
   "source": [
    "df1.rename(columns=new_name,inplace=True)"
   ]
  },
  {
   "cell_type": "code",
   "execution_count": 5,
   "id": "7f54ef32",
   "metadata": {},
   "outputs": [],
   "source": [
    "unique_values = df1['new_label'].unique()"
   ]
  },
  {
   "cell_type": "code",
   "execution_count": 6,
   "id": "3925b3fc",
   "metadata": {},
   "outputs": [
    {
     "data": {
      "text/plain": [
       "array(['NCGC00178831-03', 'NCGC00166114-03', 'NCGC00263563-01', ...,\n",
       "       'NCGC00260828-01', 'NCGC00260687-01', 'NCGC00261465-01'],\n",
       "      dtype=object)"
      ]
     },
     "execution_count": 6,
     "metadata": {},
     "output_type": "execute_result"
    }
   ],
   "source": [
    "unique_values"
   ]
  },
  {
   "cell_type": "code",
   "execution_count": 7,
   "id": "c48589d9",
   "metadata": {},
   "outputs": [
    {
     "data": {
      "text/plain": [
       "Index(['new_label', 'AW', 'AWeight', 'Arto', 'BertzCT', 'Chi0', 'Chi1',\n",
       "       'Chi10', 'Chi2', 'Chi3',\n",
       "       ...\n",
       "       'W3D', 'W3DH', 'WNSA1', 'WNSA2', 'WNSA3', 'WPSA1', 'WPSA2', 'WPSA3',\n",
       "       'grav', 'rygr'],\n",
       "      dtype='object', length=802)"
      ]
     },
     "execution_count": 7,
     "metadata": {},
     "output_type": "execute_result"
    }
   ],
   "source": [
    "df1.columns"
   ]
  },
  {
   "cell_type": "code",
   "execution_count": 8,
   "id": "59e11dea",
   "metadata": {},
   "outputs": [],
   "source": [
    "#df1.drop(columns='new_label',inplace=True)\n",
    "model_results = np.zeros((12,647))"
   ]
  },
  {
   "cell_type": "markdown",
   "id": "bc8115fd",
   "metadata": {},
   "source": [
    "## Label dataset"
   ]
  },
  {
   "cell_type": "code",
   "execution_count": 10,
   "id": "c1c9d1a2",
   "metadata": {},
   "outputs": [],
   "source": [
    "df2 = pd.read_csv(\"labels_train.csv\")"
   ]
  },
  {
   "cell_type": "code",
   "execution_count": 11,
   "id": "230be542",
   "metadata": {},
   "outputs": [],
   "source": [
    "new_name = {'Unnamed: 0' : 'new_label'}"
   ]
  },
  {
   "cell_type": "code",
   "execution_count": 12,
   "id": "10df665c",
   "metadata": {},
   "outputs": [],
   "source": [
    "df2.rename(columns=new_name,inplace=True)"
   ]
  },
  {
   "cell_type": "code",
   "execution_count": 13,
   "id": "704b9f37",
   "metadata": {},
   "outputs": [
    {
     "data": {
      "text/html": [
       "<div>\n",
       "<style scoped>\n",
       "    .dataframe tbody tr th:only-of-type {\n",
       "        vertical-align: middle;\n",
       "    }\n",
       "\n",
       "    .dataframe tbody tr th {\n",
       "        vertical-align: top;\n",
       "    }\n",
       "\n",
       "    .dataframe thead th {\n",
       "        text-align: right;\n",
       "    }\n",
       "</style>\n",
       "<table border=\"1\" class=\"dataframe\">\n",
       "  <thead>\n",
       "    <tr style=\"text-align: right;\">\n",
       "      <th></th>\n",
       "      <th>new_label</th>\n",
       "      <th>NR.AhR</th>\n",
       "      <th>NR.AR</th>\n",
       "      <th>NR.AR.LBD</th>\n",
       "      <th>NR.Aromatase</th>\n",
       "      <th>NR.ER</th>\n",
       "      <th>NR.ER.LBD</th>\n",
       "      <th>NR.PPAR.gamma</th>\n",
       "      <th>SR.ARE</th>\n",
       "      <th>SR.ATAD5</th>\n",
       "      <th>SR.HSE</th>\n",
       "      <th>SR.MMP</th>\n",
       "      <th>SR.p53</th>\n",
       "    </tr>\n",
       "  </thead>\n",
       "  <tbody>\n",
       "    <tr>\n",
       "      <th>0</th>\n",
       "      <td>NCGC00178831-03</td>\n",
       "      <td>NaN</td>\n",
       "      <td>NaN</td>\n",
       "      <td>NaN</td>\n",
       "      <td>NaN</td>\n",
       "      <td>NaN</td>\n",
       "      <td>NaN</td>\n",
       "      <td>NaN</td>\n",
       "      <td>NaN</td>\n",
       "      <td>NaN</td>\n",
       "      <td>0.0</td>\n",
       "      <td>NaN</td>\n",
       "      <td>NaN</td>\n",
       "    </tr>\n",
       "    <tr>\n",
       "      <th>1</th>\n",
       "      <td>NCGC00166114-03</td>\n",
       "      <td>NaN</td>\n",
       "      <td>NaN</td>\n",
       "      <td>NaN</td>\n",
       "      <td>NaN</td>\n",
       "      <td>NaN</td>\n",
       "      <td>NaN</td>\n",
       "      <td>NaN</td>\n",
       "      <td>NaN</td>\n",
       "      <td>NaN</td>\n",
       "      <td>0.0</td>\n",
       "      <td>NaN</td>\n",
       "      <td>NaN</td>\n",
       "    </tr>\n",
       "    <tr>\n",
       "      <th>2</th>\n",
       "      <td>NCGC00263563-01</td>\n",
       "      <td>NaN</td>\n",
       "      <td>NaN</td>\n",
       "      <td>NaN</td>\n",
       "      <td>NaN</td>\n",
       "      <td>NaN</td>\n",
       "      <td>NaN</td>\n",
       "      <td>NaN</td>\n",
       "      <td>NaN</td>\n",
       "      <td>NaN</td>\n",
       "      <td>0.0</td>\n",
       "      <td>NaN</td>\n",
       "      <td>NaN</td>\n",
       "    </tr>\n",
       "    <tr>\n",
       "      <th>3</th>\n",
       "      <td>NCGC00013058-02</td>\n",
       "      <td>NaN</td>\n",
       "      <td>NaN</td>\n",
       "      <td>NaN</td>\n",
       "      <td>NaN</td>\n",
       "      <td>NaN</td>\n",
       "      <td>NaN</td>\n",
       "      <td>NaN</td>\n",
       "      <td>NaN</td>\n",
       "      <td>NaN</td>\n",
       "      <td>1.0</td>\n",
       "      <td>NaN</td>\n",
       "      <td>NaN</td>\n",
       "    </tr>\n",
       "    <tr>\n",
       "      <th>4</th>\n",
       "      <td>NCGC00167516-01</td>\n",
       "      <td>NaN</td>\n",
       "      <td>0.0</td>\n",
       "      <td>NaN</td>\n",
       "      <td>NaN</td>\n",
       "      <td>NaN</td>\n",
       "      <td>NaN</td>\n",
       "      <td>NaN</td>\n",
       "      <td>NaN</td>\n",
       "      <td>NaN</td>\n",
       "      <td>NaN</td>\n",
       "      <td>NaN</td>\n",
       "      <td>NaN</td>\n",
       "    </tr>\n",
       "    <tr>\n",
       "      <th>...</th>\n",
       "      <td>...</td>\n",
       "      <td>...</td>\n",
       "      <td>...</td>\n",
       "      <td>...</td>\n",
       "      <td>...</td>\n",
       "      <td>...</td>\n",
       "      <td>...</td>\n",
       "      <td>...</td>\n",
       "      <td>...</td>\n",
       "      <td>...</td>\n",
       "      <td>...</td>\n",
       "      <td>...</td>\n",
       "      <td>...</td>\n",
       "    </tr>\n",
       "    <tr>\n",
       "      <th>12055</th>\n",
       "      <td>NCGC00261292-01</td>\n",
       "      <td>0.0</td>\n",
       "      <td>0.0</td>\n",
       "      <td>0.0</td>\n",
       "      <td>0.0</td>\n",
       "      <td>0.0</td>\n",
       "      <td>0.0</td>\n",
       "      <td>0.0</td>\n",
       "      <td>0.0</td>\n",
       "      <td>0.0</td>\n",
       "      <td>0.0</td>\n",
       "      <td>0.0</td>\n",
       "      <td>0.0</td>\n",
       "    </tr>\n",
       "    <tr>\n",
       "      <th>12056</th>\n",
       "      <td>NCGC00261245-01</td>\n",
       "      <td>0.0</td>\n",
       "      <td>0.0</td>\n",
       "      <td>0.0</td>\n",
       "      <td>NaN</td>\n",
       "      <td>NaN</td>\n",
       "      <td>0.0</td>\n",
       "      <td>0.0</td>\n",
       "      <td>NaN</td>\n",
       "      <td>NaN</td>\n",
       "      <td>NaN</td>\n",
       "      <td>NaN</td>\n",
       "      <td>NaN</td>\n",
       "    </tr>\n",
       "    <tr>\n",
       "      <th>12057</th>\n",
       "      <td>NCGC00260828-01</td>\n",
       "      <td>0.0</td>\n",
       "      <td>0.0</td>\n",
       "      <td>0.0</td>\n",
       "      <td>0.0</td>\n",
       "      <td>0.0</td>\n",
       "      <td>0.0</td>\n",
       "      <td>0.0</td>\n",
       "      <td>0.0</td>\n",
       "      <td>0.0</td>\n",
       "      <td>0.0</td>\n",
       "      <td>0.0</td>\n",
       "      <td>0.0</td>\n",
       "    </tr>\n",
       "    <tr>\n",
       "      <th>12058</th>\n",
       "      <td>NCGC00260687-01</td>\n",
       "      <td>0.0</td>\n",
       "      <td>0.0</td>\n",
       "      <td>0.0</td>\n",
       "      <td>0.0</td>\n",
       "      <td>0.0</td>\n",
       "      <td>0.0</td>\n",
       "      <td>0.0</td>\n",
       "      <td>0.0</td>\n",
       "      <td>0.0</td>\n",
       "      <td>0.0</td>\n",
       "      <td>0.0</td>\n",
       "      <td>0.0</td>\n",
       "    </tr>\n",
       "    <tr>\n",
       "      <th>12059</th>\n",
       "      <td>NCGC00261465-01</td>\n",
       "      <td>0.0</td>\n",
       "      <td>0.0</td>\n",
       "      <td>0.0</td>\n",
       "      <td>0.0</td>\n",
       "      <td>NaN</td>\n",
       "      <td>0.0</td>\n",
       "      <td>0.0</td>\n",
       "      <td>0.0</td>\n",
       "      <td>0.0</td>\n",
       "      <td>0.0</td>\n",
       "      <td>0.0</td>\n",
       "      <td>0.0</td>\n",
       "    </tr>\n",
       "  </tbody>\n",
       "</table>\n",
       "<p>12060 rows × 13 columns</p>\n",
       "</div>"
      ],
      "text/plain": [
       "             new_label  NR.AhR  NR.AR  NR.AR.LBD  NR.Aromatase  NR.ER  \\\n",
       "0      NCGC00178831-03     NaN    NaN        NaN           NaN    NaN   \n",
       "1      NCGC00166114-03     NaN    NaN        NaN           NaN    NaN   \n",
       "2      NCGC00263563-01     NaN    NaN        NaN           NaN    NaN   \n",
       "3      NCGC00013058-02     NaN    NaN        NaN           NaN    NaN   \n",
       "4      NCGC00167516-01     NaN    0.0        NaN           NaN    NaN   \n",
       "...                ...     ...    ...        ...           ...    ...   \n",
       "12055  NCGC00261292-01     0.0    0.0        0.0           0.0    0.0   \n",
       "12056  NCGC00261245-01     0.0    0.0        0.0           NaN    NaN   \n",
       "12057  NCGC00260828-01     0.0    0.0        0.0           0.0    0.0   \n",
       "12058  NCGC00260687-01     0.0    0.0        0.0           0.0    0.0   \n",
       "12059  NCGC00261465-01     0.0    0.0        0.0           0.0    NaN   \n",
       "\n",
       "       NR.ER.LBD  NR.PPAR.gamma  SR.ARE  SR.ATAD5  SR.HSE  SR.MMP  SR.p53  \n",
       "0            NaN            NaN     NaN       NaN     0.0     NaN     NaN  \n",
       "1            NaN            NaN     NaN       NaN     0.0     NaN     NaN  \n",
       "2            NaN            NaN     NaN       NaN     0.0     NaN     NaN  \n",
       "3            NaN            NaN     NaN       NaN     1.0     NaN     NaN  \n",
       "4            NaN            NaN     NaN       NaN     NaN     NaN     NaN  \n",
       "...          ...            ...     ...       ...     ...     ...     ...  \n",
       "12055        0.0            0.0     0.0       0.0     0.0     0.0     0.0  \n",
       "12056        0.0            0.0     NaN       NaN     NaN     NaN     NaN  \n",
       "12057        0.0            0.0     0.0       0.0     0.0     0.0     0.0  \n",
       "12058        0.0            0.0     0.0       0.0     0.0     0.0     0.0  \n",
       "12059        0.0            0.0     0.0       0.0     0.0     0.0     0.0  \n",
       "\n",
       "[12060 rows x 13 columns]"
      ]
     },
     "execution_count": 13,
     "metadata": {},
     "output_type": "execute_result"
    }
   ],
   "source": [
    "df2"
   ]
  },
  {
   "cell_type": "markdown",
   "id": "76c16e2a",
   "metadata": {},
   "source": [
    "## Removing coorelated features"
   ]
  },
  {
   "cell_type": "code",
   "execution_count": 14,
   "id": "f2255c04",
   "metadata": {},
   "outputs": [
    {
     "name": "stderr",
     "output_type": "stream",
     "text": [
      "C:\\Users\\AMAN YADAV\\AppData\\Local\\Temp\\ipykernel_9336\\3385341697.py:1: FutureWarning: The default value of numeric_only in DataFrame.corr is deprecated. In a future version, it will default to False. Select only valid columns or specify the value of numeric_only to silence this warning.\n",
      "  correlation_matrix = df1.corr()\n"
     ]
    }
   ],
   "source": [
    "correlation_matrix = df1.corr()\n",
    "correlation_threshold = 0.7  # Set your correlation threshold value\n",
    "correlated_features = set()\n",
    "for i in range(1,len(correlation_matrix.columns)):\n",
    "    for j in range(i):\n",
    "        if abs(correlation_matrix.iloc[i, j]) > correlation_threshold:\n",
    "            colname = correlation_matrix.columns[i]\n",
    "            correlated_features.add(colname)\n",
    "X = df1.drop(columns=correlated_features)\n"
   ]
  },
  {
   "cell_type": "code",
   "execution_count": 155,
   "id": "2abce9be",
   "metadata": {},
   "outputs": [],
   "source": [
    "def keep_selected_features(csv_path, selected_features):\n",
    "    # Read the CSV file into a DataFrame\n",
    "    df = pd.read_csv(csv_path)\n",
    "    # Keep only the selected features\n",
    "    df_selected = df[selected_features]\n",
    "    return df_selected\n"
   ]
  },
  {
   "cell_type": "markdown",
   "id": "fef84598",
   "metadata": {},
   "source": [
    "## Concaetenating labels and feature dataset"
   ]
  },
  {
   "cell_type": "code",
   "execution_count": 45,
   "id": "cafc5566",
   "metadata": {},
   "outputs": [],
   "source": [
    "merged_df = pd.merge(X, df2, on='new_label', how='inner')"
   ]
  },
  {
   "cell_type": "code",
   "execution_count": 46,
   "id": "0b99d712",
   "metadata": {
    "scrolled": true
   },
   "outputs": [
    {
     "data": {
      "text/html": [
       "<div>\n",
       "<style scoped>\n",
       "    .dataframe tbody tr th:only-of-type {\n",
       "        vertical-align: middle;\n",
       "    }\n",
       "\n",
       "    .dataframe tbody tr th {\n",
       "        vertical-align: top;\n",
       "    }\n",
       "\n",
       "    .dataframe thead th {\n",
       "        text-align: right;\n",
       "    }\n",
       "</style>\n",
       "<table border=\"1\" class=\"dataframe\">\n",
       "  <thead>\n",
       "    <tr style=\"text-align: right;\">\n",
       "      <th></th>\n",
       "      <th>new_label</th>\n",
       "      <th>AW</th>\n",
       "      <th>AWeight</th>\n",
       "      <th>Arto</th>\n",
       "      <th>Chi3ch</th>\n",
       "      <th>Chi4ch</th>\n",
       "      <th>Chi5ch</th>\n",
       "      <th>Chiv3c</th>\n",
       "      <th>Chiv4c</th>\n",
       "      <th>EstateVSA1</th>\n",
       "      <th>...</th>\n",
       "      <th>NR.AR.LBD</th>\n",
       "      <th>NR.Aromatase</th>\n",
       "      <th>NR.ER</th>\n",
       "      <th>NR.ER.LBD</th>\n",
       "      <th>NR.PPAR.gamma</th>\n",
       "      <th>SR.ARE</th>\n",
       "      <th>SR.ATAD5</th>\n",
       "      <th>SR.HSE</th>\n",
       "      <th>SR.MMP</th>\n",
       "      <th>SR.p53</th>\n",
       "    </tr>\n",
       "  </thead>\n",
       "  <tbody>\n",
       "    <tr>\n",
       "      <th>0</th>\n",
       "      <td>NCGC00178831-03</td>\n",
       "      <td>5.436720e+07</td>\n",
       "      <td>13.053</td>\n",
       "      <td>2.176</td>\n",
       "      <td>0.0</td>\n",
       "      <td>0.0</td>\n",
       "      <td>0.000</td>\n",
       "      <td>1.088</td>\n",
       "      <td>0.000</td>\n",
       "      <td>12.407</td>\n",
       "      <td>...</td>\n",
       "      <td>NaN</td>\n",
       "      <td>NaN</td>\n",
       "      <td>NaN</td>\n",
       "      <td>NaN</td>\n",
       "      <td>NaN</td>\n",
       "      <td>NaN</td>\n",
       "      <td>NaN</td>\n",
       "      <td>0.0</td>\n",
       "      <td>NaN</td>\n",
       "      <td>NaN</td>\n",
       "    </tr>\n",
       "    <tr>\n",
       "      <th>1</th>\n",
       "      <td>NCGC00166114-03</td>\n",
       "      <td>1.268818e+07</td>\n",
       "      <td>22.123</td>\n",
       "      <td>2.065</td>\n",
       "      <td>0.0</td>\n",
       "      <td>0.0</td>\n",
       "      <td>0.000</td>\n",
       "      <td>1.655</td>\n",
       "      <td>0.000</td>\n",
       "      <td>105.090</td>\n",
       "      <td>...</td>\n",
       "      <td>NaN</td>\n",
       "      <td>NaN</td>\n",
       "      <td>NaN</td>\n",
       "      <td>NaN</td>\n",
       "      <td>NaN</td>\n",
       "      <td>NaN</td>\n",
       "      <td>NaN</td>\n",
       "      <td>0.0</td>\n",
       "      <td>NaN</td>\n",
       "      <td>NaN</td>\n",
       "    </tr>\n",
       "    <tr>\n",
       "      <th>2</th>\n",
       "      <td>NCGC00263563-01</td>\n",
       "      <td>3.076932e+06</td>\n",
       "      <td>13.085</td>\n",
       "      <td>2.154</td>\n",
       "      <td>0.0</td>\n",
       "      <td>0.0</td>\n",
       "      <td>0.287</td>\n",
       "      <td>4.375</td>\n",
       "      <td>0.298</td>\n",
       "      <td>66.949</td>\n",
       "      <td>...</td>\n",
       "      <td>NaN</td>\n",
       "      <td>NaN</td>\n",
       "      <td>NaN</td>\n",
       "      <td>NaN</td>\n",
       "      <td>NaN</td>\n",
       "      <td>NaN</td>\n",
       "      <td>NaN</td>\n",
       "      <td>0.0</td>\n",
       "      <td>NaN</td>\n",
       "      <td>NaN</td>\n",
       "    </tr>\n",
       "    <tr>\n",
       "      <th>3</th>\n",
       "      <td>NCGC00013058-02</td>\n",
       "      <td>7.168569e+07</td>\n",
       "      <td>12.832</td>\n",
       "      <td>2.029</td>\n",
       "      <td>0.0</td>\n",
       "      <td>0.0</td>\n",
       "      <td>0.000</td>\n",
       "      <td>2.083</td>\n",
       "      <td>0.000</td>\n",
       "      <td>0.000</td>\n",
       "      <td>...</td>\n",
       "      <td>NaN</td>\n",
       "      <td>NaN</td>\n",
       "      <td>NaN</td>\n",
       "      <td>NaN</td>\n",
       "      <td>NaN</td>\n",
       "      <td>NaN</td>\n",
       "      <td>NaN</td>\n",
       "      <td>1.0</td>\n",
       "      <td>NaN</td>\n",
       "      <td>NaN</td>\n",
       "    </tr>\n",
       "    <tr>\n",
       "      <th>4</th>\n",
       "      <td>NCGC00167516-01</td>\n",
       "      <td>7.989702e+06</td>\n",
       "      <td>12.936</td>\n",
       "      <td>2.124</td>\n",
       "      <td>0.0</td>\n",
       "      <td>0.0</td>\n",
       "      <td>0.572</td>\n",
       "      <td>2.944</td>\n",
       "      <td>0.000</td>\n",
       "      <td>100.318</td>\n",
       "      <td>...</td>\n",
       "      <td>NaN</td>\n",
       "      <td>NaN</td>\n",
       "      <td>NaN</td>\n",
       "      <td>NaN</td>\n",
       "      <td>NaN</td>\n",
       "      <td>NaN</td>\n",
       "      <td>NaN</td>\n",
       "      <td>NaN</td>\n",
       "      <td>NaN</td>\n",
       "      <td>NaN</td>\n",
       "    </tr>\n",
       "    <tr>\n",
       "      <th>...</th>\n",
       "      <td>...</td>\n",
       "      <td>...</td>\n",
       "      <td>...</td>\n",
       "      <td>...</td>\n",
       "      <td>...</td>\n",
       "      <td>...</td>\n",
       "      <td>...</td>\n",
       "      <td>...</td>\n",
       "      <td>...</td>\n",
       "      <td>...</td>\n",
       "      <td>...</td>\n",
       "      <td>...</td>\n",
       "      <td>...</td>\n",
       "      <td>...</td>\n",
       "      <td>...</td>\n",
       "      <td>...</td>\n",
       "      <td>...</td>\n",
       "      <td>...</td>\n",
       "      <td>...</td>\n",
       "      <td>...</td>\n",
       "      <td>...</td>\n",
       "    </tr>\n",
       "    <tr>\n",
       "      <th>12055</th>\n",
       "      <td>NCGC00261292-01</td>\n",
       "      <td>1.428572e+07</td>\n",
       "      <td>14.255</td>\n",
       "      <td>2.000</td>\n",
       "      <td>0.0</td>\n",
       "      <td>0.0</td>\n",
       "      <td>0.096</td>\n",
       "      <td>0.321</td>\n",
       "      <td>0.000</td>\n",
       "      <td>12.407</td>\n",
       "      <td>...</td>\n",
       "      <td>0.0</td>\n",
       "      <td>0.0</td>\n",
       "      <td>0.0</td>\n",
       "      <td>0.0</td>\n",
       "      <td>0.0</td>\n",
       "      <td>0.0</td>\n",
       "      <td>0.0</td>\n",
       "      <td>0.0</td>\n",
       "      <td>0.0</td>\n",
       "      <td>0.0</td>\n",
       "    </tr>\n",
       "    <tr>\n",
       "      <th>12056</th>\n",
       "      <td>NCGC00261245-01</td>\n",
       "      <td>1.193182e+07</td>\n",
       "      <td>13.674</td>\n",
       "      <td>2.061</td>\n",
       "      <td>0.0</td>\n",
       "      <td>0.0</td>\n",
       "      <td>0.000</td>\n",
       "      <td>0.685</td>\n",
       "      <td>0.000</td>\n",
       "      <td>30.918</td>\n",
       "      <td>...</td>\n",
       "      <td>0.0</td>\n",
       "      <td>NaN</td>\n",
       "      <td>NaN</td>\n",
       "      <td>0.0</td>\n",
       "      <td>0.0</td>\n",
       "      <td>NaN</td>\n",
       "      <td>NaN</td>\n",
       "      <td>NaN</td>\n",
       "      <td>NaN</td>\n",
       "      <td>NaN</td>\n",
       "    </tr>\n",
       "    <tr>\n",
       "      <th>12057</th>\n",
       "      <td>NCGC00260828-01</td>\n",
       "      <td>1.081800e+01</td>\n",
       "      <td>12.374</td>\n",
       "      <td>2.045</td>\n",
       "      <td>0.0</td>\n",
       "      <td>0.0</td>\n",
       "      <td>0.000</td>\n",
       "      <td>3.310</td>\n",
       "      <td>0.354</td>\n",
       "      <td>22.396</td>\n",
       "      <td>...</td>\n",
       "      <td>0.0</td>\n",
       "      <td>0.0</td>\n",
       "      <td>0.0</td>\n",
       "      <td>0.0</td>\n",
       "      <td>0.0</td>\n",
       "      <td>0.0</td>\n",
       "      <td>0.0</td>\n",
       "      <td>0.0</td>\n",
       "      <td>0.0</td>\n",
       "      <td>0.0</td>\n",
       "    </tr>\n",
       "    <tr>\n",
       "      <th>12058</th>\n",
       "      <td>NCGC00260687-01</td>\n",
       "      <td>3.229000e+00</td>\n",
       "      <td>12.543</td>\n",
       "      <td>2.267</td>\n",
       "      <td>0.0</td>\n",
       "      <td>0.0</td>\n",
       "      <td>0.079</td>\n",
       "      <td>0.389</td>\n",
       "      <td>0.000</td>\n",
       "      <td>0.000</td>\n",
       "      <td>...</td>\n",
       "      <td>0.0</td>\n",
       "      <td>0.0</td>\n",
       "      <td>0.0</td>\n",
       "      <td>0.0</td>\n",
       "      <td>0.0</td>\n",
       "      <td>0.0</td>\n",
       "      <td>0.0</td>\n",
       "      <td>0.0</td>\n",
       "      <td>0.0</td>\n",
       "      <td>0.0</td>\n",
       "    </tr>\n",
       "    <tr>\n",
       "      <th>12059</th>\n",
       "      <td>NCGC00261465-01</td>\n",
       "      <td>1.931035e+07</td>\n",
       "      <td>15.004</td>\n",
       "      <td>1.867</td>\n",
       "      <td>0.0</td>\n",
       "      <td>0.0</td>\n",
       "      <td>0.000</td>\n",
       "      <td>0.943</td>\n",
       "      <td>0.037</td>\n",
       "      <td>128.848</td>\n",
       "      <td>...</td>\n",
       "      <td>0.0</td>\n",
       "      <td>0.0</td>\n",
       "      <td>NaN</td>\n",
       "      <td>0.0</td>\n",
       "      <td>0.0</td>\n",
       "      <td>0.0</td>\n",
       "      <td>0.0</td>\n",
       "      <td>0.0</td>\n",
       "      <td>0.0</td>\n",
       "      <td>0.0</td>\n",
       "    </tr>\n",
       "  </tbody>\n",
       "</table>\n",
       "<p>12060 rows × 161 columns</p>\n",
       "</div>"
      ],
      "text/plain": [
       "             new_label            AW  AWeight   Arto  Chi3ch  Chi4ch  Chi5ch  \\\n",
       "0      NCGC00178831-03  5.436720e+07   13.053  2.176     0.0     0.0   0.000   \n",
       "1      NCGC00166114-03  1.268818e+07   22.123  2.065     0.0     0.0   0.000   \n",
       "2      NCGC00263563-01  3.076932e+06   13.085  2.154     0.0     0.0   0.287   \n",
       "3      NCGC00013058-02  7.168569e+07   12.832  2.029     0.0     0.0   0.000   \n",
       "4      NCGC00167516-01  7.989702e+06   12.936  2.124     0.0     0.0   0.572   \n",
       "...                ...           ...      ...    ...     ...     ...     ...   \n",
       "12055  NCGC00261292-01  1.428572e+07   14.255  2.000     0.0     0.0   0.096   \n",
       "12056  NCGC00261245-01  1.193182e+07   13.674  2.061     0.0     0.0   0.000   \n",
       "12057  NCGC00260828-01  1.081800e+01   12.374  2.045     0.0     0.0   0.000   \n",
       "12058  NCGC00260687-01  3.229000e+00   12.543  2.267     0.0     0.0   0.079   \n",
       "12059  NCGC00261465-01  1.931035e+07   15.004  1.867     0.0     0.0   0.000   \n",
       "\n",
       "       Chiv3c  Chiv4c  EstateVSA1  ...  NR.AR.LBD  NR.Aromatase  NR.ER  \\\n",
       "0       1.088   0.000      12.407  ...        NaN           NaN    NaN   \n",
       "1       1.655   0.000     105.090  ...        NaN           NaN    NaN   \n",
       "2       4.375   0.298      66.949  ...        NaN           NaN    NaN   \n",
       "3       2.083   0.000       0.000  ...        NaN           NaN    NaN   \n",
       "4       2.944   0.000     100.318  ...        NaN           NaN    NaN   \n",
       "...       ...     ...         ...  ...        ...           ...    ...   \n",
       "12055   0.321   0.000      12.407  ...        0.0           0.0    0.0   \n",
       "12056   0.685   0.000      30.918  ...        0.0           NaN    NaN   \n",
       "12057   3.310   0.354      22.396  ...        0.0           0.0    0.0   \n",
       "12058   0.389   0.000       0.000  ...        0.0           0.0    0.0   \n",
       "12059   0.943   0.037     128.848  ...        0.0           0.0    NaN   \n",
       "\n",
       "       NR.ER.LBD  NR.PPAR.gamma  SR.ARE  SR.ATAD5  SR.HSE  SR.MMP  SR.p53  \n",
       "0            NaN            NaN     NaN       NaN     0.0     NaN     NaN  \n",
       "1            NaN            NaN     NaN       NaN     0.0     NaN     NaN  \n",
       "2            NaN            NaN     NaN       NaN     0.0     NaN     NaN  \n",
       "3            NaN            NaN     NaN       NaN     1.0     NaN     NaN  \n",
       "4            NaN            NaN     NaN       NaN     NaN     NaN     NaN  \n",
       "...          ...            ...     ...       ...     ...     ...     ...  \n",
       "12055        0.0            0.0     0.0       0.0     0.0     0.0     0.0  \n",
       "12056        0.0            0.0     NaN       NaN     NaN     NaN     NaN  \n",
       "12057        0.0            0.0     0.0       0.0     0.0     0.0     0.0  \n",
       "12058        0.0            0.0     0.0       0.0     0.0     0.0     0.0  \n",
       "12059        0.0            0.0     0.0       0.0     0.0     0.0     0.0  \n",
       "\n",
       "[12060 rows x 161 columns]"
      ]
     },
     "execution_count": 46,
     "metadata": {},
     "output_type": "execute_result"
    }
   ],
   "source": [
    "merged_df"
   ]
  },
  {
   "cell_type": "code",
   "execution_count": 47,
   "id": "defc4234",
   "metadata": {},
   "outputs": [],
   "source": [
    "merged_df.fillna(0,inplace=True)"
   ]
  },
  {
   "cell_type": "code",
   "execution_count": 48,
   "id": "bcf3a28a",
   "metadata": {},
   "outputs": [],
   "source": [
    "merged_df.drop(columns=\"new_label\",inplace=True)"
   ]
  },
  {
   "cell_type": "markdown",
   "id": "00f7443b",
   "metadata": {},
   "source": [
    "## Predicting NR.AhR"
   ]
  },
  {
   "cell_type": "code",
   "execution_count": 59,
   "id": "4ef1a426",
   "metadata": {},
   "outputs": [],
   "source": [
    "columns_to_remove = ['NR.AR','NR.AR.LBD','NR.Aromatase','NR.ER','NR.ER.LBD','NR.PPAR.gamma','SR.ARE','SR.ATAD5','SR.HSE','SR.MMP','SR.p53']\n",
    "df_ahr = merged_df.drop(columns=columns_to_remove)"
   ]
  },
  {
   "cell_type": "code",
   "execution_count": 60,
   "id": "5f3246ab",
   "metadata": {
    "scrolled": true
   },
   "outputs": [
    {
     "data": {
      "text/html": [
       "<div>\n",
       "<style scoped>\n",
       "    .dataframe tbody tr th:only-of-type {\n",
       "        vertical-align: middle;\n",
       "    }\n",
       "\n",
       "    .dataframe tbody tr th {\n",
       "        vertical-align: top;\n",
       "    }\n",
       "\n",
       "    .dataframe thead th {\n",
       "        text-align: right;\n",
       "    }\n",
       "</style>\n",
       "<table border=\"1\" class=\"dataframe\">\n",
       "  <thead>\n",
       "    <tr style=\"text-align: right;\">\n",
       "      <th></th>\n",
       "      <th>AW</th>\n",
       "      <th>AWeight</th>\n",
       "      <th>Arto</th>\n",
       "      <th>Chi3ch</th>\n",
       "      <th>Chi4ch</th>\n",
       "      <th>Chi5ch</th>\n",
       "      <th>Chiv3c</th>\n",
       "      <th>Chiv4c</th>\n",
       "      <th>EstateVSA1</th>\n",
       "      <th>EstateVSA10</th>\n",
       "      <th>...</th>\n",
       "      <th>Petitj3D</th>\n",
       "      <th>RDFC10</th>\n",
       "      <th>RDFC13</th>\n",
       "      <th>RDFC22</th>\n",
       "      <th>RDFM3</th>\n",
       "      <th>RDFP5</th>\n",
       "      <th>RNCS</th>\n",
       "      <th>RPCS</th>\n",
       "      <th>grav</th>\n",
       "      <th>NR.AhR</th>\n",
       "    </tr>\n",
       "  </thead>\n",
       "  <tbody>\n",
       "    <tr>\n",
       "      <th>0</th>\n",
       "      <td>5.436720e+07</td>\n",
       "      <td>13.053</td>\n",
       "      <td>2.176</td>\n",
       "      <td>0.0</td>\n",
       "      <td>0.0</td>\n",
       "      <td>0.000</td>\n",
       "      <td>1.088</td>\n",
       "      <td>0.000</td>\n",
       "      <td>12.407</td>\n",
       "      <td>0.000</td>\n",
       "      <td>...</td>\n",
       "      <td>0.805</td>\n",
       "      <td>-0.337</td>\n",
       "      <td>-0.054</td>\n",
       "      <td>0.037</td>\n",
       "      <td>1.092</td>\n",
       "      <td>4.809</td>\n",
       "      <td>0</td>\n",
       "      <td>83.808</td>\n",
       "      <td>88.147</td>\n",
       "      <td>0.0</td>\n",
       "    </tr>\n",
       "    <tr>\n",
       "      <th>1</th>\n",
       "      <td>1.268818e+07</td>\n",
       "      <td>22.123</td>\n",
       "      <td>2.065</td>\n",
       "      <td>0.0</td>\n",
       "      <td>0.0</td>\n",
       "      <td>0.000</td>\n",
       "      <td>1.655</td>\n",
       "      <td>0.000</td>\n",
       "      <td>105.090</td>\n",
       "      <td>0.000</td>\n",
       "      <td>...</td>\n",
       "      <td>0.943</td>\n",
       "      <td>-0.588</td>\n",
       "      <td>0.747</td>\n",
       "      <td>0.000</td>\n",
       "      <td>6.182</td>\n",
       "      <td>33.221</td>\n",
       "      <td>0</td>\n",
       "      <td>46.958</td>\n",
       "      <td>134.852</td>\n",
       "      <td>0.0</td>\n",
       "    </tr>\n",
       "    <tr>\n",
       "      <th>2</th>\n",
       "      <td>3.076932e+06</td>\n",
       "      <td>13.085</td>\n",
       "      <td>2.154</td>\n",
       "      <td>0.0</td>\n",
       "      <td>0.0</td>\n",
       "      <td>0.287</td>\n",
       "      <td>4.375</td>\n",
       "      <td>0.298</td>\n",
       "      <td>66.949</td>\n",
       "      <td>0.000</td>\n",
       "      <td>...</td>\n",
       "      <td>0.763</td>\n",
       "      <td>-1.225</td>\n",
       "      <td>0.703</td>\n",
       "      <td>-0.664</td>\n",
       "      <td>3.068</td>\n",
       "      <td>37.670</td>\n",
       "      <td>0</td>\n",
       "      <td>0.000</td>\n",
       "      <td>216.852</td>\n",
       "      <td>0.0</td>\n",
       "    </tr>\n",
       "    <tr>\n",
       "      <th>3</th>\n",
       "      <td>7.168569e+07</td>\n",
       "      <td>12.832</td>\n",
       "      <td>2.029</td>\n",
       "      <td>0.0</td>\n",
       "      <td>0.0</td>\n",
       "      <td>0.000</td>\n",
       "      <td>2.083</td>\n",
       "      <td>0.000</td>\n",
       "      <td>0.000</td>\n",
       "      <td>0.000</td>\n",
       "      <td>...</td>\n",
       "      <td>0.732</td>\n",
       "      <td>-1.078</td>\n",
       "      <td>-0.060</td>\n",
       "      <td>0.296</td>\n",
       "      <td>2.047</td>\n",
       "      <td>33.235</td>\n",
       "      <td>0</td>\n",
       "      <td>700.786</td>\n",
       "      <td>238.265</td>\n",
       "      <td>0.0</td>\n",
       "    </tr>\n",
       "    <tr>\n",
       "      <th>4</th>\n",
       "      <td>7.989702e+06</td>\n",
       "      <td>12.936</td>\n",
       "      <td>2.124</td>\n",
       "      <td>0.0</td>\n",
       "      <td>0.0</td>\n",
       "      <td>0.572</td>\n",
       "      <td>2.944</td>\n",
       "      <td>0.000</td>\n",
       "      <td>100.318</td>\n",
       "      <td>9.589</td>\n",
       "      <td>...</td>\n",
       "      <td>0.893</td>\n",
       "      <td>1.149</td>\n",
       "      <td>-1.688</td>\n",
       "      <td>-0.757</td>\n",
       "      <td>2.705</td>\n",
       "      <td>34.154</td>\n",
       "      <td>0</td>\n",
       "      <td>491.912</td>\n",
       "      <td>317.901</td>\n",
       "      <td>0.0</td>\n",
       "    </tr>\n",
       "    <tr>\n",
       "      <th>...</th>\n",
       "      <td>...</td>\n",
       "      <td>...</td>\n",
       "      <td>...</td>\n",
       "      <td>...</td>\n",
       "      <td>...</td>\n",
       "      <td>...</td>\n",
       "      <td>...</td>\n",
       "      <td>...</td>\n",
       "      <td>...</td>\n",
       "      <td>...</td>\n",
       "      <td>...</td>\n",
       "      <td>...</td>\n",
       "      <td>...</td>\n",
       "      <td>...</td>\n",
       "      <td>...</td>\n",
       "      <td>...</td>\n",
       "      <td>...</td>\n",
       "      <td>...</td>\n",
       "      <td>...</td>\n",
       "      <td>...</td>\n",
       "      <td>...</td>\n",
       "    </tr>\n",
       "    <tr>\n",
       "      <th>12055</th>\n",
       "      <td>1.428572e+07</td>\n",
       "      <td>14.255</td>\n",
       "      <td>2.000</td>\n",
       "      <td>0.0</td>\n",
       "      <td>0.0</td>\n",
       "      <td>0.096</td>\n",
       "      <td>0.321</td>\n",
       "      <td>0.000</td>\n",
       "      <td>12.407</td>\n",
       "      <td>0.000</td>\n",
       "      <td>...</td>\n",
       "      <td>0.706</td>\n",
       "      <td>0.376</td>\n",
       "      <td>-0.174</td>\n",
       "      <td>0.000</td>\n",
       "      <td>0.326</td>\n",
       "      <td>5.429</td>\n",
       "      <td>0</td>\n",
       "      <td>254.365</td>\n",
       "      <td>29.148</td>\n",
       "      <td>0.0</td>\n",
       "    </tr>\n",
       "    <tr>\n",
       "      <th>12056</th>\n",
       "      <td>1.193182e+07</td>\n",
       "      <td>13.674</td>\n",
       "      <td>2.061</td>\n",
       "      <td>0.0</td>\n",
       "      <td>0.0</td>\n",
       "      <td>0.000</td>\n",
       "      <td>0.685</td>\n",
       "      <td>0.000</td>\n",
       "      <td>30.918</td>\n",
       "      <td>0.000</td>\n",
       "      <td>...</td>\n",
       "      <td>0.827</td>\n",
       "      <td>0.550</td>\n",
       "      <td>-0.331</td>\n",
       "      <td>-0.021</td>\n",
       "      <td>0.961</td>\n",
       "      <td>18.126</td>\n",
       "      <td>0</td>\n",
       "      <td>268.098</td>\n",
       "      <td>93.636</td>\n",
       "      <td>0.0</td>\n",
       "    </tr>\n",
       "    <tr>\n",
       "      <th>12057</th>\n",
       "      <td>1.081800e+01</td>\n",
       "      <td>12.374</td>\n",
       "      <td>2.045</td>\n",
       "      <td>0.0</td>\n",
       "      <td>0.0</td>\n",
       "      <td>0.000</td>\n",
       "      <td>3.310</td>\n",
       "      <td>0.354</td>\n",
       "      <td>22.396</td>\n",
       "      <td>0.000</td>\n",
       "      <td>...</td>\n",
       "      <td>0.967</td>\n",
       "      <td>-0.589</td>\n",
       "      <td>0.081</td>\n",
       "      <td>0.087</td>\n",
       "      <td>0.907</td>\n",
       "      <td>24.295</td>\n",
       "      <td>0</td>\n",
       "      <td>605.744</td>\n",
       "      <td>91.670</td>\n",
       "      <td>0.0</td>\n",
       "    </tr>\n",
       "    <tr>\n",
       "      <th>12058</th>\n",
       "      <td>3.229000e+00</td>\n",
       "      <td>12.543</td>\n",
       "      <td>2.267</td>\n",
       "      <td>0.0</td>\n",
       "      <td>0.0</td>\n",
       "      <td>0.079</td>\n",
       "      <td>0.389</td>\n",
       "      <td>0.000</td>\n",
       "      <td>0.000</td>\n",
       "      <td>0.000</td>\n",
       "      <td>...</td>\n",
       "      <td>0.925</td>\n",
       "      <td>-0.039</td>\n",
       "      <td>-0.020</td>\n",
       "      <td>0.000</td>\n",
       "      <td>0.539</td>\n",
       "      <td>3.226</td>\n",
       "      <td>0</td>\n",
       "      <td>80.674</td>\n",
       "      <td>28.201</td>\n",
       "      <td>0.0</td>\n",
       "    </tr>\n",
       "    <tr>\n",
       "      <th>12059</th>\n",
       "      <td>1.931035e+07</td>\n",
       "      <td>15.004</td>\n",
       "      <td>1.867</td>\n",
       "      <td>0.0</td>\n",
       "      <td>0.0</td>\n",
       "      <td>0.000</td>\n",
       "      <td>0.943</td>\n",
       "      <td>0.037</td>\n",
       "      <td>128.848</td>\n",
       "      <td>0.000</td>\n",
       "      <td>...</td>\n",
       "      <td>0.948</td>\n",
       "      <td>-0.507</td>\n",
       "      <td>0.483</td>\n",
       "      <td>-0.263</td>\n",
       "      <td>1.135</td>\n",
       "      <td>30.145</td>\n",
       "      <td>0</td>\n",
       "      <td>355.061</td>\n",
       "      <td>87.731</td>\n",
       "      <td>0.0</td>\n",
       "    </tr>\n",
       "  </tbody>\n",
       "</table>\n",
       "<p>12060 rows × 149 columns</p>\n",
       "</div>"
      ],
      "text/plain": [
       "                 AW  AWeight   Arto  Chi3ch  Chi4ch  Chi5ch  Chiv3c  Chiv4c  \\\n",
       "0      5.436720e+07   13.053  2.176     0.0     0.0   0.000   1.088   0.000   \n",
       "1      1.268818e+07   22.123  2.065     0.0     0.0   0.000   1.655   0.000   \n",
       "2      3.076932e+06   13.085  2.154     0.0     0.0   0.287   4.375   0.298   \n",
       "3      7.168569e+07   12.832  2.029     0.0     0.0   0.000   2.083   0.000   \n",
       "4      7.989702e+06   12.936  2.124     0.0     0.0   0.572   2.944   0.000   \n",
       "...             ...      ...    ...     ...     ...     ...     ...     ...   \n",
       "12055  1.428572e+07   14.255  2.000     0.0     0.0   0.096   0.321   0.000   \n",
       "12056  1.193182e+07   13.674  2.061     0.0     0.0   0.000   0.685   0.000   \n",
       "12057  1.081800e+01   12.374  2.045     0.0     0.0   0.000   3.310   0.354   \n",
       "12058  3.229000e+00   12.543  2.267     0.0     0.0   0.079   0.389   0.000   \n",
       "12059  1.931035e+07   15.004  1.867     0.0     0.0   0.000   0.943   0.037   \n",
       "\n",
       "       EstateVSA1  EstateVSA10  ...  Petitj3D  RDFC10  RDFC13  RDFC22  RDFM3  \\\n",
       "0          12.407        0.000  ...     0.805  -0.337  -0.054   0.037  1.092   \n",
       "1         105.090        0.000  ...     0.943  -0.588   0.747   0.000  6.182   \n",
       "2          66.949        0.000  ...     0.763  -1.225   0.703  -0.664  3.068   \n",
       "3           0.000        0.000  ...     0.732  -1.078  -0.060   0.296  2.047   \n",
       "4         100.318        9.589  ...     0.893   1.149  -1.688  -0.757  2.705   \n",
       "...           ...          ...  ...       ...     ...     ...     ...    ...   \n",
       "12055      12.407        0.000  ...     0.706   0.376  -0.174   0.000  0.326   \n",
       "12056      30.918        0.000  ...     0.827   0.550  -0.331  -0.021  0.961   \n",
       "12057      22.396        0.000  ...     0.967  -0.589   0.081   0.087  0.907   \n",
       "12058       0.000        0.000  ...     0.925  -0.039  -0.020   0.000  0.539   \n",
       "12059     128.848        0.000  ...     0.948  -0.507   0.483  -0.263  1.135   \n",
       "\n",
       "        RDFP5  RNCS     RPCS     grav  NR.AhR  \n",
       "0       4.809     0   83.808   88.147     0.0  \n",
       "1      33.221     0   46.958  134.852     0.0  \n",
       "2      37.670     0    0.000  216.852     0.0  \n",
       "3      33.235     0  700.786  238.265     0.0  \n",
       "4      34.154     0  491.912  317.901     0.0  \n",
       "...       ...   ...      ...      ...     ...  \n",
       "12055   5.429     0  254.365   29.148     0.0  \n",
       "12056  18.126     0  268.098   93.636     0.0  \n",
       "12057  24.295     0  605.744   91.670     0.0  \n",
       "12058   3.226     0   80.674   28.201     0.0  \n",
       "12059  30.145     0  355.061   87.731     0.0  \n",
       "\n",
       "[12060 rows x 149 columns]"
      ]
     },
     "execution_count": 60,
     "metadata": {},
     "output_type": "execute_result"
    }
   ],
   "source": [
    "df_ahr "
   ]
  },
  {
   "cell_type": "code",
   "execution_count": 61,
   "id": "4c9f9c1f",
   "metadata": {},
   "outputs": [],
   "source": [
    "from sklearn.model_selection import train_test_split\n",
    "from sklearn.feature_selection import SelectKBest, f_classif"
   ]
  },
  {
   "cell_type": "code",
   "execution_count": 62,
   "id": "d0ee2924",
   "metadata": {},
   "outputs": [],
   "source": [
    "X = df_ahr.drop(columns=['NR.AhR'])  # FeaturesX = df_ahr.drop(columns=['new_label','NR.AhR'])  # Features\n",
    "y = df_ahr['NR.AhR']  # Target variable\n"
   ]
  },
  {
   "cell_type": "code",
   "execution_count": 63,
   "id": "504b4be4",
   "metadata": {},
   "outputs": [
    {
     "data": {
      "text/plain": [
       "0        0.0\n",
       "1        0.0\n",
       "2        0.0\n",
       "3        0.0\n",
       "4        0.0\n",
       "        ... \n",
       "12055    0.0\n",
       "12056    0.0\n",
       "12057    0.0\n",
       "12058    0.0\n",
       "12059    0.0\n",
       "Name: NR.AhR, Length: 12060, dtype: float64"
      ]
     },
     "execution_count": 63,
     "metadata": {},
     "output_type": "execute_result"
    }
   ],
   "source": [
    "y"
   ]
  },
  {
   "cell_type": "code",
   "execution_count": 64,
   "id": "adcbd4bb",
   "metadata": {
    "scrolled": true
   },
   "outputs": [
    {
     "data": {
      "text/html": [
       "<div>\n",
       "<style scoped>\n",
       "    .dataframe tbody tr th:only-of-type {\n",
       "        vertical-align: middle;\n",
       "    }\n",
       "\n",
       "    .dataframe tbody tr th {\n",
       "        vertical-align: top;\n",
       "    }\n",
       "\n",
       "    .dataframe thead th {\n",
       "        text-align: right;\n",
       "    }\n",
       "</style>\n",
       "<table border=\"1\" class=\"dataframe\">\n",
       "  <thead>\n",
       "    <tr style=\"text-align: right;\">\n",
       "      <th></th>\n",
       "      <th>AW</th>\n",
       "      <th>AWeight</th>\n",
       "      <th>Arto</th>\n",
       "      <th>Chi3ch</th>\n",
       "      <th>Chi4ch</th>\n",
       "      <th>Chi5ch</th>\n",
       "      <th>Chiv3c</th>\n",
       "      <th>Chiv4c</th>\n",
       "      <th>EstateVSA1</th>\n",
       "      <th>EstateVSA10</th>\n",
       "      <th>...</th>\n",
       "      <th>MoRSEV3</th>\n",
       "      <th>Petitj3D</th>\n",
       "      <th>RDFC10</th>\n",
       "      <th>RDFC13</th>\n",
       "      <th>RDFC22</th>\n",
       "      <th>RDFM3</th>\n",
       "      <th>RDFP5</th>\n",
       "      <th>RNCS</th>\n",
       "      <th>RPCS</th>\n",
       "      <th>grav</th>\n",
       "    </tr>\n",
       "  </thead>\n",
       "  <tbody>\n",
       "    <tr>\n",
       "      <th>0</th>\n",
       "      <td>5.436720e+07</td>\n",
       "      <td>13.053</td>\n",
       "      <td>2.176</td>\n",
       "      <td>0.0</td>\n",
       "      <td>0.0</td>\n",
       "      <td>0.000</td>\n",
       "      <td>1.088</td>\n",
       "      <td>0.000</td>\n",
       "      <td>12.407</td>\n",
       "      <td>0.000</td>\n",
       "      <td>...</td>\n",
       "      <td>-0.325</td>\n",
       "      <td>0.805</td>\n",
       "      <td>-0.337</td>\n",
       "      <td>-0.054</td>\n",
       "      <td>0.037</td>\n",
       "      <td>1.092</td>\n",
       "      <td>4.809</td>\n",
       "      <td>0</td>\n",
       "      <td>83.808</td>\n",
       "      <td>88.147</td>\n",
       "    </tr>\n",
       "    <tr>\n",
       "      <th>1</th>\n",
       "      <td>1.268818e+07</td>\n",
       "      <td>22.123</td>\n",
       "      <td>2.065</td>\n",
       "      <td>0.0</td>\n",
       "      <td>0.0</td>\n",
       "      <td>0.000</td>\n",
       "      <td>1.655</td>\n",
       "      <td>0.000</td>\n",
       "      <td>105.090</td>\n",
       "      <td>0.000</td>\n",
       "      <td>...</td>\n",
       "      <td>2.296</td>\n",
       "      <td>0.943</td>\n",
       "      <td>-0.588</td>\n",
       "      <td>0.747</td>\n",
       "      <td>0.000</td>\n",
       "      <td>6.182</td>\n",
       "      <td>33.221</td>\n",
       "      <td>0</td>\n",
       "      <td>46.958</td>\n",
       "      <td>134.852</td>\n",
       "    </tr>\n",
       "    <tr>\n",
       "      <th>2</th>\n",
       "      <td>3.076932e+06</td>\n",
       "      <td>13.085</td>\n",
       "      <td>2.154</td>\n",
       "      <td>0.0</td>\n",
       "      <td>0.0</td>\n",
       "      <td>0.287</td>\n",
       "      <td>4.375</td>\n",
       "      <td>0.298</td>\n",
       "      <td>66.949</td>\n",
       "      <td>0.000</td>\n",
       "      <td>...</td>\n",
       "      <td>1.852</td>\n",
       "      <td>0.763</td>\n",
       "      <td>-1.225</td>\n",
       "      <td>0.703</td>\n",
       "      <td>-0.664</td>\n",
       "      <td>3.068</td>\n",
       "      <td>37.670</td>\n",
       "      <td>0</td>\n",
       "      <td>0.000</td>\n",
       "      <td>216.852</td>\n",
       "    </tr>\n",
       "    <tr>\n",
       "      <th>3</th>\n",
       "      <td>7.168569e+07</td>\n",
       "      <td>12.832</td>\n",
       "      <td>2.029</td>\n",
       "      <td>0.0</td>\n",
       "      <td>0.0</td>\n",
       "      <td>0.000</td>\n",
       "      <td>2.083</td>\n",
       "      <td>0.000</td>\n",
       "      <td>0.000</td>\n",
       "      <td>0.000</td>\n",
       "      <td>...</td>\n",
       "      <td>-3.228</td>\n",
       "      <td>0.732</td>\n",
       "      <td>-1.078</td>\n",
       "      <td>-0.060</td>\n",
       "      <td>0.296</td>\n",
       "      <td>2.047</td>\n",
       "      <td>33.235</td>\n",
       "      <td>0</td>\n",
       "      <td>700.786</td>\n",
       "      <td>238.265</td>\n",
       "    </tr>\n",
       "    <tr>\n",
       "      <th>4</th>\n",
       "      <td>7.989702e+06</td>\n",
       "      <td>12.936</td>\n",
       "      <td>2.124</td>\n",
       "      <td>0.0</td>\n",
       "      <td>0.0</td>\n",
       "      <td>0.572</td>\n",
       "      <td>2.944</td>\n",
       "      <td>0.000</td>\n",
       "      <td>100.318</td>\n",
       "      <td>9.589</td>\n",
       "      <td>...</td>\n",
       "      <td>-6.318</td>\n",
       "      <td>0.893</td>\n",
       "      <td>1.149</td>\n",
       "      <td>-1.688</td>\n",
       "      <td>-0.757</td>\n",
       "      <td>2.705</td>\n",
       "      <td>34.154</td>\n",
       "      <td>0</td>\n",
       "      <td>491.912</td>\n",
       "      <td>317.901</td>\n",
       "    </tr>\n",
       "    <tr>\n",
       "      <th>...</th>\n",
       "      <td>...</td>\n",
       "      <td>...</td>\n",
       "      <td>...</td>\n",
       "      <td>...</td>\n",
       "      <td>...</td>\n",
       "      <td>...</td>\n",
       "      <td>...</td>\n",
       "      <td>...</td>\n",
       "      <td>...</td>\n",
       "      <td>...</td>\n",
       "      <td>...</td>\n",
       "      <td>...</td>\n",
       "      <td>...</td>\n",
       "      <td>...</td>\n",
       "      <td>...</td>\n",
       "      <td>...</td>\n",
       "      <td>...</td>\n",
       "      <td>...</td>\n",
       "      <td>...</td>\n",
       "      <td>...</td>\n",
       "      <td>...</td>\n",
       "    </tr>\n",
       "    <tr>\n",
       "      <th>12055</th>\n",
       "      <td>1.428572e+07</td>\n",
       "      <td>14.255</td>\n",
       "      <td>2.000</td>\n",
       "      <td>0.0</td>\n",
       "      <td>0.0</td>\n",
       "      <td>0.096</td>\n",
       "      <td>0.321</td>\n",
       "      <td>0.000</td>\n",
       "      <td>12.407</td>\n",
       "      <td>0.000</td>\n",
       "      <td>...</td>\n",
       "      <td>-1.215</td>\n",
       "      <td>0.706</td>\n",
       "      <td>0.376</td>\n",
       "      <td>-0.174</td>\n",
       "      <td>0.000</td>\n",
       "      <td>0.326</td>\n",
       "      <td>5.429</td>\n",
       "      <td>0</td>\n",
       "      <td>254.365</td>\n",
       "      <td>29.148</td>\n",
       "    </tr>\n",
       "    <tr>\n",
       "      <th>12056</th>\n",
       "      <td>1.193182e+07</td>\n",
       "      <td>13.674</td>\n",
       "      <td>2.061</td>\n",
       "      <td>0.0</td>\n",
       "      <td>0.0</td>\n",
       "      <td>0.000</td>\n",
       "      <td>0.685</td>\n",
       "      <td>0.000</td>\n",
       "      <td>30.918</td>\n",
       "      <td>0.000</td>\n",
       "      <td>...</td>\n",
       "      <td>-2.362</td>\n",
       "      <td>0.827</td>\n",
       "      <td>0.550</td>\n",
       "      <td>-0.331</td>\n",
       "      <td>-0.021</td>\n",
       "      <td>0.961</td>\n",
       "      <td>18.126</td>\n",
       "      <td>0</td>\n",
       "      <td>268.098</td>\n",
       "      <td>93.636</td>\n",
       "    </tr>\n",
       "    <tr>\n",
       "      <th>12057</th>\n",
       "      <td>1.081800e+01</td>\n",
       "      <td>12.374</td>\n",
       "      <td>2.045</td>\n",
       "      <td>0.0</td>\n",
       "      <td>0.0</td>\n",
       "      <td>0.000</td>\n",
       "      <td>3.310</td>\n",
       "      <td>0.354</td>\n",
       "      <td>22.396</td>\n",
       "      <td>0.000</td>\n",
       "      <td>...</td>\n",
       "      <td>1.161</td>\n",
       "      <td>0.967</td>\n",
       "      <td>-0.589</td>\n",
       "      <td>0.081</td>\n",
       "      <td>0.087</td>\n",
       "      <td>0.907</td>\n",
       "      <td>24.295</td>\n",
       "      <td>0</td>\n",
       "      <td>605.744</td>\n",
       "      <td>91.670</td>\n",
       "    </tr>\n",
       "    <tr>\n",
       "      <th>12058</th>\n",
       "      <td>3.229000e+00</td>\n",
       "      <td>12.543</td>\n",
       "      <td>2.267</td>\n",
       "      <td>0.0</td>\n",
       "      <td>0.0</td>\n",
       "      <td>0.079</td>\n",
       "      <td>0.389</td>\n",
       "      <td>0.000</td>\n",
       "      <td>0.000</td>\n",
       "      <td>0.000</td>\n",
       "      <td>...</td>\n",
       "      <td>-0.989</td>\n",
       "      <td>0.925</td>\n",
       "      <td>-0.039</td>\n",
       "      <td>-0.020</td>\n",
       "      <td>0.000</td>\n",
       "      <td>0.539</td>\n",
       "      <td>3.226</td>\n",
       "      <td>0</td>\n",
       "      <td>80.674</td>\n",
       "      <td>28.201</td>\n",
       "    </tr>\n",
       "    <tr>\n",
       "      <th>12059</th>\n",
       "      <td>1.931035e+07</td>\n",
       "      <td>15.004</td>\n",
       "      <td>1.867</td>\n",
       "      <td>0.0</td>\n",
       "      <td>0.0</td>\n",
       "      <td>0.000</td>\n",
       "      <td>0.943</td>\n",
       "      <td>0.037</td>\n",
       "      <td>128.848</td>\n",
       "      <td>0.000</td>\n",
       "      <td>...</td>\n",
       "      <td>-0.700</td>\n",
       "      <td>0.948</td>\n",
       "      <td>-0.507</td>\n",
       "      <td>0.483</td>\n",
       "      <td>-0.263</td>\n",
       "      <td>1.135</td>\n",
       "      <td>30.145</td>\n",
       "      <td>0</td>\n",
       "      <td>355.061</td>\n",
       "      <td>87.731</td>\n",
       "    </tr>\n",
       "  </tbody>\n",
       "</table>\n",
       "<p>12060 rows × 148 columns</p>\n",
       "</div>"
      ],
      "text/plain": [
       "                 AW  AWeight   Arto  Chi3ch  Chi4ch  Chi5ch  Chiv3c  Chiv4c  \\\n",
       "0      5.436720e+07   13.053  2.176     0.0     0.0   0.000   1.088   0.000   \n",
       "1      1.268818e+07   22.123  2.065     0.0     0.0   0.000   1.655   0.000   \n",
       "2      3.076932e+06   13.085  2.154     0.0     0.0   0.287   4.375   0.298   \n",
       "3      7.168569e+07   12.832  2.029     0.0     0.0   0.000   2.083   0.000   \n",
       "4      7.989702e+06   12.936  2.124     0.0     0.0   0.572   2.944   0.000   \n",
       "...             ...      ...    ...     ...     ...     ...     ...     ...   \n",
       "12055  1.428572e+07   14.255  2.000     0.0     0.0   0.096   0.321   0.000   \n",
       "12056  1.193182e+07   13.674  2.061     0.0     0.0   0.000   0.685   0.000   \n",
       "12057  1.081800e+01   12.374  2.045     0.0     0.0   0.000   3.310   0.354   \n",
       "12058  3.229000e+00   12.543  2.267     0.0     0.0   0.079   0.389   0.000   \n",
       "12059  1.931035e+07   15.004  1.867     0.0     0.0   0.000   0.943   0.037   \n",
       "\n",
       "       EstateVSA1  EstateVSA10  ...  MoRSEV3  Petitj3D  RDFC10  RDFC13  \\\n",
       "0          12.407        0.000  ...   -0.325     0.805  -0.337  -0.054   \n",
       "1         105.090        0.000  ...    2.296     0.943  -0.588   0.747   \n",
       "2          66.949        0.000  ...    1.852     0.763  -1.225   0.703   \n",
       "3           0.000        0.000  ...   -3.228     0.732  -1.078  -0.060   \n",
       "4         100.318        9.589  ...   -6.318     0.893   1.149  -1.688   \n",
       "...           ...          ...  ...      ...       ...     ...     ...   \n",
       "12055      12.407        0.000  ...   -1.215     0.706   0.376  -0.174   \n",
       "12056      30.918        0.000  ...   -2.362     0.827   0.550  -0.331   \n",
       "12057      22.396        0.000  ...    1.161     0.967  -0.589   0.081   \n",
       "12058       0.000        0.000  ...   -0.989     0.925  -0.039  -0.020   \n",
       "12059     128.848        0.000  ...   -0.700     0.948  -0.507   0.483   \n",
       "\n",
       "       RDFC22  RDFM3   RDFP5  RNCS     RPCS     grav  \n",
       "0       0.037  1.092   4.809     0   83.808   88.147  \n",
       "1       0.000  6.182  33.221     0   46.958  134.852  \n",
       "2      -0.664  3.068  37.670     0    0.000  216.852  \n",
       "3       0.296  2.047  33.235     0  700.786  238.265  \n",
       "4      -0.757  2.705  34.154     0  491.912  317.901  \n",
       "...       ...    ...     ...   ...      ...      ...  \n",
       "12055   0.000  0.326   5.429     0  254.365   29.148  \n",
       "12056  -0.021  0.961  18.126     0  268.098   93.636  \n",
       "12057   0.087  0.907  24.295     0  605.744   91.670  \n",
       "12058   0.000  0.539   3.226     0   80.674   28.201  \n",
       "12059  -0.263  1.135  30.145     0  355.061   87.731  \n",
       "\n",
       "[12060 rows x 148 columns]"
      ]
     },
     "execution_count": 64,
     "metadata": {},
     "output_type": "execute_result"
    }
   ],
   "source": [
    "X"
   ]
  },
  {
   "cell_type": "code",
   "execution_count": 65,
   "id": "0569ee49",
   "metadata": {},
   "outputs": [],
   "source": [
    "X_train,X_test,Y_train,Y_test = train_test_split(X,y,test_size=0.2,random_state=42)"
   ]
  },
  {
   "cell_type": "code",
   "execution_count": 66,
   "id": "3e0d9d42",
   "metadata": {},
   "outputs": [
    {
     "data": {
      "text/plain": [
       "1374     0.0\n",
       "3288     1.0\n",
       "11969    0.0\n",
       "11790    0.0\n",
       "10095    0.0\n",
       "        ... \n",
       "11964    0.0\n",
       "5191     0.0\n",
       "5390     0.0\n",
       "860      0.0\n",
       "7270     1.0\n",
       "Name: NR.AhR, Length: 9648, dtype: float64"
      ]
     },
     "execution_count": 66,
     "metadata": {},
     "output_type": "execute_result"
    }
   ],
   "source": [
    "Y_train"
   ]
  },
  {
   "cell_type": "code",
   "execution_count": 67,
   "id": "58bed9a2",
   "metadata": {},
   "outputs": [],
   "source": [
    "from sklearn.ensemble import RandomForestClassifier"
   ]
  },
  {
   "cell_type": "code",
   "execution_count": 68,
   "id": "6bd734b4",
   "metadata": {},
   "outputs": [
    {
     "data": {
      "text/html": [
       "<style>#sk-container-id-2 {color: black;}#sk-container-id-2 pre{padding: 0;}#sk-container-id-2 div.sk-toggleable {background-color: white;}#sk-container-id-2 label.sk-toggleable__label {cursor: pointer;display: block;width: 100%;margin-bottom: 0;padding: 0.3em;box-sizing: border-box;text-align: center;}#sk-container-id-2 label.sk-toggleable__label-arrow:before {content: \"▸\";float: left;margin-right: 0.25em;color: #696969;}#sk-container-id-2 label.sk-toggleable__label-arrow:hover:before {color: black;}#sk-container-id-2 div.sk-estimator:hover label.sk-toggleable__label-arrow:before {color: black;}#sk-container-id-2 div.sk-toggleable__content {max-height: 0;max-width: 0;overflow: hidden;text-align: left;background-color: #f0f8ff;}#sk-container-id-2 div.sk-toggleable__content pre {margin: 0.2em;color: black;border-radius: 0.25em;background-color: #f0f8ff;}#sk-container-id-2 input.sk-toggleable__control:checked~div.sk-toggleable__content {max-height: 200px;max-width: 100%;overflow: auto;}#sk-container-id-2 input.sk-toggleable__control:checked~label.sk-toggleable__label-arrow:before {content: \"▾\";}#sk-container-id-2 div.sk-estimator input.sk-toggleable__control:checked~label.sk-toggleable__label {background-color: #d4ebff;}#sk-container-id-2 div.sk-label input.sk-toggleable__control:checked~label.sk-toggleable__label {background-color: #d4ebff;}#sk-container-id-2 input.sk-hidden--visually {border: 0;clip: rect(1px 1px 1px 1px);clip: rect(1px, 1px, 1px, 1px);height: 1px;margin: -1px;overflow: hidden;padding: 0;position: absolute;width: 1px;}#sk-container-id-2 div.sk-estimator {font-family: monospace;background-color: #f0f8ff;border: 1px dotted black;border-radius: 0.25em;box-sizing: border-box;margin-bottom: 0.5em;}#sk-container-id-2 div.sk-estimator:hover {background-color: #d4ebff;}#sk-container-id-2 div.sk-parallel-item::after {content: \"\";width: 100%;border-bottom: 1px solid gray;flex-grow: 1;}#sk-container-id-2 div.sk-label:hover label.sk-toggleable__label {background-color: #d4ebff;}#sk-container-id-2 div.sk-serial::before {content: \"\";position: absolute;border-left: 1px solid gray;box-sizing: border-box;top: 0;bottom: 0;left: 50%;z-index: 0;}#sk-container-id-2 div.sk-serial {display: flex;flex-direction: column;align-items: center;background-color: white;padding-right: 0.2em;padding-left: 0.2em;position: relative;}#sk-container-id-2 div.sk-item {position: relative;z-index: 1;}#sk-container-id-2 div.sk-parallel {display: flex;align-items: stretch;justify-content: center;background-color: white;position: relative;}#sk-container-id-2 div.sk-item::before, #sk-container-id-2 div.sk-parallel-item::before {content: \"\";position: absolute;border-left: 1px solid gray;box-sizing: border-box;top: 0;bottom: 0;left: 50%;z-index: -1;}#sk-container-id-2 div.sk-parallel-item {display: flex;flex-direction: column;z-index: 1;position: relative;background-color: white;}#sk-container-id-2 div.sk-parallel-item:first-child::after {align-self: flex-end;width: 50%;}#sk-container-id-2 div.sk-parallel-item:last-child::after {align-self: flex-start;width: 50%;}#sk-container-id-2 div.sk-parallel-item:only-child::after {width: 0;}#sk-container-id-2 div.sk-dashed-wrapped {border: 1px dashed gray;margin: 0 0.4em 0.5em 0.4em;box-sizing: border-box;padding-bottom: 0.4em;background-color: white;}#sk-container-id-2 div.sk-label label {font-family: monospace;font-weight: bold;display: inline-block;line-height: 1.2em;}#sk-container-id-2 div.sk-label-container {text-align: center;}#sk-container-id-2 div.sk-container {/* jupyter's `normalize.less` sets `[hidden] { display: none; }` but bootstrap.min.css set `[hidden] { display: none !important; }` so we also need the `!important` here to be able to override the default hidden behavior on the sphinx rendered scikit-learn.org. See: https://github.com/scikit-learn/scikit-learn/issues/21755 */display: inline-block !important;position: relative;}#sk-container-id-2 div.sk-text-repr-fallback {display: none;}</style><div id=\"sk-container-id-2\" class=\"sk-top-container\"><div class=\"sk-text-repr-fallback\"><pre>RandomForestClassifier(n_estimators=150, random_state=42)</pre><b>In a Jupyter environment, please rerun this cell to show the HTML representation or trust the notebook. <br />On GitHub, the HTML representation is unable to render, please try loading this page with nbviewer.org.</b></div><div class=\"sk-container\" hidden><div class=\"sk-item\"><div class=\"sk-estimator sk-toggleable\"><input class=\"sk-toggleable__control sk-hidden--visually\" id=\"sk-estimator-id-2\" type=\"checkbox\" checked><label for=\"sk-estimator-id-2\" class=\"sk-toggleable__label sk-toggleable__label-arrow\">RandomForestClassifier</label><div class=\"sk-toggleable__content\"><pre>RandomForestClassifier(n_estimators=150, random_state=42)</pre></div></div></div></div></div>"
      ],
      "text/plain": [
       "RandomForestClassifier(n_estimators=150, random_state=42)"
      ]
     },
     "execution_count": 68,
     "metadata": {},
     "output_type": "execute_result"
    }
   ],
   "source": [
    "# Create a RandomForestClassifier instance with desired parameters\n",
    "# Example: n_estimators is the number of decision trees in the forest\n",
    "rf_classifier_1 = RandomForestClassifier(n_estimators=150, random_state=42)\n",
    "\n",
    "# Fit the classifier to your training data\n",
    "rf_classifier_1.fit(X_train, Y_train)"
   ]
  },
  {
   "cell_type": "code",
   "execution_count": 69,
   "id": "35c51baf",
   "metadata": {},
   "outputs": [],
   "source": [
    "predictions = rf_classifier_1.predict(X_test)"
   ]
  },
  {
   "cell_type": "code",
   "execution_count": 70,
   "id": "f6c4ddf9",
   "metadata": {},
   "outputs": [
    {
     "data": {
      "text/plain": [
       "2412"
      ]
     },
     "execution_count": 70,
     "metadata": {},
     "output_type": "execute_result"
    }
   ],
   "source": [
    "len(predictions)"
   ]
  },
  {
   "cell_type": "code",
   "execution_count": 71,
   "id": "fedeb8b3",
   "metadata": {},
   "outputs": [
    {
     "name": "stdout",
     "output_type": "stream",
     "text": [
      "Accuracy: 92.82752902155887\n"
     ]
    }
   ],
   "source": [
    "from sklearn.metrics import accuracy_score\n",
    "accuracy = accuracy_score(Y_test, predictions)\n",
    "print(\"Accuracy:\", accuracy*100)"
   ]
  },
  {
   "cell_type": "code",
   "execution_count": 72,
   "id": "272486ef",
   "metadata": {},
   "outputs": [],
   "source": [
    "def prediction_model(test_set,model):\n",
    "    predictions = model.predict(test_set)\n",
    "    return predictions"
   ]
  },
  {
   "cell_type": "markdown",
   "id": "22bbe357",
   "metadata": {},
   "source": [
    "## Predicting  NR.AR"
   ]
  },
  {
   "cell_type": "code",
   "execution_count": 73,
   "id": "45ba09ee",
   "metadata": {},
   "outputs": [],
   "source": [
    "columns_to_remove = ['NR.AhR','NR.AR.LBD','NR.Aromatase','NR.ER','NR.ER.LBD','NR.PPAR.gamma','SR.ARE','SR.ATAD5','SR.HSE','SR.MMP','SR.p53']\n",
    "df_ar = merged_df.drop(columns=columns_to_remove)"
   ]
  },
  {
   "cell_type": "code",
   "execution_count": 74,
   "id": "ef2f1c0c",
   "metadata": {
    "scrolled": true
   },
   "outputs": [
    {
     "data": {
      "text/html": [
       "<div>\n",
       "<style scoped>\n",
       "    .dataframe tbody tr th:only-of-type {\n",
       "        vertical-align: middle;\n",
       "    }\n",
       "\n",
       "    .dataframe tbody tr th {\n",
       "        vertical-align: top;\n",
       "    }\n",
       "\n",
       "    .dataframe thead th {\n",
       "        text-align: right;\n",
       "    }\n",
       "</style>\n",
       "<table border=\"1\" class=\"dataframe\">\n",
       "  <thead>\n",
       "    <tr style=\"text-align: right;\">\n",
       "      <th></th>\n",
       "      <th>AW</th>\n",
       "      <th>AWeight</th>\n",
       "      <th>Arto</th>\n",
       "      <th>Chi3ch</th>\n",
       "      <th>Chi4ch</th>\n",
       "      <th>Chi5ch</th>\n",
       "      <th>Chiv3c</th>\n",
       "      <th>Chiv4c</th>\n",
       "      <th>EstateVSA1</th>\n",
       "      <th>EstateVSA10</th>\n",
       "      <th>...</th>\n",
       "      <th>Petitj3D</th>\n",
       "      <th>RDFC10</th>\n",
       "      <th>RDFC13</th>\n",
       "      <th>RDFC22</th>\n",
       "      <th>RDFM3</th>\n",
       "      <th>RDFP5</th>\n",
       "      <th>RNCS</th>\n",
       "      <th>RPCS</th>\n",
       "      <th>grav</th>\n",
       "      <th>NR.AR</th>\n",
       "    </tr>\n",
       "  </thead>\n",
       "  <tbody>\n",
       "    <tr>\n",
       "      <th>0</th>\n",
       "      <td>5.436720e+07</td>\n",
       "      <td>13.053</td>\n",
       "      <td>2.176</td>\n",
       "      <td>0.0</td>\n",
       "      <td>0.0</td>\n",
       "      <td>0.000</td>\n",
       "      <td>1.088</td>\n",
       "      <td>0.000</td>\n",
       "      <td>12.407</td>\n",
       "      <td>0.000</td>\n",
       "      <td>...</td>\n",
       "      <td>0.805</td>\n",
       "      <td>-0.337</td>\n",
       "      <td>-0.054</td>\n",
       "      <td>0.037</td>\n",
       "      <td>1.092</td>\n",
       "      <td>4.809</td>\n",
       "      <td>0</td>\n",
       "      <td>83.808</td>\n",
       "      <td>88.147</td>\n",
       "      <td>0.0</td>\n",
       "    </tr>\n",
       "    <tr>\n",
       "      <th>1</th>\n",
       "      <td>1.268818e+07</td>\n",
       "      <td>22.123</td>\n",
       "      <td>2.065</td>\n",
       "      <td>0.0</td>\n",
       "      <td>0.0</td>\n",
       "      <td>0.000</td>\n",
       "      <td>1.655</td>\n",
       "      <td>0.000</td>\n",
       "      <td>105.090</td>\n",
       "      <td>0.000</td>\n",
       "      <td>...</td>\n",
       "      <td>0.943</td>\n",
       "      <td>-0.588</td>\n",
       "      <td>0.747</td>\n",
       "      <td>0.000</td>\n",
       "      <td>6.182</td>\n",
       "      <td>33.221</td>\n",
       "      <td>0</td>\n",
       "      <td>46.958</td>\n",
       "      <td>134.852</td>\n",
       "      <td>0.0</td>\n",
       "    </tr>\n",
       "    <tr>\n",
       "      <th>2</th>\n",
       "      <td>3.076932e+06</td>\n",
       "      <td>13.085</td>\n",
       "      <td>2.154</td>\n",
       "      <td>0.0</td>\n",
       "      <td>0.0</td>\n",
       "      <td>0.287</td>\n",
       "      <td>4.375</td>\n",
       "      <td>0.298</td>\n",
       "      <td>66.949</td>\n",
       "      <td>0.000</td>\n",
       "      <td>...</td>\n",
       "      <td>0.763</td>\n",
       "      <td>-1.225</td>\n",
       "      <td>0.703</td>\n",
       "      <td>-0.664</td>\n",
       "      <td>3.068</td>\n",
       "      <td>37.670</td>\n",
       "      <td>0</td>\n",
       "      <td>0.000</td>\n",
       "      <td>216.852</td>\n",
       "      <td>0.0</td>\n",
       "    </tr>\n",
       "    <tr>\n",
       "      <th>3</th>\n",
       "      <td>7.168569e+07</td>\n",
       "      <td>12.832</td>\n",
       "      <td>2.029</td>\n",
       "      <td>0.0</td>\n",
       "      <td>0.0</td>\n",
       "      <td>0.000</td>\n",
       "      <td>2.083</td>\n",
       "      <td>0.000</td>\n",
       "      <td>0.000</td>\n",
       "      <td>0.000</td>\n",
       "      <td>...</td>\n",
       "      <td>0.732</td>\n",
       "      <td>-1.078</td>\n",
       "      <td>-0.060</td>\n",
       "      <td>0.296</td>\n",
       "      <td>2.047</td>\n",
       "      <td>33.235</td>\n",
       "      <td>0</td>\n",
       "      <td>700.786</td>\n",
       "      <td>238.265</td>\n",
       "      <td>0.0</td>\n",
       "    </tr>\n",
       "    <tr>\n",
       "      <th>4</th>\n",
       "      <td>7.989702e+06</td>\n",
       "      <td>12.936</td>\n",
       "      <td>2.124</td>\n",
       "      <td>0.0</td>\n",
       "      <td>0.0</td>\n",
       "      <td>0.572</td>\n",
       "      <td>2.944</td>\n",
       "      <td>0.000</td>\n",
       "      <td>100.318</td>\n",
       "      <td>9.589</td>\n",
       "      <td>...</td>\n",
       "      <td>0.893</td>\n",
       "      <td>1.149</td>\n",
       "      <td>-1.688</td>\n",
       "      <td>-0.757</td>\n",
       "      <td>2.705</td>\n",
       "      <td>34.154</td>\n",
       "      <td>0</td>\n",
       "      <td>491.912</td>\n",
       "      <td>317.901</td>\n",
       "      <td>0.0</td>\n",
       "    </tr>\n",
       "    <tr>\n",
       "      <th>...</th>\n",
       "      <td>...</td>\n",
       "      <td>...</td>\n",
       "      <td>...</td>\n",
       "      <td>...</td>\n",
       "      <td>...</td>\n",
       "      <td>...</td>\n",
       "      <td>...</td>\n",
       "      <td>...</td>\n",
       "      <td>...</td>\n",
       "      <td>...</td>\n",
       "      <td>...</td>\n",
       "      <td>...</td>\n",
       "      <td>...</td>\n",
       "      <td>...</td>\n",
       "      <td>...</td>\n",
       "      <td>...</td>\n",
       "      <td>...</td>\n",
       "      <td>...</td>\n",
       "      <td>...</td>\n",
       "      <td>...</td>\n",
       "      <td>...</td>\n",
       "    </tr>\n",
       "    <tr>\n",
       "      <th>12055</th>\n",
       "      <td>1.428572e+07</td>\n",
       "      <td>14.255</td>\n",
       "      <td>2.000</td>\n",
       "      <td>0.0</td>\n",
       "      <td>0.0</td>\n",
       "      <td>0.096</td>\n",
       "      <td>0.321</td>\n",
       "      <td>0.000</td>\n",
       "      <td>12.407</td>\n",
       "      <td>0.000</td>\n",
       "      <td>...</td>\n",
       "      <td>0.706</td>\n",
       "      <td>0.376</td>\n",
       "      <td>-0.174</td>\n",
       "      <td>0.000</td>\n",
       "      <td>0.326</td>\n",
       "      <td>5.429</td>\n",
       "      <td>0</td>\n",
       "      <td>254.365</td>\n",
       "      <td>29.148</td>\n",
       "      <td>0.0</td>\n",
       "    </tr>\n",
       "    <tr>\n",
       "      <th>12056</th>\n",
       "      <td>1.193182e+07</td>\n",
       "      <td>13.674</td>\n",
       "      <td>2.061</td>\n",
       "      <td>0.0</td>\n",
       "      <td>0.0</td>\n",
       "      <td>0.000</td>\n",
       "      <td>0.685</td>\n",
       "      <td>0.000</td>\n",
       "      <td>30.918</td>\n",
       "      <td>0.000</td>\n",
       "      <td>...</td>\n",
       "      <td>0.827</td>\n",
       "      <td>0.550</td>\n",
       "      <td>-0.331</td>\n",
       "      <td>-0.021</td>\n",
       "      <td>0.961</td>\n",
       "      <td>18.126</td>\n",
       "      <td>0</td>\n",
       "      <td>268.098</td>\n",
       "      <td>93.636</td>\n",
       "      <td>0.0</td>\n",
       "    </tr>\n",
       "    <tr>\n",
       "      <th>12057</th>\n",
       "      <td>1.081800e+01</td>\n",
       "      <td>12.374</td>\n",
       "      <td>2.045</td>\n",
       "      <td>0.0</td>\n",
       "      <td>0.0</td>\n",
       "      <td>0.000</td>\n",
       "      <td>3.310</td>\n",
       "      <td>0.354</td>\n",
       "      <td>22.396</td>\n",
       "      <td>0.000</td>\n",
       "      <td>...</td>\n",
       "      <td>0.967</td>\n",
       "      <td>-0.589</td>\n",
       "      <td>0.081</td>\n",
       "      <td>0.087</td>\n",
       "      <td>0.907</td>\n",
       "      <td>24.295</td>\n",
       "      <td>0</td>\n",
       "      <td>605.744</td>\n",
       "      <td>91.670</td>\n",
       "      <td>0.0</td>\n",
       "    </tr>\n",
       "    <tr>\n",
       "      <th>12058</th>\n",
       "      <td>3.229000e+00</td>\n",
       "      <td>12.543</td>\n",
       "      <td>2.267</td>\n",
       "      <td>0.0</td>\n",
       "      <td>0.0</td>\n",
       "      <td>0.079</td>\n",
       "      <td>0.389</td>\n",
       "      <td>0.000</td>\n",
       "      <td>0.000</td>\n",
       "      <td>0.000</td>\n",
       "      <td>...</td>\n",
       "      <td>0.925</td>\n",
       "      <td>-0.039</td>\n",
       "      <td>-0.020</td>\n",
       "      <td>0.000</td>\n",
       "      <td>0.539</td>\n",
       "      <td>3.226</td>\n",
       "      <td>0</td>\n",
       "      <td>80.674</td>\n",
       "      <td>28.201</td>\n",
       "      <td>0.0</td>\n",
       "    </tr>\n",
       "    <tr>\n",
       "      <th>12059</th>\n",
       "      <td>1.931035e+07</td>\n",
       "      <td>15.004</td>\n",
       "      <td>1.867</td>\n",
       "      <td>0.0</td>\n",
       "      <td>0.0</td>\n",
       "      <td>0.000</td>\n",
       "      <td>0.943</td>\n",
       "      <td>0.037</td>\n",
       "      <td>128.848</td>\n",
       "      <td>0.000</td>\n",
       "      <td>...</td>\n",
       "      <td>0.948</td>\n",
       "      <td>-0.507</td>\n",
       "      <td>0.483</td>\n",
       "      <td>-0.263</td>\n",
       "      <td>1.135</td>\n",
       "      <td>30.145</td>\n",
       "      <td>0</td>\n",
       "      <td>355.061</td>\n",
       "      <td>87.731</td>\n",
       "      <td>0.0</td>\n",
       "    </tr>\n",
       "  </tbody>\n",
       "</table>\n",
       "<p>12060 rows × 149 columns</p>\n",
       "</div>"
      ],
      "text/plain": [
       "                 AW  AWeight   Arto  Chi3ch  Chi4ch  Chi5ch  Chiv3c  Chiv4c  \\\n",
       "0      5.436720e+07   13.053  2.176     0.0     0.0   0.000   1.088   0.000   \n",
       "1      1.268818e+07   22.123  2.065     0.0     0.0   0.000   1.655   0.000   \n",
       "2      3.076932e+06   13.085  2.154     0.0     0.0   0.287   4.375   0.298   \n",
       "3      7.168569e+07   12.832  2.029     0.0     0.0   0.000   2.083   0.000   \n",
       "4      7.989702e+06   12.936  2.124     0.0     0.0   0.572   2.944   0.000   \n",
       "...             ...      ...    ...     ...     ...     ...     ...     ...   \n",
       "12055  1.428572e+07   14.255  2.000     0.0     0.0   0.096   0.321   0.000   \n",
       "12056  1.193182e+07   13.674  2.061     0.0     0.0   0.000   0.685   0.000   \n",
       "12057  1.081800e+01   12.374  2.045     0.0     0.0   0.000   3.310   0.354   \n",
       "12058  3.229000e+00   12.543  2.267     0.0     0.0   0.079   0.389   0.000   \n",
       "12059  1.931035e+07   15.004  1.867     0.0     0.0   0.000   0.943   0.037   \n",
       "\n",
       "       EstateVSA1  EstateVSA10  ...  Petitj3D  RDFC10  RDFC13  RDFC22  RDFM3  \\\n",
       "0          12.407        0.000  ...     0.805  -0.337  -0.054   0.037  1.092   \n",
       "1         105.090        0.000  ...     0.943  -0.588   0.747   0.000  6.182   \n",
       "2          66.949        0.000  ...     0.763  -1.225   0.703  -0.664  3.068   \n",
       "3           0.000        0.000  ...     0.732  -1.078  -0.060   0.296  2.047   \n",
       "4         100.318        9.589  ...     0.893   1.149  -1.688  -0.757  2.705   \n",
       "...           ...          ...  ...       ...     ...     ...     ...    ...   \n",
       "12055      12.407        0.000  ...     0.706   0.376  -0.174   0.000  0.326   \n",
       "12056      30.918        0.000  ...     0.827   0.550  -0.331  -0.021  0.961   \n",
       "12057      22.396        0.000  ...     0.967  -0.589   0.081   0.087  0.907   \n",
       "12058       0.000        0.000  ...     0.925  -0.039  -0.020   0.000  0.539   \n",
       "12059     128.848        0.000  ...     0.948  -0.507   0.483  -0.263  1.135   \n",
       "\n",
       "        RDFP5  RNCS     RPCS     grav  NR.AR  \n",
       "0       4.809     0   83.808   88.147    0.0  \n",
       "1      33.221     0   46.958  134.852    0.0  \n",
       "2      37.670     0    0.000  216.852    0.0  \n",
       "3      33.235     0  700.786  238.265    0.0  \n",
       "4      34.154     0  491.912  317.901    0.0  \n",
       "...       ...   ...      ...      ...    ...  \n",
       "12055   5.429     0  254.365   29.148    0.0  \n",
       "12056  18.126     0  268.098   93.636    0.0  \n",
       "12057  24.295     0  605.744   91.670    0.0  \n",
       "12058   3.226     0   80.674   28.201    0.0  \n",
       "12059  30.145     0  355.061   87.731    0.0  \n",
       "\n",
       "[12060 rows x 149 columns]"
      ]
     },
     "execution_count": 74,
     "metadata": {},
     "output_type": "execute_result"
    }
   ],
   "source": [
    "df_ar"
   ]
  },
  {
   "cell_type": "code",
   "execution_count": 75,
   "id": "debb85bd",
   "metadata": {},
   "outputs": [],
   "source": [
    "X = df_ar.drop(columns=['NR.AR'])\n",
    "y = df_ar['NR.AR']  # Target variable\n"
   ]
  },
  {
   "cell_type": "code",
   "execution_count": 76,
   "id": "c8de92fe",
   "metadata": {},
   "outputs": [
    {
     "data": {
      "text/plain": [
       "0        0.0\n",
       "1        0.0\n",
       "2        0.0\n",
       "3        0.0\n",
       "4        0.0\n",
       "        ... \n",
       "12055    0.0\n",
       "12056    0.0\n",
       "12057    0.0\n",
       "12058    0.0\n",
       "12059    0.0\n",
       "Name: NR.AR, Length: 12060, dtype: float64"
      ]
     },
     "execution_count": 76,
     "metadata": {},
     "output_type": "execute_result"
    }
   ],
   "source": [
    "y"
   ]
  },
  {
   "cell_type": "code",
   "execution_count": 77,
   "id": "edb32fa2",
   "metadata": {},
   "outputs": [],
   "source": [
    "X_train,X_test,Y_train,Y_test = train_test_split(X,y,test_size=0.2,random_state=42)"
   ]
  },
  {
   "cell_type": "code",
   "execution_count": 78,
   "id": "442de7ab",
   "metadata": {},
   "outputs": [],
   "source": [
    "from sklearn.ensemble import RandomForestClassifier"
   ]
  },
  {
   "cell_type": "code",
   "execution_count": 79,
   "id": "0ce55ff0",
   "metadata": {},
   "outputs": [
    {
     "data": {
      "text/html": [
       "<style>#sk-container-id-3 {color: black;}#sk-container-id-3 pre{padding: 0;}#sk-container-id-3 div.sk-toggleable {background-color: white;}#sk-container-id-3 label.sk-toggleable__label {cursor: pointer;display: block;width: 100%;margin-bottom: 0;padding: 0.3em;box-sizing: border-box;text-align: center;}#sk-container-id-3 label.sk-toggleable__label-arrow:before {content: \"▸\";float: left;margin-right: 0.25em;color: #696969;}#sk-container-id-3 label.sk-toggleable__label-arrow:hover:before {color: black;}#sk-container-id-3 div.sk-estimator:hover label.sk-toggleable__label-arrow:before {color: black;}#sk-container-id-3 div.sk-toggleable__content {max-height: 0;max-width: 0;overflow: hidden;text-align: left;background-color: #f0f8ff;}#sk-container-id-3 div.sk-toggleable__content pre {margin: 0.2em;color: black;border-radius: 0.25em;background-color: #f0f8ff;}#sk-container-id-3 input.sk-toggleable__control:checked~div.sk-toggleable__content {max-height: 200px;max-width: 100%;overflow: auto;}#sk-container-id-3 input.sk-toggleable__control:checked~label.sk-toggleable__label-arrow:before {content: \"▾\";}#sk-container-id-3 div.sk-estimator input.sk-toggleable__control:checked~label.sk-toggleable__label {background-color: #d4ebff;}#sk-container-id-3 div.sk-label input.sk-toggleable__control:checked~label.sk-toggleable__label {background-color: #d4ebff;}#sk-container-id-3 input.sk-hidden--visually {border: 0;clip: rect(1px 1px 1px 1px);clip: rect(1px, 1px, 1px, 1px);height: 1px;margin: -1px;overflow: hidden;padding: 0;position: absolute;width: 1px;}#sk-container-id-3 div.sk-estimator {font-family: monospace;background-color: #f0f8ff;border: 1px dotted black;border-radius: 0.25em;box-sizing: border-box;margin-bottom: 0.5em;}#sk-container-id-3 div.sk-estimator:hover {background-color: #d4ebff;}#sk-container-id-3 div.sk-parallel-item::after {content: \"\";width: 100%;border-bottom: 1px solid gray;flex-grow: 1;}#sk-container-id-3 div.sk-label:hover label.sk-toggleable__label {background-color: #d4ebff;}#sk-container-id-3 div.sk-serial::before {content: \"\";position: absolute;border-left: 1px solid gray;box-sizing: border-box;top: 0;bottom: 0;left: 50%;z-index: 0;}#sk-container-id-3 div.sk-serial {display: flex;flex-direction: column;align-items: center;background-color: white;padding-right: 0.2em;padding-left: 0.2em;position: relative;}#sk-container-id-3 div.sk-item {position: relative;z-index: 1;}#sk-container-id-3 div.sk-parallel {display: flex;align-items: stretch;justify-content: center;background-color: white;position: relative;}#sk-container-id-3 div.sk-item::before, #sk-container-id-3 div.sk-parallel-item::before {content: \"\";position: absolute;border-left: 1px solid gray;box-sizing: border-box;top: 0;bottom: 0;left: 50%;z-index: -1;}#sk-container-id-3 div.sk-parallel-item {display: flex;flex-direction: column;z-index: 1;position: relative;background-color: white;}#sk-container-id-3 div.sk-parallel-item:first-child::after {align-self: flex-end;width: 50%;}#sk-container-id-3 div.sk-parallel-item:last-child::after {align-self: flex-start;width: 50%;}#sk-container-id-3 div.sk-parallel-item:only-child::after {width: 0;}#sk-container-id-3 div.sk-dashed-wrapped {border: 1px dashed gray;margin: 0 0.4em 0.5em 0.4em;box-sizing: border-box;padding-bottom: 0.4em;background-color: white;}#sk-container-id-3 div.sk-label label {font-family: monospace;font-weight: bold;display: inline-block;line-height: 1.2em;}#sk-container-id-3 div.sk-label-container {text-align: center;}#sk-container-id-3 div.sk-container {/* jupyter's `normalize.less` sets `[hidden] { display: none; }` but bootstrap.min.css set `[hidden] { display: none !important; }` so we also need the `!important` here to be able to override the default hidden behavior on the sphinx rendered scikit-learn.org. See: https://github.com/scikit-learn/scikit-learn/issues/21755 */display: inline-block !important;position: relative;}#sk-container-id-3 div.sk-text-repr-fallback {display: none;}</style><div id=\"sk-container-id-3\" class=\"sk-top-container\"><div class=\"sk-text-repr-fallback\"><pre>RandomForestClassifier(random_state=42)</pre><b>In a Jupyter environment, please rerun this cell to show the HTML representation or trust the notebook. <br />On GitHub, the HTML representation is unable to render, please try loading this page with nbviewer.org.</b></div><div class=\"sk-container\" hidden><div class=\"sk-item\"><div class=\"sk-estimator sk-toggleable\"><input class=\"sk-toggleable__control sk-hidden--visually\" id=\"sk-estimator-id-3\" type=\"checkbox\" checked><label for=\"sk-estimator-id-3\" class=\"sk-toggleable__label sk-toggleable__label-arrow\">RandomForestClassifier</label><div class=\"sk-toggleable__content\"><pre>RandomForestClassifier(random_state=42)</pre></div></div></div></div></div>"
      ],
      "text/plain": [
       "RandomForestClassifier(random_state=42)"
      ]
     },
     "execution_count": 79,
     "metadata": {},
     "output_type": "execute_result"
    }
   ],
   "source": [
    "# Create a RandomForestClassifier instance with desired parameters\n",
    "# Example: n_estimators is the number of decision trees in the forest\n",
    "rf_classifier_2 = RandomForestClassifier(n_estimators=100, random_state=42)\n",
    "\n",
    "# Fit the classifier to your training data\n",
    "rf_classifier_2.fit(X_train, Y_train)"
   ]
  },
  {
   "cell_type": "code",
   "execution_count": 80,
   "id": "91ee60c3",
   "metadata": {},
   "outputs": [],
   "source": [
    "predictions = rf_classifier_2.predict(X_test)"
   ]
  },
  {
   "cell_type": "code",
   "execution_count": null,
   "id": "d20cb424",
   "metadata": {},
   "outputs": [],
   "source": []
  },
  {
   "cell_type": "code",
   "execution_count": 81,
   "id": "7167032a",
   "metadata": {},
   "outputs": [
    {
     "name": "stdout",
     "output_type": "stream",
     "text": [
      "Accuracy: 96.51741293532339\n"
     ]
    }
   ],
   "source": [
    "accuracy = accuracy_score(Y_test, predictions)\n",
    "print(\"Accuracy:\", accuracy*100)"
   ]
  },
  {
   "cell_type": "code",
   "execution_count": null,
   "id": "f683f822",
   "metadata": {},
   "outputs": [],
   "source": []
  },
  {
   "cell_type": "markdown",
   "id": "3aa0b55d",
   "metadata": {},
   "source": [
    "## Predicting NR.AR.LBD"
   ]
  },
  {
   "cell_type": "code",
   "execution_count": 82,
   "id": "7ee6a46d",
   "metadata": {},
   "outputs": [],
   "source": [
    "columns_to_remove = ['NR.AhR','NR.AR','NR.Aromatase','NR.ER','NR.ER.LBD','NR.PPAR.gamma','SR.ARE','SR.ATAD5','SR.HSE','SR.MMP','SR.p53']\n",
    "df_ar_lbd = merged_df.drop(columns=columns_to_remove)"
   ]
  },
  {
   "cell_type": "code",
   "execution_count": 83,
   "id": "919bfbc8",
   "metadata": {},
   "outputs": [],
   "source": [
    "X = df_ar_lbd.drop(columns=['NR.AR.LBD'])\n",
    "y = df_ar_lbd['NR.AR.LBD']  # Target variable\n"
   ]
  },
  {
   "cell_type": "code",
   "execution_count": 84,
   "id": "c62cee75",
   "metadata": {},
   "outputs": [],
   "source": [
    "X_train,X_test,Y_train,Y_test = train_test_split(X,y,test_size=0.2,random_state=42)"
   ]
  },
  {
   "cell_type": "code",
   "execution_count": 85,
   "id": "81d27d45",
   "metadata": {},
   "outputs": [
    {
     "data": {
      "text/html": [
       "<style>#sk-container-id-4 {color: black;}#sk-container-id-4 pre{padding: 0;}#sk-container-id-4 div.sk-toggleable {background-color: white;}#sk-container-id-4 label.sk-toggleable__label {cursor: pointer;display: block;width: 100%;margin-bottom: 0;padding: 0.3em;box-sizing: border-box;text-align: center;}#sk-container-id-4 label.sk-toggleable__label-arrow:before {content: \"▸\";float: left;margin-right: 0.25em;color: #696969;}#sk-container-id-4 label.sk-toggleable__label-arrow:hover:before {color: black;}#sk-container-id-4 div.sk-estimator:hover label.sk-toggleable__label-arrow:before {color: black;}#sk-container-id-4 div.sk-toggleable__content {max-height: 0;max-width: 0;overflow: hidden;text-align: left;background-color: #f0f8ff;}#sk-container-id-4 div.sk-toggleable__content pre {margin: 0.2em;color: black;border-radius: 0.25em;background-color: #f0f8ff;}#sk-container-id-4 input.sk-toggleable__control:checked~div.sk-toggleable__content {max-height: 200px;max-width: 100%;overflow: auto;}#sk-container-id-4 input.sk-toggleable__control:checked~label.sk-toggleable__label-arrow:before {content: \"▾\";}#sk-container-id-4 div.sk-estimator input.sk-toggleable__control:checked~label.sk-toggleable__label {background-color: #d4ebff;}#sk-container-id-4 div.sk-label input.sk-toggleable__control:checked~label.sk-toggleable__label {background-color: #d4ebff;}#sk-container-id-4 input.sk-hidden--visually {border: 0;clip: rect(1px 1px 1px 1px);clip: rect(1px, 1px, 1px, 1px);height: 1px;margin: -1px;overflow: hidden;padding: 0;position: absolute;width: 1px;}#sk-container-id-4 div.sk-estimator {font-family: monospace;background-color: #f0f8ff;border: 1px dotted black;border-radius: 0.25em;box-sizing: border-box;margin-bottom: 0.5em;}#sk-container-id-4 div.sk-estimator:hover {background-color: #d4ebff;}#sk-container-id-4 div.sk-parallel-item::after {content: \"\";width: 100%;border-bottom: 1px solid gray;flex-grow: 1;}#sk-container-id-4 div.sk-label:hover label.sk-toggleable__label {background-color: #d4ebff;}#sk-container-id-4 div.sk-serial::before {content: \"\";position: absolute;border-left: 1px solid gray;box-sizing: border-box;top: 0;bottom: 0;left: 50%;z-index: 0;}#sk-container-id-4 div.sk-serial {display: flex;flex-direction: column;align-items: center;background-color: white;padding-right: 0.2em;padding-left: 0.2em;position: relative;}#sk-container-id-4 div.sk-item {position: relative;z-index: 1;}#sk-container-id-4 div.sk-parallel {display: flex;align-items: stretch;justify-content: center;background-color: white;position: relative;}#sk-container-id-4 div.sk-item::before, #sk-container-id-4 div.sk-parallel-item::before {content: \"\";position: absolute;border-left: 1px solid gray;box-sizing: border-box;top: 0;bottom: 0;left: 50%;z-index: -1;}#sk-container-id-4 div.sk-parallel-item {display: flex;flex-direction: column;z-index: 1;position: relative;background-color: white;}#sk-container-id-4 div.sk-parallel-item:first-child::after {align-self: flex-end;width: 50%;}#sk-container-id-4 div.sk-parallel-item:last-child::after {align-self: flex-start;width: 50%;}#sk-container-id-4 div.sk-parallel-item:only-child::after {width: 0;}#sk-container-id-4 div.sk-dashed-wrapped {border: 1px dashed gray;margin: 0 0.4em 0.5em 0.4em;box-sizing: border-box;padding-bottom: 0.4em;background-color: white;}#sk-container-id-4 div.sk-label label {font-family: monospace;font-weight: bold;display: inline-block;line-height: 1.2em;}#sk-container-id-4 div.sk-label-container {text-align: center;}#sk-container-id-4 div.sk-container {/* jupyter's `normalize.less` sets `[hidden] { display: none; }` but bootstrap.min.css set `[hidden] { display: none !important; }` so we also need the `!important` here to be able to override the default hidden behavior on the sphinx rendered scikit-learn.org. See: https://github.com/scikit-learn/scikit-learn/issues/21755 */display: inline-block !important;position: relative;}#sk-container-id-4 div.sk-text-repr-fallback {display: none;}</style><div id=\"sk-container-id-4\" class=\"sk-top-container\"><div class=\"sk-text-repr-fallback\"><pre>RandomForestClassifier(random_state=42)</pre><b>In a Jupyter environment, please rerun this cell to show the HTML representation or trust the notebook. <br />On GitHub, the HTML representation is unable to render, please try loading this page with nbviewer.org.</b></div><div class=\"sk-container\" hidden><div class=\"sk-item\"><div class=\"sk-estimator sk-toggleable\"><input class=\"sk-toggleable__control sk-hidden--visually\" id=\"sk-estimator-id-4\" type=\"checkbox\" checked><label for=\"sk-estimator-id-4\" class=\"sk-toggleable__label sk-toggleable__label-arrow\">RandomForestClassifier</label><div class=\"sk-toggleable__content\"><pre>RandomForestClassifier(random_state=42)</pre></div></div></div></div></div>"
      ],
      "text/plain": [
       "RandomForestClassifier(random_state=42)"
      ]
     },
     "execution_count": 85,
     "metadata": {},
     "output_type": "execute_result"
    }
   ],
   "source": [
    "# Create a RandomForestClassifier instance with desired parameters\n",
    "# Example: n_estimators is the number of decision trees in the forest\n",
    "rf_classifier_3 = RandomForestClassifier(n_estimators=100, random_state=42)\n",
    "\n",
    "# Fit the classifier to your training data\n",
    "rf_classifier_3.fit(X_train, Y_train)"
   ]
  },
  {
   "cell_type": "code",
   "execution_count": 86,
   "id": "b9423b87",
   "metadata": {},
   "outputs": [],
   "source": [
    "predictions = rf_classifier_3.predict(X_test)"
   ]
  },
  {
   "cell_type": "code",
   "execution_count": 87,
   "id": "45300416",
   "metadata": {},
   "outputs": [
    {
     "data": {
      "text/plain": [
       "array([0., 0., 0., ..., 0., 0., 0.])"
      ]
     },
     "execution_count": 87,
     "metadata": {},
     "output_type": "execute_result"
    }
   ],
   "source": [
    "predictions\n"
   ]
  },
  {
   "cell_type": "code",
   "execution_count": 88,
   "id": "be4ae427",
   "metadata": {},
   "outputs": [
    {
     "name": "stdout",
     "output_type": "stream",
     "text": [
      "Accuracy: 96.60033167495854\n"
     ]
    }
   ],
   "source": [
    "accuracy = accuracy_score(Y_test, predictions)\n",
    "print(\"Accuracy:\", accuracy*100)"
   ]
  },
  {
   "cell_type": "code",
   "execution_count": null,
   "id": "181a23b5",
   "metadata": {},
   "outputs": [],
   "source": []
  },
  {
   "cell_type": "markdown",
   "id": "bb34bb86",
   "metadata": {},
   "source": [
    "## Predicting NR.Aromatase"
   ]
  },
  {
   "cell_type": "code",
   "execution_count": 89,
   "id": "604cad33",
   "metadata": {},
   "outputs": [],
   "source": [
    "columns_to_remove = ['NR.AhR','NR.AR','NR.AR.LBD','NR.ER','NR.ER.LBD','NR.PPAR.gamma','SR.ARE','SR.ATAD5','SR.HSE','SR.MMP','SR.p53']\n",
    "df_aromatase = merged_df.drop(columns=columns_to_remove)"
   ]
  },
  {
   "cell_type": "code",
   "execution_count": 90,
   "id": "198e84e9",
   "metadata": {},
   "outputs": [],
   "source": [
    "X = df_aromatase.drop(columns=['NR.Aromatase'])\n",
    "y = df_aromatase['NR.Aromatase']  # Target variable\n"
   ]
  },
  {
   "cell_type": "code",
   "execution_count": 91,
   "id": "0dfbd648",
   "metadata": {},
   "outputs": [],
   "source": [
    "X_train,X_test,Y_train,Y_test = train_test_split(X,y,test_size=0.2,random_state=42)"
   ]
  },
  {
   "cell_type": "code",
   "execution_count": 92,
   "id": "20bc4e38",
   "metadata": {},
   "outputs": [
    {
     "data": {
      "text/html": [
       "<style>#sk-container-id-5 {color: black;}#sk-container-id-5 pre{padding: 0;}#sk-container-id-5 div.sk-toggleable {background-color: white;}#sk-container-id-5 label.sk-toggleable__label {cursor: pointer;display: block;width: 100%;margin-bottom: 0;padding: 0.3em;box-sizing: border-box;text-align: center;}#sk-container-id-5 label.sk-toggleable__label-arrow:before {content: \"▸\";float: left;margin-right: 0.25em;color: #696969;}#sk-container-id-5 label.sk-toggleable__label-arrow:hover:before {color: black;}#sk-container-id-5 div.sk-estimator:hover label.sk-toggleable__label-arrow:before {color: black;}#sk-container-id-5 div.sk-toggleable__content {max-height: 0;max-width: 0;overflow: hidden;text-align: left;background-color: #f0f8ff;}#sk-container-id-5 div.sk-toggleable__content pre {margin: 0.2em;color: black;border-radius: 0.25em;background-color: #f0f8ff;}#sk-container-id-5 input.sk-toggleable__control:checked~div.sk-toggleable__content {max-height: 200px;max-width: 100%;overflow: auto;}#sk-container-id-5 input.sk-toggleable__control:checked~label.sk-toggleable__label-arrow:before {content: \"▾\";}#sk-container-id-5 div.sk-estimator input.sk-toggleable__control:checked~label.sk-toggleable__label {background-color: #d4ebff;}#sk-container-id-5 div.sk-label input.sk-toggleable__control:checked~label.sk-toggleable__label {background-color: #d4ebff;}#sk-container-id-5 input.sk-hidden--visually {border: 0;clip: rect(1px 1px 1px 1px);clip: rect(1px, 1px, 1px, 1px);height: 1px;margin: -1px;overflow: hidden;padding: 0;position: absolute;width: 1px;}#sk-container-id-5 div.sk-estimator {font-family: monospace;background-color: #f0f8ff;border: 1px dotted black;border-radius: 0.25em;box-sizing: border-box;margin-bottom: 0.5em;}#sk-container-id-5 div.sk-estimator:hover {background-color: #d4ebff;}#sk-container-id-5 div.sk-parallel-item::after {content: \"\";width: 100%;border-bottom: 1px solid gray;flex-grow: 1;}#sk-container-id-5 div.sk-label:hover label.sk-toggleable__label {background-color: #d4ebff;}#sk-container-id-5 div.sk-serial::before {content: \"\";position: absolute;border-left: 1px solid gray;box-sizing: border-box;top: 0;bottom: 0;left: 50%;z-index: 0;}#sk-container-id-5 div.sk-serial {display: flex;flex-direction: column;align-items: center;background-color: white;padding-right: 0.2em;padding-left: 0.2em;position: relative;}#sk-container-id-5 div.sk-item {position: relative;z-index: 1;}#sk-container-id-5 div.sk-parallel {display: flex;align-items: stretch;justify-content: center;background-color: white;position: relative;}#sk-container-id-5 div.sk-item::before, #sk-container-id-5 div.sk-parallel-item::before {content: \"\";position: absolute;border-left: 1px solid gray;box-sizing: border-box;top: 0;bottom: 0;left: 50%;z-index: -1;}#sk-container-id-5 div.sk-parallel-item {display: flex;flex-direction: column;z-index: 1;position: relative;background-color: white;}#sk-container-id-5 div.sk-parallel-item:first-child::after {align-self: flex-end;width: 50%;}#sk-container-id-5 div.sk-parallel-item:last-child::after {align-self: flex-start;width: 50%;}#sk-container-id-5 div.sk-parallel-item:only-child::after {width: 0;}#sk-container-id-5 div.sk-dashed-wrapped {border: 1px dashed gray;margin: 0 0.4em 0.5em 0.4em;box-sizing: border-box;padding-bottom: 0.4em;background-color: white;}#sk-container-id-5 div.sk-label label {font-family: monospace;font-weight: bold;display: inline-block;line-height: 1.2em;}#sk-container-id-5 div.sk-label-container {text-align: center;}#sk-container-id-5 div.sk-container {/* jupyter's `normalize.less` sets `[hidden] { display: none; }` but bootstrap.min.css set `[hidden] { display: none !important; }` so we also need the `!important` here to be able to override the default hidden behavior on the sphinx rendered scikit-learn.org. See: https://github.com/scikit-learn/scikit-learn/issues/21755 */display: inline-block !important;position: relative;}#sk-container-id-5 div.sk-text-repr-fallback {display: none;}</style><div id=\"sk-container-id-5\" class=\"sk-top-container\"><div class=\"sk-text-repr-fallback\"><pre>RandomForestClassifier(random_state=42)</pre><b>In a Jupyter environment, please rerun this cell to show the HTML representation or trust the notebook. <br />On GitHub, the HTML representation is unable to render, please try loading this page with nbviewer.org.</b></div><div class=\"sk-container\" hidden><div class=\"sk-item\"><div class=\"sk-estimator sk-toggleable\"><input class=\"sk-toggleable__control sk-hidden--visually\" id=\"sk-estimator-id-5\" type=\"checkbox\" checked><label for=\"sk-estimator-id-5\" class=\"sk-toggleable__label sk-toggleable__label-arrow\">RandomForestClassifier</label><div class=\"sk-toggleable__content\"><pre>RandomForestClassifier(random_state=42)</pre></div></div></div></div></div>"
      ],
      "text/plain": [
       "RandomForestClassifier(random_state=42)"
      ]
     },
     "execution_count": 92,
     "metadata": {},
     "output_type": "execute_result"
    }
   ],
   "source": [
    "# Create a RandomForestClassifier instance with desired parameters\n",
    "# Example: n_estimators is the number of decision trees in the forest\n",
    "rf_classifier_4 = RandomForestClassifier(n_estimators=100, random_state=42)\n",
    "\n",
    "# Fit the classifier to your training data\n",
    "rf_classifier_4.fit(X_train, Y_train)"
   ]
  },
  {
   "cell_type": "code",
   "execution_count": 93,
   "id": "02d01747",
   "metadata": {},
   "outputs": [],
   "source": [
    "predictions = rf_classifier_4.predict(X_test)"
   ]
  },
  {
   "cell_type": "code",
   "execution_count": 94,
   "id": "440c2fd7",
   "metadata": {},
   "outputs": [
    {
     "data": {
      "text/plain": [
       "array([0., 0., 0., ..., 0., 0., 0.])"
      ]
     },
     "execution_count": 94,
     "metadata": {},
     "output_type": "execute_result"
    }
   ],
   "source": [
    "predictions\n"
   ]
  },
  {
   "cell_type": "code",
   "execution_count": 95,
   "id": "d4c63a4f",
   "metadata": {},
   "outputs": [
    {
     "name": "stdout",
     "output_type": "stream",
     "text": [
      "Accuracy: 96.4759535655058\n"
     ]
    }
   ],
   "source": [
    "accuracy = accuracy_score(Y_test, predictions)\n",
    "print(\"Accuracy:\", accuracy*100)"
   ]
  },
  {
   "cell_type": "code",
   "execution_count": null,
   "id": "02d1ee51",
   "metadata": {},
   "outputs": [],
   "source": []
  },
  {
   "cell_type": "markdown",
   "id": "1ccd52c9",
   "metadata": {},
   "source": [
    "## Predicting NR.ER"
   ]
  },
  {
   "cell_type": "code",
   "execution_count": 96,
   "id": "9bb80c56",
   "metadata": {},
   "outputs": [],
   "source": [
    "columns_to_remove = ['NR.AhR','NR.AR','NR.Aromatase','NR.AR.LBD','NR.ER.LBD','NR.PPAR.gamma','SR.ARE','SR.ATAD5','SR.HSE','SR.MMP','SR.p53']\n",
    "df_er= merged_df.drop(columns=columns_to_remove)"
   ]
  },
  {
   "cell_type": "code",
   "execution_count": 97,
   "id": "d5aa9dcc",
   "metadata": {},
   "outputs": [],
   "source": [
    "X = df_er.drop(columns=['NR.ER'])\n",
    "y = df_er['NR.ER']  # Target variable\n"
   ]
  },
  {
   "cell_type": "code",
   "execution_count": 98,
   "id": "4fcf1dbc",
   "metadata": {},
   "outputs": [],
   "source": [
    "X_train,X_test,Y_train,Y_test = train_test_split(X,y,test_size=0.2,random_state=42)"
   ]
  },
  {
   "cell_type": "code",
   "execution_count": 99,
   "id": "b0eb4f85",
   "metadata": {},
   "outputs": [
    {
     "data": {
      "text/html": [
       "<style>#sk-container-id-6 {color: black;}#sk-container-id-6 pre{padding: 0;}#sk-container-id-6 div.sk-toggleable {background-color: white;}#sk-container-id-6 label.sk-toggleable__label {cursor: pointer;display: block;width: 100%;margin-bottom: 0;padding: 0.3em;box-sizing: border-box;text-align: center;}#sk-container-id-6 label.sk-toggleable__label-arrow:before {content: \"▸\";float: left;margin-right: 0.25em;color: #696969;}#sk-container-id-6 label.sk-toggleable__label-arrow:hover:before {color: black;}#sk-container-id-6 div.sk-estimator:hover label.sk-toggleable__label-arrow:before {color: black;}#sk-container-id-6 div.sk-toggleable__content {max-height: 0;max-width: 0;overflow: hidden;text-align: left;background-color: #f0f8ff;}#sk-container-id-6 div.sk-toggleable__content pre {margin: 0.2em;color: black;border-radius: 0.25em;background-color: #f0f8ff;}#sk-container-id-6 input.sk-toggleable__control:checked~div.sk-toggleable__content {max-height: 200px;max-width: 100%;overflow: auto;}#sk-container-id-6 input.sk-toggleable__control:checked~label.sk-toggleable__label-arrow:before {content: \"▾\";}#sk-container-id-6 div.sk-estimator input.sk-toggleable__control:checked~label.sk-toggleable__label {background-color: #d4ebff;}#sk-container-id-6 div.sk-label input.sk-toggleable__control:checked~label.sk-toggleable__label {background-color: #d4ebff;}#sk-container-id-6 input.sk-hidden--visually {border: 0;clip: rect(1px 1px 1px 1px);clip: rect(1px, 1px, 1px, 1px);height: 1px;margin: -1px;overflow: hidden;padding: 0;position: absolute;width: 1px;}#sk-container-id-6 div.sk-estimator {font-family: monospace;background-color: #f0f8ff;border: 1px dotted black;border-radius: 0.25em;box-sizing: border-box;margin-bottom: 0.5em;}#sk-container-id-6 div.sk-estimator:hover {background-color: #d4ebff;}#sk-container-id-6 div.sk-parallel-item::after {content: \"\";width: 100%;border-bottom: 1px solid gray;flex-grow: 1;}#sk-container-id-6 div.sk-label:hover label.sk-toggleable__label {background-color: #d4ebff;}#sk-container-id-6 div.sk-serial::before {content: \"\";position: absolute;border-left: 1px solid gray;box-sizing: border-box;top: 0;bottom: 0;left: 50%;z-index: 0;}#sk-container-id-6 div.sk-serial {display: flex;flex-direction: column;align-items: center;background-color: white;padding-right: 0.2em;padding-left: 0.2em;position: relative;}#sk-container-id-6 div.sk-item {position: relative;z-index: 1;}#sk-container-id-6 div.sk-parallel {display: flex;align-items: stretch;justify-content: center;background-color: white;position: relative;}#sk-container-id-6 div.sk-item::before, #sk-container-id-6 div.sk-parallel-item::before {content: \"\";position: absolute;border-left: 1px solid gray;box-sizing: border-box;top: 0;bottom: 0;left: 50%;z-index: -1;}#sk-container-id-6 div.sk-parallel-item {display: flex;flex-direction: column;z-index: 1;position: relative;background-color: white;}#sk-container-id-6 div.sk-parallel-item:first-child::after {align-self: flex-end;width: 50%;}#sk-container-id-6 div.sk-parallel-item:last-child::after {align-self: flex-start;width: 50%;}#sk-container-id-6 div.sk-parallel-item:only-child::after {width: 0;}#sk-container-id-6 div.sk-dashed-wrapped {border: 1px dashed gray;margin: 0 0.4em 0.5em 0.4em;box-sizing: border-box;padding-bottom: 0.4em;background-color: white;}#sk-container-id-6 div.sk-label label {font-family: monospace;font-weight: bold;display: inline-block;line-height: 1.2em;}#sk-container-id-6 div.sk-label-container {text-align: center;}#sk-container-id-6 div.sk-container {/* jupyter's `normalize.less` sets `[hidden] { display: none; }` but bootstrap.min.css set `[hidden] { display: none !important; }` so we also need the `!important` here to be able to override the default hidden behavior on the sphinx rendered scikit-learn.org. See: https://github.com/scikit-learn/scikit-learn/issues/21755 */display: inline-block !important;position: relative;}#sk-container-id-6 div.sk-text-repr-fallback {display: none;}</style><div id=\"sk-container-id-6\" class=\"sk-top-container\"><div class=\"sk-text-repr-fallback\"><pre>RandomForestClassifier(random_state=42)</pre><b>In a Jupyter environment, please rerun this cell to show the HTML representation or trust the notebook. <br />On GitHub, the HTML representation is unable to render, please try loading this page with nbviewer.org.</b></div><div class=\"sk-container\" hidden><div class=\"sk-item\"><div class=\"sk-estimator sk-toggleable\"><input class=\"sk-toggleable__control sk-hidden--visually\" id=\"sk-estimator-id-6\" type=\"checkbox\" checked><label for=\"sk-estimator-id-6\" class=\"sk-toggleable__label sk-toggleable__label-arrow\">RandomForestClassifier</label><div class=\"sk-toggleable__content\"><pre>RandomForestClassifier(random_state=42)</pre></div></div></div></div></div>"
      ],
      "text/plain": [
       "RandomForestClassifier(random_state=42)"
      ]
     },
     "execution_count": 99,
     "metadata": {},
     "output_type": "execute_result"
    }
   ],
   "source": [
    "# Create a RandomForestClassifier instance with desired parameters\n",
    "# Example: n_estimators is the number of decision trees in the forest\n",
    "rf_classifier_5 = RandomForestClassifier(n_estimators=100, random_state=42)\n",
    "\n",
    "# Fit the classifier to your training data\n",
    "rf_classifier_5.fit(X_train, Y_train)"
   ]
  },
  {
   "cell_type": "code",
   "execution_count": 100,
   "id": "2eef0b4e",
   "metadata": {},
   "outputs": [],
   "source": [
    "predictions = rf_classifier_5.predict(X_test)"
   ]
  },
  {
   "cell_type": "code",
   "execution_count": 101,
   "id": "f7c8004d",
   "metadata": {},
   "outputs": [
    {
     "data": {
      "text/plain": [
       "array([0., 0., 0., ..., 0., 0., 0.])"
      ]
     },
     "execution_count": 101,
     "metadata": {},
     "output_type": "execute_result"
    }
   ],
   "source": [
    "predictions\n"
   ]
  },
  {
   "cell_type": "code",
   "execution_count": 102,
   "id": "1d91f9cf",
   "metadata": {},
   "outputs": [
    {
     "name": "stdout",
     "output_type": "stream",
     "text": [
      "Accuracy: 92.74461028192371\n"
     ]
    }
   ],
   "source": [
    "accuracy = accuracy_score(Y_test, predictions)\n",
    "print(\"Accuracy:\", accuracy*100)"
   ]
  },
  {
   "cell_type": "code",
   "execution_count": null,
   "id": "ada31e98",
   "metadata": {},
   "outputs": [],
   "source": []
  },
  {
   "cell_type": "markdown",
   "id": "05d15d37",
   "metadata": {},
   "source": []
  },
  {
   "cell_type": "markdown",
   "id": "5a64f215",
   "metadata": {},
   "source": [
    "## Predicting NR.ER.LBD"
   ]
  },
  {
   "cell_type": "code",
   "execution_count": 103,
   "id": "0fbdb1db",
   "metadata": {},
   "outputs": [],
   "source": [
    "columns_to_remove = ['NR.AhR','NR.AR','NR.AR.LBD','NR.Aromatase','NR.ER','NR.PPAR.gamma','SR.ARE','SR.ATAD5','SR.HSE','SR.MMP','SR.p53']\n",
    "df_er_lbd = merged_df.drop(columns=columns_to_remove)"
   ]
  },
  {
   "cell_type": "code",
   "execution_count": 104,
   "id": "d6bc6bf2",
   "metadata": {},
   "outputs": [],
   "source": [
    "X = df_er_lbd.drop(columns=['NR.ER.LBD'])\n",
    "y = df_er_lbd['NR.ER.LBD']  # Target variable\n"
   ]
  },
  {
   "cell_type": "code",
   "execution_count": 105,
   "id": "805c0101",
   "metadata": {},
   "outputs": [],
   "source": [
    "X_train,X_test,Y_train,Y_test = train_test_split(X,y,test_size=0.2,random_state=42)"
   ]
  },
  {
   "cell_type": "code",
   "execution_count": 106,
   "id": "bd9d9d5b",
   "metadata": {},
   "outputs": [
    {
     "data": {
      "text/html": [
       "<style>#sk-container-id-7 {color: black;}#sk-container-id-7 pre{padding: 0;}#sk-container-id-7 div.sk-toggleable {background-color: white;}#sk-container-id-7 label.sk-toggleable__label {cursor: pointer;display: block;width: 100%;margin-bottom: 0;padding: 0.3em;box-sizing: border-box;text-align: center;}#sk-container-id-7 label.sk-toggleable__label-arrow:before {content: \"▸\";float: left;margin-right: 0.25em;color: #696969;}#sk-container-id-7 label.sk-toggleable__label-arrow:hover:before {color: black;}#sk-container-id-7 div.sk-estimator:hover label.sk-toggleable__label-arrow:before {color: black;}#sk-container-id-7 div.sk-toggleable__content {max-height: 0;max-width: 0;overflow: hidden;text-align: left;background-color: #f0f8ff;}#sk-container-id-7 div.sk-toggleable__content pre {margin: 0.2em;color: black;border-radius: 0.25em;background-color: #f0f8ff;}#sk-container-id-7 input.sk-toggleable__control:checked~div.sk-toggleable__content {max-height: 200px;max-width: 100%;overflow: auto;}#sk-container-id-7 input.sk-toggleable__control:checked~label.sk-toggleable__label-arrow:before {content: \"▾\";}#sk-container-id-7 div.sk-estimator input.sk-toggleable__control:checked~label.sk-toggleable__label {background-color: #d4ebff;}#sk-container-id-7 div.sk-label input.sk-toggleable__control:checked~label.sk-toggleable__label {background-color: #d4ebff;}#sk-container-id-7 input.sk-hidden--visually {border: 0;clip: rect(1px 1px 1px 1px);clip: rect(1px, 1px, 1px, 1px);height: 1px;margin: -1px;overflow: hidden;padding: 0;position: absolute;width: 1px;}#sk-container-id-7 div.sk-estimator {font-family: monospace;background-color: #f0f8ff;border: 1px dotted black;border-radius: 0.25em;box-sizing: border-box;margin-bottom: 0.5em;}#sk-container-id-7 div.sk-estimator:hover {background-color: #d4ebff;}#sk-container-id-7 div.sk-parallel-item::after {content: \"\";width: 100%;border-bottom: 1px solid gray;flex-grow: 1;}#sk-container-id-7 div.sk-label:hover label.sk-toggleable__label {background-color: #d4ebff;}#sk-container-id-7 div.sk-serial::before {content: \"\";position: absolute;border-left: 1px solid gray;box-sizing: border-box;top: 0;bottom: 0;left: 50%;z-index: 0;}#sk-container-id-7 div.sk-serial {display: flex;flex-direction: column;align-items: center;background-color: white;padding-right: 0.2em;padding-left: 0.2em;position: relative;}#sk-container-id-7 div.sk-item {position: relative;z-index: 1;}#sk-container-id-7 div.sk-parallel {display: flex;align-items: stretch;justify-content: center;background-color: white;position: relative;}#sk-container-id-7 div.sk-item::before, #sk-container-id-7 div.sk-parallel-item::before {content: \"\";position: absolute;border-left: 1px solid gray;box-sizing: border-box;top: 0;bottom: 0;left: 50%;z-index: -1;}#sk-container-id-7 div.sk-parallel-item {display: flex;flex-direction: column;z-index: 1;position: relative;background-color: white;}#sk-container-id-7 div.sk-parallel-item:first-child::after {align-self: flex-end;width: 50%;}#sk-container-id-7 div.sk-parallel-item:last-child::after {align-self: flex-start;width: 50%;}#sk-container-id-7 div.sk-parallel-item:only-child::after {width: 0;}#sk-container-id-7 div.sk-dashed-wrapped {border: 1px dashed gray;margin: 0 0.4em 0.5em 0.4em;box-sizing: border-box;padding-bottom: 0.4em;background-color: white;}#sk-container-id-7 div.sk-label label {font-family: monospace;font-weight: bold;display: inline-block;line-height: 1.2em;}#sk-container-id-7 div.sk-label-container {text-align: center;}#sk-container-id-7 div.sk-container {/* jupyter's `normalize.less` sets `[hidden] { display: none; }` but bootstrap.min.css set `[hidden] { display: none !important; }` so we also need the `!important` here to be able to override the default hidden behavior on the sphinx rendered scikit-learn.org. See: https://github.com/scikit-learn/scikit-learn/issues/21755 */display: inline-block !important;position: relative;}#sk-container-id-7 div.sk-text-repr-fallback {display: none;}</style><div id=\"sk-container-id-7\" class=\"sk-top-container\"><div class=\"sk-text-repr-fallback\"><pre>RandomForestClassifier(random_state=42)</pre><b>In a Jupyter environment, please rerun this cell to show the HTML representation or trust the notebook. <br />On GitHub, the HTML representation is unable to render, please try loading this page with nbviewer.org.</b></div><div class=\"sk-container\" hidden><div class=\"sk-item\"><div class=\"sk-estimator sk-toggleable\"><input class=\"sk-toggleable__control sk-hidden--visually\" id=\"sk-estimator-id-7\" type=\"checkbox\" checked><label for=\"sk-estimator-id-7\" class=\"sk-toggleable__label sk-toggleable__label-arrow\">RandomForestClassifier</label><div class=\"sk-toggleable__content\"><pre>RandomForestClassifier(random_state=42)</pre></div></div></div></div></div>"
      ],
      "text/plain": [
       "RandomForestClassifier(random_state=42)"
      ]
     },
     "execution_count": 106,
     "metadata": {},
     "output_type": "execute_result"
    }
   ],
   "source": [
    "# Create a RandomForestClassifier instance with desired parameters\n",
    "# Example: n_estimators is the number of decision trees in the forest\n",
    "rf_classifier_6 = RandomForestClassifier(n_estimators=100, random_state=42)\n",
    "\n",
    "# Fit the classifier to your training data\n",
    "rf_classifier_6.fit(X_train, Y_train)"
   ]
  },
  {
   "cell_type": "code",
   "execution_count": 107,
   "id": "f60f6433",
   "metadata": {},
   "outputs": [],
   "source": [
    "predictions = rf_classifier_6.predict(X_test)"
   ]
  },
  {
   "cell_type": "code",
   "execution_count": 108,
   "id": "5d32bf6a",
   "metadata": {},
   "outputs": [
    {
     "data": {
      "text/plain": [
       "array([0., 0., 0., ..., 0., 0., 0.])"
      ]
     },
     "execution_count": 108,
     "metadata": {},
     "output_type": "execute_result"
    }
   ],
   "source": [
    "predictions\n"
   ]
  },
  {
   "cell_type": "code",
   "execution_count": 109,
   "id": "73f4665f",
   "metadata": {},
   "outputs": [
    {
     "name": "stdout",
     "output_type": "stream",
     "text": [
      "Accuracy: 96.35157545605307\n"
     ]
    }
   ],
   "source": [
    "accuracy = accuracy_score(Y_test, predictions)\n",
    "print(\"Accuracy:\", accuracy*100)"
   ]
  },
  {
   "cell_type": "code",
   "execution_count": null,
   "id": "d59a290c",
   "metadata": {},
   "outputs": [],
   "source": []
  },
  {
   "cell_type": "markdown",
   "id": "0b1fecd5",
   "metadata": {},
   "source": [
    "## Predicting NR.PPAR.gamma"
   ]
  },
  {
   "cell_type": "code",
   "execution_count": 110,
   "id": "217d8d58",
   "metadata": {},
   "outputs": [],
   "source": [
    "columns_to_remove = ['NR.AhR','NR.AR','NR.Aromatase','NR.ER','NR.ER.LBD','NR.AR.LBD','SR.ARE','SR.ATAD5','SR.HSE','SR.MMP','SR.p53']\n",
    "df_nr_ppar = merged_df.drop(columns=columns_to_remove)"
   ]
  },
  {
   "cell_type": "code",
   "execution_count": 111,
   "id": "de2257b7",
   "metadata": {},
   "outputs": [],
   "source": [
    "X = df_nr_ppar.drop(columns=['NR.PPAR.gamma'])\n",
    "y = df_nr_ppar['NR.PPAR.gamma']  # Target variable\n"
   ]
  },
  {
   "cell_type": "code",
   "execution_count": 112,
   "id": "317b3a58",
   "metadata": {},
   "outputs": [],
   "source": [
    "X_train,X_test,Y_train,Y_test = train_test_split(X,y,test_size=0.2,random_state=42)"
   ]
  },
  {
   "cell_type": "code",
   "execution_count": 113,
   "id": "c18a99db",
   "metadata": {},
   "outputs": [
    {
     "data": {
      "text/html": [
       "<style>#sk-container-id-8 {color: black;}#sk-container-id-8 pre{padding: 0;}#sk-container-id-8 div.sk-toggleable {background-color: white;}#sk-container-id-8 label.sk-toggleable__label {cursor: pointer;display: block;width: 100%;margin-bottom: 0;padding: 0.3em;box-sizing: border-box;text-align: center;}#sk-container-id-8 label.sk-toggleable__label-arrow:before {content: \"▸\";float: left;margin-right: 0.25em;color: #696969;}#sk-container-id-8 label.sk-toggleable__label-arrow:hover:before {color: black;}#sk-container-id-8 div.sk-estimator:hover label.sk-toggleable__label-arrow:before {color: black;}#sk-container-id-8 div.sk-toggleable__content {max-height: 0;max-width: 0;overflow: hidden;text-align: left;background-color: #f0f8ff;}#sk-container-id-8 div.sk-toggleable__content pre {margin: 0.2em;color: black;border-radius: 0.25em;background-color: #f0f8ff;}#sk-container-id-8 input.sk-toggleable__control:checked~div.sk-toggleable__content {max-height: 200px;max-width: 100%;overflow: auto;}#sk-container-id-8 input.sk-toggleable__control:checked~label.sk-toggleable__label-arrow:before {content: \"▾\";}#sk-container-id-8 div.sk-estimator input.sk-toggleable__control:checked~label.sk-toggleable__label {background-color: #d4ebff;}#sk-container-id-8 div.sk-label input.sk-toggleable__control:checked~label.sk-toggleable__label {background-color: #d4ebff;}#sk-container-id-8 input.sk-hidden--visually {border: 0;clip: rect(1px 1px 1px 1px);clip: rect(1px, 1px, 1px, 1px);height: 1px;margin: -1px;overflow: hidden;padding: 0;position: absolute;width: 1px;}#sk-container-id-8 div.sk-estimator {font-family: monospace;background-color: #f0f8ff;border: 1px dotted black;border-radius: 0.25em;box-sizing: border-box;margin-bottom: 0.5em;}#sk-container-id-8 div.sk-estimator:hover {background-color: #d4ebff;}#sk-container-id-8 div.sk-parallel-item::after {content: \"\";width: 100%;border-bottom: 1px solid gray;flex-grow: 1;}#sk-container-id-8 div.sk-label:hover label.sk-toggleable__label {background-color: #d4ebff;}#sk-container-id-8 div.sk-serial::before {content: \"\";position: absolute;border-left: 1px solid gray;box-sizing: border-box;top: 0;bottom: 0;left: 50%;z-index: 0;}#sk-container-id-8 div.sk-serial {display: flex;flex-direction: column;align-items: center;background-color: white;padding-right: 0.2em;padding-left: 0.2em;position: relative;}#sk-container-id-8 div.sk-item {position: relative;z-index: 1;}#sk-container-id-8 div.sk-parallel {display: flex;align-items: stretch;justify-content: center;background-color: white;position: relative;}#sk-container-id-8 div.sk-item::before, #sk-container-id-8 div.sk-parallel-item::before {content: \"\";position: absolute;border-left: 1px solid gray;box-sizing: border-box;top: 0;bottom: 0;left: 50%;z-index: -1;}#sk-container-id-8 div.sk-parallel-item {display: flex;flex-direction: column;z-index: 1;position: relative;background-color: white;}#sk-container-id-8 div.sk-parallel-item:first-child::after {align-self: flex-end;width: 50%;}#sk-container-id-8 div.sk-parallel-item:last-child::after {align-self: flex-start;width: 50%;}#sk-container-id-8 div.sk-parallel-item:only-child::after {width: 0;}#sk-container-id-8 div.sk-dashed-wrapped {border: 1px dashed gray;margin: 0 0.4em 0.5em 0.4em;box-sizing: border-box;padding-bottom: 0.4em;background-color: white;}#sk-container-id-8 div.sk-label label {font-family: monospace;font-weight: bold;display: inline-block;line-height: 1.2em;}#sk-container-id-8 div.sk-label-container {text-align: center;}#sk-container-id-8 div.sk-container {/* jupyter's `normalize.less` sets `[hidden] { display: none; }` but bootstrap.min.css set `[hidden] { display: none !important; }` so we also need the `!important` here to be able to override the default hidden behavior on the sphinx rendered scikit-learn.org. See: https://github.com/scikit-learn/scikit-learn/issues/21755 */display: inline-block !important;position: relative;}#sk-container-id-8 div.sk-text-repr-fallback {display: none;}</style><div id=\"sk-container-id-8\" class=\"sk-top-container\"><div class=\"sk-text-repr-fallback\"><pre>RandomForestClassifier(random_state=42)</pre><b>In a Jupyter environment, please rerun this cell to show the HTML representation or trust the notebook. <br />On GitHub, the HTML representation is unable to render, please try loading this page with nbviewer.org.</b></div><div class=\"sk-container\" hidden><div class=\"sk-item\"><div class=\"sk-estimator sk-toggleable\"><input class=\"sk-toggleable__control sk-hidden--visually\" id=\"sk-estimator-id-8\" type=\"checkbox\" checked><label for=\"sk-estimator-id-8\" class=\"sk-toggleable__label sk-toggleable__label-arrow\">RandomForestClassifier</label><div class=\"sk-toggleable__content\"><pre>RandomForestClassifier(random_state=42)</pre></div></div></div></div></div>"
      ],
      "text/plain": [
       "RandomForestClassifier(random_state=42)"
      ]
     },
     "execution_count": 113,
     "metadata": {},
     "output_type": "execute_result"
    }
   ],
   "source": [
    "# Create a RandomForestClassifier instance with desired parameters\n",
    "# Example: n_estimators is the number of decision trees in the forest\n",
    "rf_classifier_7 = RandomForestClassifier(n_estimators=100, random_state=42)\n",
    "\n",
    "# Fit the classifier to your training data\n",
    "rf_classifier_7.fit(X_train, Y_train)"
   ]
  },
  {
   "cell_type": "code",
   "execution_count": 114,
   "id": "f82d1027",
   "metadata": {},
   "outputs": [],
   "source": [
    "predictions = rf_classifier_7.predict(X_test)"
   ]
  },
  {
   "cell_type": "code",
   "execution_count": 115,
   "id": "e04faddd",
   "metadata": {},
   "outputs": [
    {
     "data": {
      "text/plain": [
       "array([0., 0., 0., ..., 0., 0., 0.])"
      ]
     },
     "execution_count": 115,
     "metadata": {},
     "output_type": "execute_result"
    }
   ],
   "source": [
    "predictions\n"
   ]
  },
  {
   "cell_type": "code",
   "execution_count": 116,
   "id": "a6a1e020",
   "metadata": {},
   "outputs": [
    {
     "name": "stdout",
     "output_type": "stream",
     "text": [
      "Accuracy: 97.92703150912106\n"
     ]
    }
   ],
   "source": [
    "accuracy = accuracy_score(Y_test, predictions)\n",
    "print(\"Accuracy:\", accuracy*100)"
   ]
  },
  {
   "cell_type": "code",
   "execution_count": null,
   "id": "228570c3",
   "metadata": {},
   "outputs": [],
   "source": []
  },
  {
   "cell_type": "markdown",
   "id": "2cc1ac7c",
   "metadata": {},
   "source": [
    "## Predicting SR.ARE"
   ]
  },
  {
   "cell_type": "code",
   "execution_count": 117,
   "id": "8e81d850",
   "metadata": {},
   "outputs": [],
   "source": [
    "columns_to_remove = ['NR.AhR','NR.AR','NR.Aromatase','NR.ER','NR.ER.LBD','NR.AR.LBD','NR.PPAR.gamma','SR.ATAD5','SR.HSE','SR.MMP','SR.p53']\n",
    "df_nr_ppar = merged_df.drop(columns=columns_to_remove)"
   ]
  },
  {
   "cell_type": "code",
   "execution_count": 118,
   "id": "18927fb8",
   "metadata": {},
   "outputs": [],
   "source": [
    "X = df_nr_ppar.drop(columns=['SR.ARE'])\n",
    "y = df_nr_ppar['SR.ARE']  # Target variable\n"
   ]
  },
  {
   "cell_type": "code",
   "execution_count": 119,
   "id": "750407d3",
   "metadata": {},
   "outputs": [],
   "source": [
    "X_train,X_test,Y_train,Y_test = train_test_split(X,y,test_size=0.2,random_state=42)"
   ]
  },
  {
   "cell_type": "code",
   "execution_count": 120,
   "id": "456b5f0e",
   "metadata": {},
   "outputs": [
    {
     "data": {
      "text/html": [
       "<style>#sk-container-id-9 {color: black;}#sk-container-id-9 pre{padding: 0;}#sk-container-id-9 div.sk-toggleable {background-color: white;}#sk-container-id-9 label.sk-toggleable__label {cursor: pointer;display: block;width: 100%;margin-bottom: 0;padding: 0.3em;box-sizing: border-box;text-align: center;}#sk-container-id-9 label.sk-toggleable__label-arrow:before {content: \"▸\";float: left;margin-right: 0.25em;color: #696969;}#sk-container-id-9 label.sk-toggleable__label-arrow:hover:before {color: black;}#sk-container-id-9 div.sk-estimator:hover label.sk-toggleable__label-arrow:before {color: black;}#sk-container-id-9 div.sk-toggleable__content {max-height: 0;max-width: 0;overflow: hidden;text-align: left;background-color: #f0f8ff;}#sk-container-id-9 div.sk-toggleable__content pre {margin: 0.2em;color: black;border-radius: 0.25em;background-color: #f0f8ff;}#sk-container-id-9 input.sk-toggleable__control:checked~div.sk-toggleable__content {max-height: 200px;max-width: 100%;overflow: auto;}#sk-container-id-9 input.sk-toggleable__control:checked~label.sk-toggleable__label-arrow:before {content: \"▾\";}#sk-container-id-9 div.sk-estimator input.sk-toggleable__control:checked~label.sk-toggleable__label {background-color: #d4ebff;}#sk-container-id-9 div.sk-label input.sk-toggleable__control:checked~label.sk-toggleable__label {background-color: #d4ebff;}#sk-container-id-9 input.sk-hidden--visually {border: 0;clip: rect(1px 1px 1px 1px);clip: rect(1px, 1px, 1px, 1px);height: 1px;margin: -1px;overflow: hidden;padding: 0;position: absolute;width: 1px;}#sk-container-id-9 div.sk-estimator {font-family: monospace;background-color: #f0f8ff;border: 1px dotted black;border-radius: 0.25em;box-sizing: border-box;margin-bottom: 0.5em;}#sk-container-id-9 div.sk-estimator:hover {background-color: #d4ebff;}#sk-container-id-9 div.sk-parallel-item::after {content: \"\";width: 100%;border-bottom: 1px solid gray;flex-grow: 1;}#sk-container-id-9 div.sk-label:hover label.sk-toggleable__label {background-color: #d4ebff;}#sk-container-id-9 div.sk-serial::before {content: \"\";position: absolute;border-left: 1px solid gray;box-sizing: border-box;top: 0;bottom: 0;left: 50%;z-index: 0;}#sk-container-id-9 div.sk-serial {display: flex;flex-direction: column;align-items: center;background-color: white;padding-right: 0.2em;padding-left: 0.2em;position: relative;}#sk-container-id-9 div.sk-item {position: relative;z-index: 1;}#sk-container-id-9 div.sk-parallel {display: flex;align-items: stretch;justify-content: center;background-color: white;position: relative;}#sk-container-id-9 div.sk-item::before, #sk-container-id-9 div.sk-parallel-item::before {content: \"\";position: absolute;border-left: 1px solid gray;box-sizing: border-box;top: 0;bottom: 0;left: 50%;z-index: -1;}#sk-container-id-9 div.sk-parallel-item {display: flex;flex-direction: column;z-index: 1;position: relative;background-color: white;}#sk-container-id-9 div.sk-parallel-item:first-child::after {align-self: flex-end;width: 50%;}#sk-container-id-9 div.sk-parallel-item:last-child::after {align-self: flex-start;width: 50%;}#sk-container-id-9 div.sk-parallel-item:only-child::after {width: 0;}#sk-container-id-9 div.sk-dashed-wrapped {border: 1px dashed gray;margin: 0 0.4em 0.5em 0.4em;box-sizing: border-box;padding-bottom: 0.4em;background-color: white;}#sk-container-id-9 div.sk-label label {font-family: monospace;font-weight: bold;display: inline-block;line-height: 1.2em;}#sk-container-id-9 div.sk-label-container {text-align: center;}#sk-container-id-9 div.sk-container {/* jupyter's `normalize.less` sets `[hidden] { display: none; }` but bootstrap.min.css set `[hidden] { display: none !important; }` so we also need the `!important` here to be able to override the default hidden behavior on the sphinx rendered scikit-learn.org. See: https://github.com/scikit-learn/scikit-learn/issues/21755 */display: inline-block !important;position: relative;}#sk-container-id-9 div.sk-text-repr-fallback {display: none;}</style><div id=\"sk-container-id-9\" class=\"sk-top-container\"><div class=\"sk-text-repr-fallback\"><pre>RandomForestClassifier(random_state=42)</pre><b>In a Jupyter environment, please rerun this cell to show the HTML representation or trust the notebook. <br />On GitHub, the HTML representation is unable to render, please try loading this page with nbviewer.org.</b></div><div class=\"sk-container\" hidden><div class=\"sk-item\"><div class=\"sk-estimator sk-toggleable\"><input class=\"sk-toggleable__control sk-hidden--visually\" id=\"sk-estimator-id-9\" type=\"checkbox\" checked><label for=\"sk-estimator-id-9\" class=\"sk-toggleable__label sk-toggleable__label-arrow\">RandomForestClassifier</label><div class=\"sk-toggleable__content\"><pre>RandomForestClassifier(random_state=42)</pre></div></div></div></div></div>"
      ],
      "text/plain": [
       "RandomForestClassifier(random_state=42)"
      ]
     },
     "execution_count": 120,
     "metadata": {},
     "output_type": "execute_result"
    }
   ],
   "source": [
    "# Create a RandomForestClassifier instance with desired parameters\n",
    "# Example: n_estimators is the number of decision trees in the forest\n",
    "rf_classifier_8 = RandomForestClassifier(n_estimators=100, random_state=42)\n",
    "\n",
    "# Fit the classifier to your training data\n",
    "rf_classifier_8.fit(X_train, Y_train)"
   ]
  },
  {
   "cell_type": "code",
   "execution_count": 121,
   "id": "ff492cae",
   "metadata": {},
   "outputs": [],
   "source": [
    "predictions = rf_classifier_8.predict(X_test)"
   ]
  },
  {
   "cell_type": "code",
   "execution_count": 122,
   "id": "00f92f34",
   "metadata": {},
   "outputs": [
    {
     "data": {
      "text/plain": [
       "array([0., 0., 0., ..., 0., 0., 0.])"
      ]
     },
     "execution_count": 122,
     "metadata": {},
     "output_type": "execute_result"
    }
   ],
   "source": [
    "predictions\n"
   ]
  },
  {
   "cell_type": "code",
   "execution_count": 123,
   "id": "558d5ab4",
   "metadata": {},
   "outputs": [
    {
     "name": "stdout",
     "output_type": "stream",
     "text": [
      "Accuracy: 89.92537313432835\n"
     ]
    }
   ],
   "source": [
    "accuracy = accuracy_score(Y_test, predictions)\n",
    "print(\"Accuracy:\", accuracy*100)"
   ]
  },
  {
   "cell_type": "code",
   "execution_count": null,
   "id": "71161839",
   "metadata": {},
   "outputs": [],
   "source": []
  },
  {
   "cell_type": "markdown",
   "id": "b8fd13e7",
   "metadata": {},
   "source": [
    "## Predicting SR.ATAD5"
   ]
  },
  {
   "cell_type": "code",
   "execution_count": 124,
   "id": "2eb9e8b1",
   "metadata": {},
   "outputs": [],
   "source": [
    "columns_to_remove = ['NR.AhR','NR.AR','NR.Aromatase','NR.ER','NR.ER.LBD','NR.AR.LBD','SR.ARE','NR.PPAR.gamma','SR.HSE','SR.MMP','SR.p53']\n",
    "df_nr_ppar = merged_df.drop(columns=columns_to_remove)"
   ]
  },
  {
   "cell_type": "code",
   "execution_count": 125,
   "id": "ee41ad2d",
   "metadata": {},
   "outputs": [],
   "source": [
    "X = df_nr_ppar.drop(columns=['SR.ATAD5'])\n",
    "y = df_nr_ppar['SR.ATAD5']  # Target variable\n"
   ]
  },
  {
   "cell_type": "code",
   "execution_count": 126,
   "id": "4518d32a",
   "metadata": {},
   "outputs": [],
   "source": [
    "X_train,X_test,Y_train,Y_test = train_test_split(X,y,test_size=0.2,random_state=42)"
   ]
  },
  {
   "cell_type": "code",
   "execution_count": 127,
   "id": "5540f27f",
   "metadata": {},
   "outputs": [
    {
     "data": {
      "text/html": [
       "<style>#sk-container-id-10 {color: black;}#sk-container-id-10 pre{padding: 0;}#sk-container-id-10 div.sk-toggleable {background-color: white;}#sk-container-id-10 label.sk-toggleable__label {cursor: pointer;display: block;width: 100%;margin-bottom: 0;padding: 0.3em;box-sizing: border-box;text-align: center;}#sk-container-id-10 label.sk-toggleable__label-arrow:before {content: \"▸\";float: left;margin-right: 0.25em;color: #696969;}#sk-container-id-10 label.sk-toggleable__label-arrow:hover:before {color: black;}#sk-container-id-10 div.sk-estimator:hover label.sk-toggleable__label-arrow:before {color: black;}#sk-container-id-10 div.sk-toggleable__content {max-height: 0;max-width: 0;overflow: hidden;text-align: left;background-color: #f0f8ff;}#sk-container-id-10 div.sk-toggleable__content pre {margin: 0.2em;color: black;border-radius: 0.25em;background-color: #f0f8ff;}#sk-container-id-10 input.sk-toggleable__control:checked~div.sk-toggleable__content {max-height: 200px;max-width: 100%;overflow: auto;}#sk-container-id-10 input.sk-toggleable__control:checked~label.sk-toggleable__label-arrow:before {content: \"▾\";}#sk-container-id-10 div.sk-estimator input.sk-toggleable__control:checked~label.sk-toggleable__label {background-color: #d4ebff;}#sk-container-id-10 div.sk-label input.sk-toggleable__control:checked~label.sk-toggleable__label {background-color: #d4ebff;}#sk-container-id-10 input.sk-hidden--visually {border: 0;clip: rect(1px 1px 1px 1px);clip: rect(1px, 1px, 1px, 1px);height: 1px;margin: -1px;overflow: hidden;padding: 0;position: absolute;width: 1px;}#sk-container-id-10 div.sk-estimator {font-family: monospace;background-color: #f0f8ff;border: 1px dotted black;border-radius: 0.25em;box-sizing: border-box;margin-bottom: 0.5em;}#sk-container-id-10 div.sk-estimator:hover {background-color: #d4ebff;}#sk-container-id-10 div.sk-parallel-item::after {content: \"\";width: 100%;border-bottom: 1px solid gray;flex-grow: 1;}#sk-container-id-10 div.sk-label:hover label.sk-toggleable__label {background-color: #d4ebff;}#sk-container-id-10 div.sk-serial::before {content: \"\";position: absolute;border-left: 1px solid gray;box-sizing: border-box;top: 0;bottom: 0;left: 50%;z-index: 0;}#sk-container-id-10 div.sk-serial {display: flex;flex-direction: column;align-items: center;background-color: white;padding-right: 0.2em;padding-left: 0.2em;position: relative;}#sk-container-id-10 div.sk-item {position: relative;z-index: 1;}#sk-container-id-10 div.sk-parallel {display: flex;align-items: stretch;justify-content: center;background-color: white;position: relative;}#sk-container-id-10 div.sk-item::before, #sk-container-id-10 div.sk-parallel-item::before {content: \"\";position: absolute;border-left: 1px solid gray;box-sizing: border-box;top: 0;bottom: 0;left: 50%;z-index: -1;}#sk-container-id-10 div.sk-parallel-item {display: flex;flex-direction: column;z-index: 1;position: relative;background-color: white;}#sk-container-id-10 div.sk-parallel-item:first-child::after {align-self: flex-end;width: 50%;}#sk-container-id-10 div.sk-parallel-item:last-child::after {align-self: flex-start;width: 50%;}#sk-container-id-10 div.sk-parallel-item:only-child::after {width: 0;}#sk-container-id-10 div.sk-dashed-wrapped {border: 1px dashed gray;margin: 0 0.4em 0.5em 0.4em;box-sizing: border-box;padding-bottom: 0.4em;background-color: white;}#sk-container-id-10 div.sk-label label {font-family: monospace;font-weight: bold;display: inline-block;line-height: 1.2em;}#sk-container-id-10 div.sk-label-container {text-align: center;}#sk-container-id-10 div.sk-container {/* jupyter's `normalize.less` sets `[hidden] { display: none; }` but bootstrap.min.css set `[hidden] { display: none !important; }` so we also need the `!important` here to be able to override the default hidden behavior on the sphinx rendered scikit-learn.org. See: https://github.com/scikit-learn/scikit-learn/issues/21755 */display: inline-block !important;position: relative;}#sk-container-id-10 div.sk-text-repr-fallback {display: none;}</style><div id=\"sk-container-id-10\" class=\"sk-top-container\"><div class=\"sk-text-repr-fallback\"><pre>RandomForestClassifier(random_state=42)</pre><b>In a Jupyter environment, please rerun this cell to show the HTML representation or trust the notebook. <br />On GitHub, the HTML representation is unable to render, please try loading this page with nbviewer.org.</b></div><div class=\"sk-container\" hidden><div class=\"sk-item\"><div class=\"sk-estimator sk-toggleable\"><input class=\"sk-toggleable__control sk-hidden--visually\" id=\"sk-estimator-id-10\" type=\"checkbox\" checked><label for=\"sk-estimator-id-10\" class=\"sk-toggleable__label sk-toggleable__label-arrow\">RandomForestClassifier</label><div class=\"sk-toggleable__content\"><pre>RandomForestClassifier(random_state=42)</pre></div></div></div></div></div>"
      ],
      "text/plain": [
       "RandomForestClassifier(random_state=42)"
      ]
     },
     "execution_count": 127,
     "metadata": {},
     "output_type": "execute_result"
    }
   ],
   "source": [
    "# Create a RandomForestClassifier instance with desired parameters\n",
    "# Example: n_estimators is the number of decision trees in the forest\n",
    "rf_classifier_9 = RandomForestClassifier(n_estimators=100, random_state=42)\n",
    "\n",
    "# Fit the classifier to your training data\n",
    "rf_classifier_9.fit(X_train, Y_train)"
   ]
  },
  {
   "cell_type": "code",
   "execution_count": 128,
   "id": "a1a8b5c8",
   "metadata": {},
   "outputs": [],
   "source": [
    "predictions = rf_classifier_9.predict(X_test)"
   ]
  },
  {
   "cell_type": "code",
   "execution_count": 129,
   "id": "9eef2bbb",
   "metadata": {},
   "outputs": [
    {
     "data": {
      "text/plain": [
       "array([0., 0., 0., ..., 0., 0., 0.])"
      ]
     },
     "execution_count": 129,
     "metadata": {},
     "output_type": "execute_result"
    }
   ],
   "source": [
    "predictions\n"
   ]
  },
  {
   "cell_type": "code",
   "execution_count": 130,
   "id": "401010e6",
   "metadata": {},
   "outputs": [
    {
     "name": "stdout",
     "output_type": "stream",
     "text": [
      "Accuracy: 96.84908789386401\n"
     ]
    }
   ],
   "source": [
    "accuracy = accuracy_score(Y_test, predictions)\n",
    "print(\"Accuracy:\", accuracy*100)"
   ]
  },
  {
   "cell_type": "code",
   "execution_count": null,
   "id": "1f208750",
   "metadata": {},
   "outputs": [],
   "source": []
  },
  {
   "cell_type": "markdown",
   "id": "8dc5a505",
   "metadata": {},
   "source": [
    "## Predicting SR.HSE"
   ]
  },
  {
   "cell_type": "code",
   "execution_count": 131,
   "id": "3886dcd0",
   "metadata": {},
   "outputs": [],
   "source": [
    "columns_to_remove = ['NR.AhR','NR.AR','NR.Aromatase','NR.ER','NR.ER.LBD','NR.AR.LBD','SR.ARE','SR.ATAD5','NR.PPAR.gamma','SR.MMP','SR.p53']\n",
    "df_nr_ppar = merged_df.drop(columns=columns_to_remove)"
   ]
  },
  {
   "cell_type": "code",
   "execution_count": 132,
   "id": "fe4f2998",
   "metadata": {},
   "outputs": [],
   "source": [
    "X = df_nr_ppar.drop(columns=['SR.HSE'])\n",
    "y = df_nr_ppar['SR.HSE']  # Target variable\n"
   ]
  },
  {
   "cell_type": "code",
   "execution_count": 133,
   "id": "61be797a",
   "metadata": {},
   "outputs": [],
   "source": [
    "X_train,X_test,Y_train,Y_test = train_test_split(X,y,test_size=0.2,random_state=42)"
   ]
  },
  {
   "cell_type": "code",
   "execution_count": 134,
   "id": "f4a7bfea",
   "metadata": {},
   "outputs": [
    {
     "data": {
      "text/html": [
       "<style>#sk-container-id-11 {color: black;}#sk-container-id-11 pre{padding: 0;}#sk-container-id-11 div.sk-toggleable {background-color: white;}#sk-container-id-11 label.sk-toggleable__label {cursor: pointer;display: block;width: 100%;margin-bottom: 0;padding: 0.3em;box-sizing: border-box;text-align: center;}#sk-container-id-11 label.sk-toggleable__label-arrow:before {content: \"▸\";float: left;margin-right: 0.25em;color: #696969;}#sk-container-id-11 label.sk-toggleable__label-arrow:hover:before {color: black;}#sk-container-id-11 div.sk-estimator:hover label.sk-toggleable__label-arrow:before {color: black;}#sk-container-id-11 div.sk-toggleable__content {max-height: 0;max-width: 0;overflow: hidden;text-align: left;background-color: #f0f8ff;}#sk-container-id-11 div.sk-toggleable__content pre {margin: 0.2em;color: black;border-radius: 0.25em;background-color: #f0f8ff;}#sk-container-id-11 input.sk-toggleable__control:checked~div.sk-toggleable__content {max-height: 200px;max-width: 100%;overflow: auto;}#sk-container-id-11 input.sk-toggleable__control:checked~label.sk-toggleable__label-arrow:before {content: \"▾\";}#sk-container-id-11 div.sk-estimator input.sk-toggleable__control:checked~label.sk-toggleable__label {background-color: #d4ebff;}#sk-container-id-11 div.sk-label input.sk-toggleable__control:checked~label.sk-toggleable__label {background-color: #d4ebff;}#sk-container-id-11 input.sk-hidden--visually {border: 0;clip: rect(1px 1px 1px 1px);clip: rect(1px, 1px, 1px, 1px);height: 1px;margin: -1px;overflow: hidden;padding: 0;position: absolute;width: 1px;}#sk-container-id-11 div.sk-estimator {font-family: monospace;background-color: #f0f8ff;border: 1px dotted black;border-radius: 0.25em;box-sizing: border-box;margin-bottom: 0.5em;}#sk-container-id-11 div.sk-estimator:hover {background-color: #d4ebff;}#sk-container-id-11 div.sk-parallel-item::after {content: \"\";width: 100%;border-bottom: 1px solid gray;flex-grow: 1;}#sk-container-id-11 div.sk-label:hover label.sk-toggleable__label {background-color: #d4ebff;}#sk-container-id-11 div.sk-serial::before {content: \"\";position: absolute;border-left: 1px solid gray;box-sizing: border-box;top: 0;bottom: 0;left: 50%;z-index: 0;}#sk-container-id-11 div.sk-serial {display: flex;flex-direction: column;align-items: center;background-color: white;padding-right: 0.2em;padding-left: 0.2em;position: relative;}#sk-container-id-11 div.sk-item {position: relative;z-index: 1;}#sk-container-id-11 div.sk-parallel {display: flex;align-items: stretch;justify-content: center;background-color: white;position: relative;}#sk-container-id-11 div.sk-item::before, #sk-container-id-11 div.sk-parallel-item::before {content: \"\";position: absolute;border-left: 1px solid gray;box-sizing: border-box;top: 0;bottom: 0;left: 50%;z-index: -1;}#sk-container-id-11 div.sk-parallel-item {display: flex;flex-direction: column;z-index: 1;position: relative;background-color: white;}#sk-container-id-11 div.sk-parallel-item:first-child::after {align-self: flex-end;width: 50%;}#sk-container-id-11 div.sk-parallel-item:last-child::after {align-self: flex-start;width: 50%;}#sk-container-id-11 div.sk-parallel-item:only-child::after {width: 0;}#sk-container-id-11 div.sk-dashed-wrapped {border: 1px dashed gray;margin: 0 0.4em 0.5em 0.4em;box-sizing: border-box;padding-bottom: 0.4em;background-color: white;}#sk-container-id-11 div.sk-label label {font-family: monospace;font-weight: bold;display: inline-block;line-height: 1.2em;}#sk-container-id-11 div.sk-label-container {text-align: center;}#sk-container-id-11 div.sk-container {/* jupyter's `normalize.less` sets `[hidden] { display: none; }` but bootstrap.min.css set `[hidden] { display: none !important; }` so we also need the `!important` here to be able to override the default hidden behavior on the sphinx rendered scikit-learn.org. See: https://github.com/scikit-learn/scikit-learn/issues/21755 */display: inline-block !important;position: relative;}#sk-container-id-11 div.sk-text-repr-fallback {display: none;}</style><div id=\"sk-container-id-11\" class=\"sk-top-container\"><div class=\"sk-text-repr-fallback\"><pre>RandomForestClassifier(random_state=42)</pre><b>In a Jupyter environment, please rerun this cell to show the HTML representation or trust the notebook. <br />On GitHub, the HTML representation is unable to render, please try loading this page with nbviewer.org.</b></div><div class=\"sk-container\" hidden><div class=\"sk-item\"><div class=\"sk-estimator sk-toggleable\"><input class=\"sk-toggleable__control sk-hidden--visually\" id=\"sk-estimator-id-11\" type=\"checkbox\" checked><label for=\"sk-estimator-id-11\" class=\"sk-toggleable__label sk-toggleable__label-arrow\">RandomForestClassifier</label><div class=\"sk-toggleable__content\"><pre>RandomForestClassifier(random_state=42)</pre></div></div></div></div></div>"
      ],
      "text/plain": [
       "RandomForestClassifier(random_state=42)"
      ]
     },
     "execution_count": 134,
     "metadata": {},
     "output_type": "execute_result"
    }
   ],
   "source": [
    "# Create a RandomForestClassifier instance with desired parameters\n",
    "# Example: n_estimators is the number of decision trees in the forest\n",
    "rf_classifier_10 = RandomForestClassifier(n_estimators=100, random_state=42)\n",
    "\n",
    "# Fit the classifier to your training data\n",
    "rf_classifier_10.fit(X_train, Y_train)"
   ]
  },
  {
   "cell_type": "code",
   "execution_count": 135,
   "id": "499466c7",
   "metadata": {},
   "outputs": [],
   "source": [
    "predictions = rf_classifier_10.predict(X_test)"
   ]
  },
  {
   "cell_type": "code",
   "execution_count": 136,
   "id": "c92f05be",
   "metadata": {},
   "outputs": [
    {
     "data": {
      "text/plain": [
       "array([0., 0., 0., ..., 0., 0., 0.])"
      ]
     },
     "execution_count": 136,
     "metadata": {},
     "output_type": "execute_result"
    }
   ],
   "source": [
    "predictions\n"
   ]
  },
  {
   "cell_type": "code",
   "execution_count": 137,
   "id": "f9e22a10",
   "metadata": {},
   "outputs": [
    {
     "name": "stdout",
     "output_type": "stream",
     "text": [
      "Accuracy: 95.93698175787728\n"
     ]
    }
   ],
   "source": [
    "accuracy = accuracy_score(Y_test, predictions)\n",
    "print(\"Accuracy:\", accuracy*100)"
   ]
  },
  {
   "cell_type": "code",
   "execution_count": null,
   "id": "affcc33e",
   "metadata": {},
   "outputs": [],
   "source": []
  },
  {
   "cell_type": "markdown",
   "id": "937a1ed9",
   "metadata": {},
   "source": [
    "## Predicting SR.MMP"
   ]
  },
  {
   "cell_type": "code",
   "execution_count": 138,
   "id": "c037ae53",
   "metadata": {},
   "outputs": [],
   "source": [
    "columns_to_remove = ['NR.AhR','NR.AR','NR.Aromatase','NR.ER','NR.ER.LBD','NR.AR.LBD','SR.ARE','SR.ATAD5','SR.HSE','NR.PPAR.gamma','SR.p53']\n",
    "df_nr_ppar = merged_df.drop(columns=columns_to_remove)"
   ]
  },
  {
   "cell_type": "code",
   "execution_count": 139,
   "id": "cf70e254",
   "metadata": {},
   "outputs": [],
   "source": [
    "X = df_nr_ppar.drop(columns=['SR.MMP'])\n",
    "y = df_nr_ppar['SR.MMP']  # Target variable\n"
   ]
  },
  {
   "cell_type": "code",
   "execution_count": 140,
   "id": "71d89657",
   "metadata": {},
   "outputs": [],
   "source": [
    "X_train,X_test,Y_train,Y_test = train_test_split(X,y,test_size=0.2,random_state=42)"
   ]
  },
  {
   "cell_type": "code",
   "execution_count": 141,
   "id": "8683fc89",
   "metadata": {},
   "outputs": [
    {
     "data": {
      "text/html": [
       "<style>#sk-container-id-12 {color: black;}#sk-container-id-12 pre{padding: 0;}#sk-container-id-12 div.sk-toggleable {background-color: white;}#sk-container-id-12 label.sk-toggleable__label {cursor: pointer;display: block;width: 100%;margin-bottom: 0;padding: 0.3em;box-sizing: border-box;text-align: center;}#sk-container-id-12 label.sk-toggleable__label-arrow:before {content: \"▸\";float: left;margin-right: 0.25em;color: #696969;}#sk-container-id-12 label.sk-toggleable__label-arrow:hover:before {color: black;}#sk-container-id-12 div.sk-estimator:hover label.sk-toggleable__label-arrow:before {color: black;}#sk-container-id-12 div.sk-toggleable__content {max-height: 0;max-width: 0;overflow: hidden;text-align: left;background-color: #f0f8ff;}#sk-container-id-12 div.sk-toggleable__content pre {margin: 0.2em;color: black;border-radius: 0.25em;background-color: #f0f8ff;}#sk-container-id-12 input.sk-toggleable__control:checked~div.sk-toggleable__content {max-height: 200px;max-width: 100%;overflow: auto;}#sk-container-id-12 input.sk-toggleable__control:checked~label.sk-toggleable__label-arrow:before {content: \"▾\";}#sk-container-id-12 div.sk-estimator input.sk-toggleable__control:checked~label.sk-toggleable__label {background-color: #d4ebff;}#sk-container-id-12 div.sk-label input.sk-toggleable__control:checked~label.sk-toggleable__label {background-color: #d4ebff;}#sk-container-id-12 input.sk-hidden--visually {border: 0;clip: rect(1px 1px 1px 1px);clip: rect(1px, 1px, 1px, 1px);height: 1px;margin: -1px;overflow: hidden;padding: 0;position: absolute;width: 1px;}#sk-container-id-12 div.sk-estimator {font-family: monospace;background-color: #f0f8ff;border: 1px dotted black;border-radius: 0.25em;box-sizing: border-box;margin-bottom: 0.5em;}#sk-container-id-12 div.sk-estimator:hover {background-color: #d4ebff;}#sk-container-id-12 div.sk-parallel-item::after {content: \"\";width: 100%;border-bottom: 1px solid gray;flex-grow: 1;}#sk-container-id-12 div.sk-label:hover label.sk-toggleable__label {background-color: #d4ebff;}#sk-container-id-12 div.sk-serial::before {content: \"\";position: absolute;border-left: 1px solid gray;box-sizing: border-box;top: 0;bottom: 0;left: 50%;z-index: 0;}#sk-container-id-12 div.sk-serial {display: flex;flex-direction: column;align-items: center;background-color: white;padding-right: 0.2em;padding-left: 0.2em;position: relative;}#sk-container-id-12 div.sk-item {position: relative;z-index: 1;}#sk-container-id-12 div.sk-parallel {display: flex;align-items: stretch;justify-content: center;background-color: white;position: relative;}#sk-container-id-12 div.sk-item::before, #sk-container-id-12 div.sk-parallel-item::before {content: \"\";position: absolute;border-left: 1px solid gray;box-sizing: border-box;top: 0;bottom: 0;left: 50%;z-index: -1;}#sk-container-id-12 div.sk-parallel-item {display: flex;flex-direction: column;z-index: 1;position: relative;background-color: white;}#sk-container-id-12 div.sk-parallel-item:first-child::after {align-self: flex-end;width: 50%;}#sk-container-id-12 div.sk-parallel-item:last-child::after {align-self: flex-start;width: 50%;}#sk-container-id-12 div.sk-parallel-item:only-child::after {width: 0;}#sk-container-id-12 div.sk-dashed-wrapped {border: 1px dashed gray;margin: 0 0.4em 0.5em 0.4em;box-sizing: border-box;padding-bottom: 0.4em;background-color: white;}#sk-container-id-12 div.sk-label label {font-family: monospace;font-weight: bold;display: inline-block;line-height: 1.2em;}#sk-container-id-12 div.sk-label-container {text-align: center;}#sk-container-id-12 div.sk-container {/* jupyter's `normalize.less` sets `[hidden] { display: none; }` but bootstrap.min.css set `[hidden] { display: none !important; }` so we also need the `!important` here to be able to override the default hidden behavior on the sphinx rendered scikit-learn.org. See: https://github.com/scikit-learn/scikit-learn/issues/21755 */display: inline-block !important;position: relative;}#sk-container-id-12 div.sk-text-repr-fallback {display: none;}</style><div id=\"sk-container-id-12\" class=\"sk-top-container\"><div class=\"sk-text-repr-fallback\"><pre>RandomForestClassifier(random_state=42)</pre><b>In a Jupyter environment, please rerun this cell to show the HTML representation or trust the notebook. <br />On GitHub, the HTML representation is unable to render, please try loading this page with nbviewer.org.</b></div><div class=\"sk-container\" hidden><div class=\"sk-item\"><div class=\"sk-estimator sk-toggleable\"><input class=\"sk-toggleable__control sk-hidden--visually\" id=\"sk-estimator-id-12\" type=\"checkbox\" checked><label for=\"sk-estimator-id-12\" class=\"sk-toggleable__label sk-toggleable__label-arrow\">RandomForestClassifier</label><div class=\"sk-toggleable__content\"><pre>RandomForestClassifier(random_state=42)</pre></div></div></div></div></div>"
      ],
      "text/plain": [
       "RandomForestClassifier(random_state=42)"
      ]
     },
     "execution_count": 141,
     "metadata": {},
     "output_type": "execute_result"
    }
   ],
   "source": [
    "# Create a RandomForestClassifier instance with desired parameters\n",
    "# Example: n_estimators is the number of decision trees in the forest\n",
    "rf_classifier_11 = RandomForestClassifier(n_estimators=100, random_state=42)\n",
    "\n",
    "# Fit the classifier to your training data\n",
    "rf_classifier_11.fit(X_train, Y_train)"
   ]
  },
  {
   "cell_type": "code",
   "execution_count": 142,
   "id": "8ad0115b",
   "metadata": {},
   "outputs": [],
   "source": [
    "predictions = rf_classifier_11.predict(X_test)"
   ]
  },
  {
   "cell_type": "code",
   "execution_count": 143,
   "id": "7c3c48cb",
   "metadata": {},
   "outputs": [
    {
     "data": {
      "text/plain": [
       "array([0., 0., 0., ..., 0., 0., 0.])"
      ]
     },
     "execution_count": 143,
     "metadata": {},
     "output_type": "execute_result"
    }
   ],
   "source": [
    "predictions\n"
   ]
  },
  {
   "cell_type": "code",
   "execution_count": 144,
   "id": "f013dfa4",
   "metadata": {},
   "outputs": [
    {
     "name": "stdout",
     "output_type": "stream",
     "text": [
      "Accuracy: 90.96185737976784\n"
     ]
    }
   ],
   "source": [
    "accuracy = accuracy_score(Y_test, predictions)\n",
    "print(\"Accuracy:\", accuracy*100)"
   ]
  },
  {
   "cell_type": "code",
   "execution_count": null,
   "id": "417356a4",
   "metadata": {},
   "outputs": [],
   "source": []
  },
  {
   "cell_type": "markdown",
   "id": "6bb7b796",
   "metadata": {},
   "source": [
    "## Predicting SR.p53"
   ]
  },
  {
   "cell_type": "code",
   "execution_count": 145,
   "id": "526102dd",
   "metadata": {},
   "outputs": [],
   "source": [
    "columns_to_remove = ['NR.AhR','NR.AR','NR.Aromatase','NR.ER','NR.ER.LBD','NR.AR.LBD','SR.ARE','SR.ATAD5','SR.HSE','SR.MMP','NR.PPAR.gamma']\n",
    "df_nr_ppar = merged_df.drop(columns=columns_to_remove)"
   ]
  },
  {
   "cell_type": "code",
   "execution_count": 146,
   "id": "3bd9e2b3",
   "metadata": {},
   "outputs": [],
   "source": [
    "X = df_nr_ppar.drop(columns=['SR.p53'])\n",
    "y = df_nr_ppar['SR.p53']  # Target variable\n"
   ]
  },
  {
   "cell_type": "code",
   "execution_count": 147,
   "id": "8319f62d",
   "metadata": {},
   "outputs": [],
   "source": [
    "X_train,X_test,Y_train,Y_test = train_test_split(X,y,test_size=0.2,random_state=42)"
   ]
  },
  {
   "cell_type": "code",
   "execution_count": 148,
   "id": "0aaf28f6",
   "metadata": {},
   "outputs": [
    {
     "data": {
      "text/html": [
       "<style>#sk-container-id-13 {color: black;}#sk-container-id-13 pre{padding: 0;}#sk-container-id-13 div.sk-toggleable {background-color: white;}#sk-container-id-13 label.sk-toggleable__label {cursor: pointer;display: block;width: 100%;margin-bottom: 0;padding: 0.3em;box-sizing: border-box;text-align: center;}#sk-container-id-13 label.sk-toggleable__label-arrow:before {content: \"▸\";float: left;margin-right: 0.25em;color: #696969;}#sk-container-id-13 label.sk-toggleable__label-arrow:hover:before {color: black;}#sk-container-id-13 div.sk-estimator:hover label.sk-toggleable__label-arrow:before {color: black;}#sk-container-id-13 div.sk-toggleable__content {max-height: 0;max-width: 0;overflow: hidden;text-align: left;background-color: #f0f8ff;}#sk-container-id-13 div.sk-toggleable__content pre {margin: 0.2em;color: black;border-radius: 0.25em;background-color: #f0f8ff;}#sk-container-id-13 input.sk-toggleable__control:checked~div.sk-toggleable__content {max-height: 200px;max-width: 100%;overflow: auto;}#sk-container-id-13 input.sk-toggleable__control:checked~label.sk-toggleable__label-arrow:before {content: \"▾\";}#sk-container-id-13 div.sk-estimator input.sk-toggleable__control:checked~label.sk-toggleable__label {background-color: #d4ebff;}#sk-container-id-13 div.sk-label input.sk-toggleable__control:checked~label.sk-toggleable__label {background-color: #d4ebff;}#sk-container-id-13 input.sk-hidden--visually {border: 0;clip: rect(1px 1px 1px 1px);clip: rect(1px, 1px, 1px, 1px);height: 1px;margin: -1px;overflow: hidden;padding: 0;position: absolute;width: 1px;}#sk-container-id-13 div.sk-estimator {font-family: monospace;background-color: #f0f8ff;border: 1px dotted black;border-radius: 0.25em;box-sizing: border-box;margin-bottom: 0.5em;}#sk-container-id-13 div.sk-estimator:hover {background-color: #d4ebff;}#sk-container-id-13 div.sk-parallel-item::after {content: \"\";width: 100%;border-bottom: 1px solid gray;flex-grow: 1;}#sk-container-id-13 div.sk-label:hover label.sk-toggleable__label {background-color: #d4ebff;}#sk-container-id-13 div.sk-serial::before {content: \"\";position: absolute;border-left: 1px solid gray;box-sizing: border-box;top: 0;bottom: 0;left: 50%;z-index: 0;}#sk-container-id-13 div.sk-serial {display: flex;flex-direction: column;align-items: center;background-color: white;padding-right: 0.2em;padding-left: 0.2em;position: relative;}#sk-container-id-13 div.sk-item {position: relative;z-index: 1;}#sk-container-id-13 div.sk-parallel {display: flex;align-items: stretch;justify-content: center;background-color: white;position: relative;}#sk-container-id-13 div.sk-item::before, #sk-container-id-13 div.sk-parallel-item::before {content: \"\";position: absolute;border-left: 1px solid gray;box-sizing: border-box;top: 0;bottom: 0;left: 50%;z-index: -1;}#sk-container-id-13 div.sk-parallel-item {display: flex;flex-direction: column;z-index: 1;position: relative;background-color: white;}#sk-container-id-13 div.sk-parallel-item:first-child::after {align-self: flex-end;width: 50%;}#sk-container-id-13 div.sk-parallel-item:last-child::after {align-self: flex-start;width: 50%;}#sk-container-id-13 div.sk-parallel-item:only-child::after {width: 0;}#sk-container-id-13 div.sk-dashed-wrapped {border: 1px dashed gray;margin: 0 0.4em 0.5em 0.4em;box-sizing: border-box;padding-bottom: 0.4em;background-color: white;}#sk-container-id-13 div.sk-label label {font-family: monospace;font-weight: bold;display: inline-block;line-height: 1.2em;}#sk-container-id-13 div.sk-label-container {text-align: center;}#sk-container-id-13 div.sk-container {/* jupyter's `normalize.less` sets `[hidden] { display: none; }` but bootstrap.min.css set `[hidden] { display: none !important; }` so we also need the `!important` here to be able to override the default hidden behavior on the sphinx rendered scikit-learn.org. See: https://github.com/scikit-learn/scikit-learn/issues/21755 */display: inline-block !important;position: relative;}#sk-container-id-13 div.sk-text-repr-fallback {display: none;}</style><div id=\"sk-container-id-13\" class=\"sk-top-container\"><div class=\"sk-text-repr-fallback\"><pre>RandomForestClassifier(random_state=42)</pre><b>In a Jupyter environment, please rerun this cell to show the HTML representation or trust the notebook. <br />On GitHub, the HTML representation is unable to render, please try loading this page with nbviewer.org.</b></div><div class=\"sk-container\" hidden><div class=\"sk-item\"><div class=\"sk-estimator sk-toggleable\"><input class=\"sk-toggleable__control sk-hidden--visually\" id=\"sk-estimator-id-13\" type=\"checkbox\" checked><label for=\"sk-estimator-id-13\" class=\"sk-toggleable__label sk-toggleable__label-arrow\">RandomForestClassifier</label><div class=\"sk-toggleable__content\"><pre>RandomForestClassifier(random_state=42)</pre></div></div></div></div></div>"
      ],
      "text/plain": [
       "RandomForestClassifier(random_state=42)"
      ]
     },
     "execution_count": 148,
     "metadata": {},
     "output_type": "execute_result"
    }
   ],
   "source": [
    "# Create a RandomForestClassifier instance with desired parameters\n",
    "# Example: n_estimators is the number of decision trees in the forest\n",
    "rf_classifier_12 = RandomForestClassifier(n_estimators=100, random_state=42)\n",
    "\n",
    "# Fit the classifier to your training data\n",
    "rf_classifier_12.fit(X_train, Y_train)"
   ]
  },
  {
   "cell_type": "code",
   "execution_count": 149,
   "id": "76fb5383",
   "metadata": {},
   "outputs": [],
   "source": [
    "predictions = rf_classifier_12.predict(X_test)"
   ]
  },
  {
   "cell_type": "code",
   "execution_count": 150,
   "id": "3bc433d5",
   "metadata": {},
   "outputs": [
    {
     "data": {
      "text/plain": [
       "array([0., 0., 0., ..., 0., 0., 0.])"
      ]
     },
     "execution_count": 150,
     "metadata": {},
     "output_type": "execute_result"
    }
   ],
   "source": [
    "predictions\n"
   ]
  },
  {
   "cell_type": "code",
   "execution_count": 151,
   "id": "f7de9e1b",
   "metadata": {},
   "outputs": [
    {
     "name": "stdout",
     "output_type": "stream",
     "text": [
      "Accuracy: 95.06633499170812\n"
     ]
    }
   ],
   "source": [
    "accuracy = accuracy_score(Y_test, predictions)\n",
    "print(\"Accuracy:\", accuracy*100)"
   ]
  },
  {
   "cell_type": "markdown",
   "id": "00d0d40f",
   "metadata": {},
   "source": []
  },
  {
   "cell_type": "code",
   "execution_count": 156,
   "id": "60caf668",
   "metadata": {},
   "outputs": [
    {
     "data": {
      "text/plain": [
       "Index(['AW', 'AWeight', 'Arto', 'Chi3ch', 'Chi4ch', 'Chi5ch', 'Chiv3c',\n",
       "       'Chiv4c', 'EstateVSA1', 'EstateVSA10',\n",
       "       ...\n",
       "       'MoRSEV3', 'Petitj3D', 'RDFC10', 'RDFC13', 'RDFC22', 'RDFM3', 'RDFP5',\n",
       "       'RNCS', 'RPCS', 'grav'],\n",
       "      dtype='object', length=148)"
      ]
     },
     "execution_count": 156,
     "metadata": {},
     "output_type": "execute_result"
    }
   ],
   "source": [
    "selected_features = X.columns\n",
    "selected_features"
   ]
  },
  {
   "cell_type": "code",
   "execution_count": 157,
   "id": "c1327539",
   "metadata": {},
   "outputs": [],
   "source": [
    "test_df = keep_selected_features(\"dense_test.csv\", selected_features)"
   ]
  },
  {
   "cell_type": "code",
   "execution_count": 158,
   "id": "a84d5eaf",
   "metadata": {},
   "outputs": [],
   "source": [
    "prediction1 = prediction_model(test_df,rf_classifier_1)\n",
    "model_results[0] = prediction1\n",
    "prediction2 = prediction_model(test_df,rf_classifier_2)\n",
    "model_results[1] = prediction2\n",
    "prediction3 = prediction_model(test_df,rf_classifier_3)\n",
    "model_results[2] = prediction3\n",
    "prediction4 = prediction_model(test_df,rf_classifier_4)\n",
    "model_results[3] = prediction4\n",
    "prediction5 = prediction_model(test_df,rf_classifier_5)\n",
    "model_results[4] = prediction5\n",
    "prediction6 = prediction_model(test_df,rf_classifier_6)\n",
    "model_results[5] = prediction6\n",
    "prediction7 = prediction_model(test_df,rf_classifier_7)\n",
    "model_results[6] = prediction7\n",
    "prediction8 = prediction_model(test_df,rf_classifier_8)\n",
    "model_results[7] = prediction8\n",
    "prediction9 = prediction_model(test_df,rf_classifier_9)\n",
    "model_results[8] = prediction9\n",
    "prediction10 = prediction_model(test_df,rf_classifier_10)\n",
    "model_results[9] = prediction10\n",
    "prediction11 = prediction_model(test_df,rf_classifier_11)\n",
    "model_results[10] = prediction11\n",
    "\n",
    "\n",
    "\n",
    "\n"
   ]
  },
  {
   "cell_type": "code",
   "execution_count": 159,
   "id": "7fd5fe95",
   "metadata": {},
   "outputs": [
    {
     "data": {
      "text/plain": [
       "array([[0., 0., 0., ..., 0., 0., 0.],\n",
       "       [0., 0., 0., ..., 0., 0., 0.],\n",
       "       [0., 0., 0., ..., 0., 0., 0.],\n",
       "       ...,\n",
       "       [0., 0., 0., ..., 0., 0., 0.],\n",
       "       [0., 0., 0., ..., 0., 0., 0.],\n",
       "       [0., 0., 0., ..., 0., 0., 0.]])"
      ]
     },
     "execution_count": 159,
     "metadata": {},
     "output_type": "execute_result"
    }
   ],
   "source": [
    "model_results"
   ]
  },
  {
   "cell_type": "code",
   "execution_count": 160,
   "id": "3d61bd8b",
   "metadata": {},
   "outputs": [],
   "source": [
    "columns_sum = np.sum(model_results, axis=0)\n",
    "    \n",
    "    \n",
    "    \n",
    "    \n",
    "    "
   ]
  },
  {
   "cell_type": "markdown",
   "id": "4c713d94",
   "metadata": {},
   "source": []
  },
  {
   "cell_type": "code",
   "execution_count": 161,
   "id": "5e4aea8a",
   "metadata": {},
   "outputs": [
    {
     "name": "stdout",
     "output_type": "stream",
     "text": [
      "Efficiency: 1\n",
      "Efficiency: 1\n",
      "Efficiency: 1\n",
      "Efficiency: 1\n",
      "Efficiency: 1\n",
      "Efficiency: 1\n",
      "Efficiency: 1\n",
      "Efficiency: 1\n",
      "Efficiency: 1\n",
      "Efficiency: 1\n",
      "Efficiency: 1\n",
      "Efficiency: 1\n",
      "Efficiency: 1\n",
      "Efficiency: 1\n",
      "Efficiency: 1\n",
      "Efficiency: 1\n",
      "Efficiency: 1\n",
      "Efficiency: 1\n",
      "Efficiency: 1\n",
      "Efficiency: 1\n",
      "Efficiency: 1\n",
      "Efficiency: 1\n",
      "Efficiency:  0.9166666666666666\n",
      "Efficiency: 1\n",
      "Efficiency: 1\n",
      "Efficiency: 1\n",
      "Efficiency: 1\n",
      "Efficiency: 1\n",
      "Efficiency: 1\n",
      "Efficiency: 1\n",
      "Efficiency: 1\n",
      "Efficiency: 1\n",
      "Efficiency: 1\n",
      "Efficiency: 1\n",
      "Efficiency: 1\n",
      "Efficiency: 1\n",
      "Efficiency: 1\n",
      "Efficiency: 1\n",
      "Efficiency: 1\n",
      "Efficiency: 1\n",
      "Efficiency: 1\n",
      "Efficiency: 1\n",
      "Efficiency: 1\n",
      "Efficiency: 1\n",
      "Efficiency: 1\n",
      "Efficiency: 1\n",
      "Efficiency: 1\n",
      "Efficiency: 1\n",
      "Efficiency: 1\n",
      "Efficiency: 1\n",
      "Efficiency: 1\n",
      "Efficiency: 1\n",
      "Efficiency: 1\n",
      "Efficiency: 1\n",
      "Efficiency:  0.9166666666666666\n",
      "Efficiency: 1\n",
      "Efficiency: 1\n",
      "Efficiency: 1\n",
      "Efficiency: 1\n",
      "Efficiency: 1\n",
      "Efficiency: 1\n",
      "Efficiency: 1\n",
      "Efficiency: 1\n",
      "Efficiency: 1\n",
      "Efficiency: 1\n",
      "Efficiency: 1\n",
      "Efficiency: 1\n",
      "Efficiency: 1\n",
      "Efficiency: 1\n",
      "Efficiency: 1\n",
      "Efficiency: 1\n",
      "Efficiency: 1\n",
      "Efficiency: 1\n",
      "Efficiency: 1\n",
      "Efficiency: 1\n",
      "Efficiency: 1\n",
      "Efficiency: 1\n",
      "Efficiency: 1\n",
      "Efficiency: 1\n",
      "Efficiency: 1\n",
      "Efficiency: 1\n",
      "Efficiency: 1\n",
      "Efficiency: 1\n",
      "Efficiency: 1\n",
      "Efficiency: 1\n",
      "Efficiency: 1\n",
      "Efficiency: 1\n",
      "Efficiency: 1\n",
      "Efficiency: 1\n",
      "Efficiency: 1\n",
      "Efficiency: 1\n",
      "Efficiency: 1\n",
      "Efficiency: 1\n",
      "Efficiency: 1\n",
      "Efficiency: 1\n",
      "Efficiency: 1\n",
      "Efficiency: 1\n",
      "Efficiency: 1\n",
      "Efficiency: 1\n",
      "Efficiency: 1\n",
      "Efficiency: 1\n",
      "Efficiency: 1\n",
      "Efficiency: 1\n",
      "Efficiency: 1\n",
      "Efficiency: 1\n",
      "Efficiency: 1\n",
      "Efficiency: 1\n",
      "Efficiency: 1\n",
      "Efficiency: 1\n",
      "Efficiency: 1\n",
      "Efficiency: 1\n",
      "Efficiency: 1\n",
      "Efficiency: 1\n",
      "Efficiency: 1\n",
      "Efficiency: 1\n",
      "Efficiency: 1\n",
      "Efficiency: 1\n",
      "Efficiency: 1\n",
      "Efficiency: 1\n",
      "Efficiency: 1\n",
      "Efficiency: 1\n",
      "Efficiency: 1\n",
      "Efficiency: 1\n",
      "Efficiency: 1\n",
      "Efficiency: 1\n",
      "Efficiency: 1\n",
      "Efficiency: 1\n",
      "Efficiency: 1\n",
      "Efficiency: 1\n",
      "Efficiency: 1\n",
      "Efficiency: 1\n",
      "Efficiency: 1\n",
      "Efficiency: 1\n",
      "Efficiency: 1\n",
      "Efficiency: 1\n",
      "Efficiency: 1\n",
      "Efficiency: 1\n",
      "Efficiency: 1\n",
      "Efficiency: 1\n",
      "Efficiency: 1\n",
      "Efficiency: 1\n",
      "Efficiency: 1\n",
      "Efficiency: 1\n",
      "Efficiency: 1\n",
      "Efficiency: 1\n",
      "Efficiency: 1\n",
      "Efficiency: 1\n",
      "Efficiency: 1\n",
      "Efficiency: 1\n",
      "Efficiency: 1\n",
      "Efficiency: 1\n",
      "Efficiency: 1\n",
      "Efficiency: 1\n",
      "Efficiency: 1\n",
      "Efficiency: 1\n",
      "Efficiency: 1\n",
      "Efficiency: 1\n",
      "Efficiency: 1\n",
      "Efficiency: 1\n",
      "Efficiency: 1\n",
      "Efficiency: 1\n",
      "Efficiency: 1\n",
      "Efficiency: 1\n",
      "Efficiency: 1\n",
      "Efficiency: 1\n",
      "Efficiency: 1\n",
      "Efficiency: 1\n",
      "Efficiency: 1\n",
      "Efficiency: 1\n",
      "Efficiency: 1\n",
      "Efficiency: 1\n",
      "Efficiency: 1\n",
      "Efficiency: 1\n",
      "Efficiency: 1\n",
      "Efficiency: 1\n",
      "Efficiency: 1\n",
      "Efficiency: 1\n",
      "Efficiency: 1\n",
      "Efficiency: 1\n",
      "Efficiency: 1\n",
      "Efficiency: 1\n",
      "Efficiency: 1\n",
      "Efficiency: 1\n",
      "Efficiency: 1\n",
      "Efficiency: 1\n",
      "Efficiency: 1\n",
      "Efficiency: 1\n",
      "Efficiency: 1\n",
      "Efficiency: 1\n",
      "Efficiency: 1\n",
      "Efficiency: 1\n",
      "Efficiency: 1\n",
      "Efficiency: 1\n",
      "Efficiency: 1\n",
      "Efficiency: 1\n",
      "Efficiency: 1\n",
      "Efficiency: 1\n",
      "Efficiency: 1\n",
      "Efficiency: 1\n",
      "Efficiency: 1\n",
      "Efficiency: 1\n",
      "Efficiency: 1\n",
      "Efficiency: 1\n",
      "Efficiency: 1\n",
      "Efficiency: 1\n",
      "Efficiency: 1\n",
      "Efficiency: 1\n",
      "Efficiency: 1\n",
      "Efficiency: 1\n",
      "Efficiency: 1\n",
      "Efficiency: 1\n",
      "Efficiency: 1\n",
      "Efficiency: 1\n",
      "Efficiency: 1\n",
      "Efficiency: 1\n",
      "Efficiency: 1\n",
      "Efficiency: 1\n",
      "Efficiency: 1\n",
      "Efficiency: 1\n",
      "Efficiency: 1\n",
      "Efficiency: 1\n",
      "Efficiency: 1\n",
      "Efficiency: 1\n",
      "Efficiency: 1\n",
      "Efficiency: 1\n",
      "Efficiency: 1\n",
      "Efficiency: 1\n",
      "Efficiency: 1\n",
      "Efficiency: 1\n",
      "Efficiency: 1\n",
      "Efficiency: 1\n",
      "Efficiency: 1\n",
      "Efficiency: 1\n",
      "Efficiency: 1\n",
      "Efficiency: 1\n",
      "Efficiency: 1\n",
      "Efficiency: 1\n",
      "Efficiency: 1\n",
      "Efficiency: 1\n",
      "Efficiency: 1\n",
      "Efficiency: 1\n",
      "Efficiency: 1\n",
      "Efficiency: 1\n",
      "Efficiency: 1\n",
      "Efficiency: 1\n",
      "Efficiency: 1\n",
      "Efficiency: 1\n",
      "Efficiency:  0.9166666666666666\n",
      "Efficiency: 1\n",
      "Efficiency: 1\n",
      "Efficiency: 1\n",
      "Efficiency: 1\n",
      "Efficiency: 1\n",
      "Efficiency: 1\n",
      "Efficiency: 1\n",
      "Efficiency: 1\n",
      "Efficiency: 1\n",
      "Efficiency: 1\n",
      "Efficiency: 1\n",
      "Efficiency: 1\n",
      "Efficiency: 1\n",
      "Efficiency: 1\n",
      "Efficiency: 1\n",
      "Efficiency: 1\n",
      "Efficiency: 1\n",
      "Efficiency: 1\n",
      "Efficiency: 1\n",
      "Efficiency: 1\n",
      "Efficiency: 1\n",
      "Efficiency: 1\n",
      "Efficiency: 1\n",
      "Efficiency: 1\n",
      "Efficiency: 1\n",
      "Efficiency: 1\n",
      "Efficiency: 1\n",
      "Efficiency: 1\n",
      "Efficiency: 1\n",
      "Efficiency: 1\n",
      "Efficiency: 1\n",
      "Efficiency: 1\n",
      "Efficiency: 1\n",
      "Efficiency: 1\n",
      "Efficiency: 1\n",
      "Efficiency: 1\n",
      "Efficiency: 1\n",
      "Efficiency: 1\n",
      "Efficiency: 1\n",
      "Efficiency: 1\n",
      "Efficiency: 1\n",
      "Efficiency: 1\n",
      "Efficiency: 1\n",
      "Efficiency: 1\n",
      "Efficiency: 1\n",
      "Efficiency: 1\n",
      "Efficiency: 1\n",
      "Efficiency: 1\n",
      "Efficiency:  0.9166666666666666\n",
      "Efficiency: 1\n",
      "Efficiency: 1\n",
      "Efficiency: 1\n",
      "Efficiency:  0.9166666666666666\n",
      "Efficiency: 1\n",
      "Efficiency: 1\n",
      "Efficiency: 1\n",
      "Efficiency: 1\n",
      "Efficiency: 1\n",
      "Efficiency: 1\n",
      "Efficiency: 1\n",
      "Efficiency: 1\n",
      "Efficiency: 1\n",
      "Efficiency: 1\n",
      "Efficiency: 1\n",
      "Efficiency: 1\n",
      "Efficiency: 1\n",
      "Efficiency: 1\n",
      "Efficiency: 1\n",
      "Efficiency: 1\n",
      "Efficiency: 1\n",
      "Efficiency: 1\n",
      "Efficiency: 1\n",
      "Efficiency: 1\n",
      "Efficiency: 1\n",
      "Efficiency: 1\n",
      "Efficiency: 1\n",
      "Efficiency: 1\n",
      "Efficiency: 1\n",
      "Efficiency: 1\n",
      "Efficiency: 1\n",
      "Efficiency: 1\n",
      "Efficiency: 1\n",
      "Efficiency: 1\n",
      "Efficiency: 1\n",
      "Efficiency: 1\n",
      "Efficiency: 1\n",
      "Efficiency: 1\n",
      "Efficiency: 1\n",
      "Efficiency: 1\n",
      "Efficiency: 1\n",
      "Efficiency: 1\n",
      "Efficiency: 1\n",
      "Efficiency: 1\n",
      "Efficiency: 1\n",
      "Efficiency: 1\n",
      "Efficiency: 1\n",
      "Efficiency: 1\n",
      "Efficiency: 1\n",
      "Efficiency: 1\n",
      "Efficiency: 1\n",
      "Efficiency: 1\n",
      "Efficiency: 1\n",
      "Efficiency: 1\n",
      "Efficiency: 1\n",
      "Efficiency: 1\n",
      "Efficiency: 1\n",
      "Efficiency: 1\n",
      "Efficiency: 1\n",
      "Efficiency: 1\n",
      "Efficiency: 1\n",
      "Efficiency: 1\n",
      "Efficiency:  0.9166666666666666\n",
      "Efficiency: 1\n",
      "Efficiency: 1\n",
      "Efficiency: 1\n",
      "Efficiency:  0.8333333333333334\n",
      "Efficiency: 1\n",
      "Efficiency: 1\n",
      "Efficiency: 1\n",
      "Efficiency: 1\n",
      "Efficiency: 1\n",
      "Efficiency: 1\n",
      "Efficiency: 1\n",
      "Efficiency: 1\n",
      "Efficiency: 1\n",
      "Efficiency:  0.9166666666666666\n",
      "Efficiency: 1\n",
      "Efficiency: 1\n",
      "Efficiency: 1\n",
      "Efficiency: 1\n",
      "Efficiency: 1\n",
      "Efficiency: 1\n",
      "Efficiency: 1\n",
      "Efficiency: 1\n",
      "Efficiency: 1\n",
      "Efficiency: 1\n",
      "Efficiency: 1\n",
      "Efficiency: 1\n",
      "Efficiency: 1\n",
      "Efficiency: 1\n",
      "Efficiency: 1\n",
      "Efficiency: 1\n",
      "Efficiency: 1\n",
      "Efficiency: 1\n",
      "Efficiency: 1\n",
      "Efficiency: 1\n",
      "Efficiency: 1\n",
      "Efficiency:  0.75\n",
      "Efficiency:  0.6666666666666667\n",
      "Efficiency: 1\n",
      "Efficiency: 1\n",
      "Efficiency: 1\n",
      "Efficiency: 1\n",
      "Efficiency: 1\n",
      "Efficiency: 1\n",
      "Efficiency: 1\n",
      "Efficiency: 1\n",
      "Efficiency: 1\n",
      "Efficiency: 1\n",
      "Efficiency: 1\n",
      "Efficiency: 1\n",
      "Efficiency: 1\n",
      "Efficiency: 1\n",
      "Efficiency: 1\n",
      "Efficiency: 1\n",
      "Efficiency: 1\n",
      "Efficiency: 1\n",
      "Efficiency: 1\n",
      "Efficiency:  0.9166666666666666\n",
      "Efficiency: 1\n",
      "Efficiency: 1\n",
      "Efficiency: 1\n",
      "Efficiency: 1\n",
      "Efficiency: 1\n",
      "Efficiency: 1\n",
      "Efficiency: 1\n",
      "Efficiency: 1\n",
      "Efficiency: 1\n",
      "Efficiency: 1\n",
      "Efficiency: 1\n",
      "Efficiency: 1\n",
      "Efficiency: 1\n",
      "Efficiency: 1\n",
      "Efficiency: 1\n",
      "Efficiency: 1\n",
      "Efficiency: 1\n",
      "Efficiency: 1\n",
      "Efficiency: 1\n",
      "Efficiency: 1\n",
      "Efficiency: 1\n",
      "Efficiency: 1\n",
      "Efficiency: 1\n",
      "Efficiency: 1\n",
      "Efficiency: 1\n",
      "Efficiency: 1\n",
      "Efficiency: 1\n",
      "Efficiency: 1\n",
      "Efficiency: 1\n",
      "Efficiency: 1\n",
      "Efficiency: 1\n",
      "Efficiency: 1\n",
      "Efficiency: 1\n",
      "Efficiency: 1\n",
      "Efficiency: 1\n",
      "Efficiency: 1\n",
      "Efficiency: 1\n",
      "Efficiency: 1\n",
      "Efficiency: 1\n",
      "Efficiency: 1\n",
      "Efficiency: 1\n",
      "Efficiency: 1\n",
      "Efficiency: 1\n",
      "Efficiency: 1\n",
      "Efficiency: 1\n",
      "Efficiency: 1\n",
      "Efficiency: 1\n",
      "Efficiency: 1\n",
      "Efficiency: 1\n",
      "Efficiency: 1\n",
      "Efficiency: 1\n",
      "Efficiency: 1\n",
      "Efficiency: 1\n",
      "Efficiency: 1\n",
      "Efficiency: 1\n",
      "Efficiency: 1\n",
      "Efficiency:  0.8333333333333334\n",
      "Efficiency: 1\n",
      "Efficiency: 1\n",
      "Efficiency: 1\n",
      "Efficiency: 1\n",
      "Efficiency: 1\n",
      "Efficiency: 1\n",
      "Efficiency:  0.6666666666666667\n",
      "Efficiency:  0.9166666666666666\n",
      "Efficiency: 1\n",
      "Efficiency: 1\n",
      "Efficiency: 1\n",
      "Efficiency: 1\n",
      "Efficiency: 1\n",
      "Efficiency: 1\n",
      "Efficiency: 1\n",
      "Efficiency: 1\n",
      "Efficiency: 1\n",
      "Efficiency: 1\n",
      "Efficiency: 1\n",
      "Efficiency: 1\n",
      "Efficiency: 1\n",
      "Efficiency: 1\n",
      "Efficiency: 1\n",
      "Efficiency: 1\n",
      "Efficiency:  0.75\n",
      "Efficiency:  0.75\n",
      "Efficiency: 1\n",
      "Efficiency: 1\n",
      "Efficiency: 1\n",
      "Efficiency: 1\n",
      "Efficiency:  0.9166666666666666\n",
      "Efficiency: 1\n",
      "Efficiency: 1\n",
      "Efficiency: 1\n",
      "Efficiency: 1\n",
      "Efficiency: 1\n",
      "Efficiency: 1\n",
      "Efficiency: 1\n",
      "Efficiency: 1\n",
      "Efficiency: 1\n",
      "Efficiency: 1\n",
      "Efficiency: 1\n",
      "Efficiency: 1\n",
      "Efficiency: 1\n",
      "Efficiency: 1\n",
      "Efficiency: 1\n",
      "Efficiency: 1\n",
      "Efficiency: 1\n",
      "Efficiency: 1\n",
      "Efficiency: 1\n",
      "Efficiency: 1\n",
      "Efficiency: 1\n",
      "Efficiency: 1\n",
      "Efficiency: 1\n",
      "Efficiency: 1\n",
      "Efficiency: 1\n",
      "Efficiency: 1\n",
      "Efficiency: 1\n",
      "Efficiency: 1\n",
      "Efficiency: 1\n",
      "Efficiency: 1\n",
      "Efficiency: 1\n",
      "Efficiency: 1\n",
      "Efficiency: 1\n",
      "Efficiency: 1\n",
      "Efficiency: 1\n",
      "Efficiency: 1\n",
      "Efficiency: 1\n",
      "Efficiency: 1\n",
      "Efficiency: 1\n",
      "Efficiency: 1\n",
      "Efficiency: 1\n",
      "Efficiency: 1\n",
      "Efficiency: 1\n",
      "Efficiency: 1\n",
      "Efficiency: 1\n",
      "Efficiency: 1\n",
      "Efficiency: 1\n",
      "Efficiency: 1\n",
      "Efficiency: 1\n",
      "Efficiency: 1\n",
      "Efficiency: 1\n",
      "Efficiency: 1\n",
      "Efficiency: 1\n",
      "Efficiency: 1\n",
      "Efficiency: 1\n",
      "Efficiency: 1\n",
      "Efficiency: 1\n",
      "Efficiency: 1\n",
      "Efficiency: 1\n",
      "Efficiency: 1\n",
      "Efficiency: 1\n",
      "Efficiency: 1\n",
      "Efficiency: 1\n",
      "Efficiency: 1\n",
      "Efficiency: 1\n",
      "Efficiency: 1\n",
      "Efficiency: 1\n",
      "Efficiency: 1\n",
      "Efficiency: 1\n",
      "Efficiency: 1\n",
      "Efficiency: 1\n",
      "Efficiency: 1\n",
      "Efficiency: 1\n",
      "Efficiency: 1\n",
      "Efficiency: 1\n",
      "Efficiency: 1\n",
      "Efficiency: 1\n",
      "Efficiency: 1\n",
      "Efficiency: 1\n",
      "Efficiency: 1\n",
      "Efficiency: 1\n",
      "Efficiency: 1\n",
      "Efficiency:  0.9166666666666666\n",
      "Efficiency: 1\n",
      "Efficiency: 1\n",
      "Efficiency: 1\n",
      "Efficiency: 1\n",
      "Efficiency: 1\n",
      "Efficiency: 1\n",
      "Efficiency: 1\n",
      "Efficiency: 1\n",
      "Efficiency: 1\n",
      "Efficiency: 1\n",
      "Efficiency: 1\n",
      "Efficiency: 1\n",
      "Efficiency: 1\n",
      "Efficiency: 1\n",
      "Efficiency: 1\n",
      "Efficiency: 1\n",
      "Efficiency: 1\n",
      "Efficiency: 1\n",
      "Efficiency: 1\n",
      "Efficiency: 1\n",
      "Efficiency:  0.75\n",
      "Efficiency: 1\n",
      "Efficiency: 1\n",
      "Efficiency: 1\n",
      "Efficiency: 1\n",
      "Efficiency: 1\n",
      "Efficiency: 1\n",
      "Efficiency: 1\n",
      "Efficiency: 1\n",
      "Efficiency: 1\n",
      "Efficiency: 1\n",
      "Efficiency: 1\n",
      "Efficiency: 1\n",
      "Efficiency: 1\n",
      "Efficiency: 1\n",
      "Efficiency: 1\n",
      "Efficiency: 1\n",
      "Efficiency:  0.9166666666666666\n",
      "Efficiency:  0.9166666666666666\n",
      "Efficiency: 1\n",
      "Efficiency: 1\n",
      "Efficiency: 1\n",
      "Efficiency: 1\n",
      "Efficiency: 1\n",
      "Efficiency: 1\n",
      "Efficiency: 1\n",
      "Efficiency: 1\n",
      "Efficiency: 1\n",
      "Efficiency: 1\n",
      "Efficiency:  0.9166666666666666\n",
      "Efficiency: 1\n",
      "Efficiency: 1\n",
      "Efficiency: 1\n",
      "Efficiency: 1\n",
      "Efficiency: 1\n",
      "Efficiency: 1\n",
      "Efficiency: 1\n",
      "Efficiency: 1\n",
      "Efficiency: 1\n"
     ]
    }
   ],
   "source": [
    "for i in range(len(columns_sum)):\n",
    "    if(columns_sum[i]>=1):\n",
    "        print(\"Efficiency: \", 1-(1/12)*columns_sum[i])\n",
    "    else:\n",
    "        print(\"Efficiency: 1\")"
   ]
  },
  {
   "cell_type": "code",
   "execution_count": null,
   "id": "23154299",
   "metadata": {},
   "outputs": [],
   "source": []
  }
 ],
 "metadata": {
  "kernelspec": {
   "display_name": "Python 3 (ipykernel)",
   "language": "python",
   "name": "python3"
  },
  "language_info": {
   "codemirror_mode": {
    "name": "ipython",
    "version": 3
   },
   "file_extension": ".py",
   "mimetype": "text/x-python",
   "name": "python",
   "nbconvert_exporter": "python",
   "pygments_lexer": "ipython3",
   "version": "3.11.4"
  }
 },
 "nbformat": 4,
 "nbformat_minor": 5
}
